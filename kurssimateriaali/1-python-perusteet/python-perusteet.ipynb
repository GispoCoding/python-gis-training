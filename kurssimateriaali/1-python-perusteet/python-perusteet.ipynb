{
 "cells": [
  {
   "cell_type": "markdown",
   "id": "795ac739-6d5b-4065-9e31-c19aeb461c87",
   "metadata": {},
   "source": [
    "# Osa 1 - Pythonin perusteet\n",
    "\n",
    "Tässä osiossa tutustutaan pythonin sekä ohjelmoinnin peruskäsitteisiin."
   ]
  },
  {
   "cell_type": "markdown",
   "id": "63064086-77a6-4156-a5d2-ea60b82a99ca",
   "metadata": {},
   "source": [
    "# Komennot\n",
    "\n",
    "Kuten kaikki tietokoneohjelmat, myös Python-ohjelmat koostuvat komennoista (command). Alla esimerkkikoodi, jossa `print`-komennolla tulostetaan konsoliin ensin `Hello` ja sitten `Python!`."
   ]
  },
  {
   "cell_type": "code",
   "execution_count": 1,
   "id": "87162072-9084-44fd-ac11-4fe8d7e722f8",
   "metadata": {},
   "outputs": [
    {
     "name": "stdout",
     "output_type": "stream",
     "text": [
      "Hello\n",
      "Python!\n"
     ]
    }
   ],
   "source": [
    "print(\"Hello\")\n",
    "print(\"Python!\")"
   ]
  },
  {
   "cell_type": "markdown",
   "id": "8f5e78b4-0abb-4f5e-9bf9-b1c53057ba94",
   "metadata": {},
   "source": [
    "Myös jo aiemmin näkemäsi laskutoimitukset ovat komentoja:"
   ]
  },
  {
   "cell_type": "code",
   "execution_count": 2,
   "id": "8d0039b5-ca0a-4160-8a44-e13ad368108c",
   "metadata": {},
   "outputs": [
    {
     "data": {
      "text/plain": [
       "16"
      ]
     },
     "execution_count": 2,
     "metadata": {},
     "output_type": "execute_result"
    }
   ],
   "source": [
    "1 - 5\n",
    "6 + 4\n",
    "2 * 10\n",
    "10 / 2\n",
    "2 ** 4"
   ]
  },
  {
   "cell_type": "markdown",
   "id": "f119e0e6-aab1-45e9-a8b1-e91a2c5c8d3a",
   "metadata": {},
   "source": [
    "Huomaa, että JupyterLab näyttää automaattisesti koodisolun alla aina vain solun viimeisen tuloksen. `print`-komennolla voidaan tulostaa koodissa useaankin otteeseen."
   ]
  },
  {
   "cell_type": "code",
   "execution_count": 3,
   "id": "ca54b4ad-41f5-49ff-b7c8-da55c8b68ebf",
   "metadata": {},
   "outputs": [
    {
     "name": "stdout",
     "output_type": "stream",
     "text": [
      "-4\n",
      "10\n",
      "20\n",
      "5.0\n",
      "16\n"
     ]
    }
   ],
   "source": [
    "print(1 - 5)\n",
    "print(6 + 4)\n",
    "print(2 * 10)\n",
    "print(10 / 2)\n",
    "print(2 ** 4)"
   ]
  },
  {
   "cell_type": "markdown",
   "id": "c281539d-8dbd-4316-89f0-484adbe0996e",
   "metadata": {},
   "source": [
    "## Harjoitus - print\n",
    "\n",
    "Kirjoita alla olevaan soluun koodi, joka tulostaa hymiön: `:)`"
   ]
  },
  {
   "cell_type": "code",
   "execution_count": null,
   "id": "bac4110a-9070-42e9-8111-cc05bd8ac691",
   "metadata": {},
   "outputs": [],
   "source": []
  },
  {
   "cell_type": "markdown",
   "id": "1831c622-70c3-42c3-8dc2-b6541cf71aaa",
   "metadata": {},
   "source": [
    "# Kommentit\n",
    "\n",
    "Python-kielessä rivit, joiden alussa on `#`-merkki, eivät vaikuta ohjelman toimintaan. Näitä kutsutaan kommenteiksi (comment), ja niillä voi selittää ohjelman toimintaa itselleen tai muille. Kommentti voi olla myös rivin lopussa.\n",
    "\n",
    "Alla kommentoitu koodinpätkä."
   ]
  },
  {
   "cell_type": "code",
   "execution_count": 4,
   "id": "78f8db64-7f7a-45dc-be19-16dc19b3a23e",
   "metadata": {},
   "outputs": [
    {
     "name": "stdout",
     "output_type": "stream",
     "text": [
      "Hello\n",
      "Python!\n"
     ]
    }
   ],
   "source": [
    "print(\"Hello\")\n",
    "# Tämä rivi ei tee mitään\n",
    "print(\"Python!\")  # Tulosta Python!"
   ]
  },
  {
   "cell_type": "markdown",
   "id": "e3216b6d-33ee-4609-9200-10a3188e9de6",
   "metadata": {},
   "source": [
    "# Muuttujat\n",
    "\n",
    "Koodissa tarvittavaa tietoa, esimerkiksi lukuarvon, voi tallentaa muuttujaan (variable).\n",
    "\n",
    "Alla esimerkki muuttujien luonnista ja käytöstä"
   ]
  },
  {
   "cell_type": "code",
   "execution_count": 5,
   "id": "79128d8b-101a-4183-b6ae-c7327530f767",
   "metadata": {},
   "outputs": [
    {
     "name": "stdout",
     "output_type": "stream",
     "text": [
      "15\n",
      "50\n"
     ]
    }
   ],
   "source": [
    "# Luodaan muuttujia\n",
    "number_1 = 10\n",
    "number_2 = 5\n",
    "\n",
    "# Käytetään muuttujia ja luodaan samalla uusia\n",
    "summed = number_1 + number_2\n",
    "multiplied = number_1 * number_2\n",
    "\n",
    "# Tulostetaan muuttujien arvot\n",
    "print(summed)\n",
    "print(multiplied)"
   ]
  },
  {
   "cell_type": "markdown",
   "id": "1b753bd2-ada9-4c6c-ba11-5f7ffa885f05",
   "metadata": {},
   "source": [
    "Pythonissa on huomionarvoista, että muuttujan arvo voi muuttua."
   ]
  },
  {
   "cell_type": "code",
   "execution_count": 6,
   "id": "85c48c78-7bc9-41c2-8dc8-81bffd932216",
   "metadata": {},
   "outputs": [
    {
     "name": "stdout",
     "output_type": "stream",
     "text": [
      "kymmenen\n"
     ]
    }
   ],
   "source": [
    "variable = 10\n",
    "variable = \"kymmenen\"\n",
    "\n",
    "print(variable)"
   ]
  },
  {
   "cell_type": "markdown",
   "id": "94460d1c-7ce7-4166-a7e5-ebc2da2fb408",
   "metadata": {},
   "source": [
    "## Harjoitus - muuttujien käyttö\n",
    "\n",
    "1. Määrittele muuttuja `a`, joka saa arvokseen 10\n",
    "2. laske uuteen muuttujaan `b` muuttujan `a`:n arvo kerrottuna kahdella\n",
    "3. tulosta muuttujan `b` arvo"
   ]
  },
  {
   "cell_type": "code",
   "execution_count": 7,
   "id": "74ceffd6-2345-434b-aadf-3a315e0dd077",
   "metadata": {},
   "outputs": [],
   "source": [
    "# Kirjoita ratkaisu\n"
   ]
  },
  {
   "cell_type": "code",
   "execution_count": 8,
   "id": "1ab88e27-2521-44e9-94d2-dd850164507d",
   "metadata": {},
   "outputs": [
    {
     "ename": "NameError",
     "evalue": "name 'a' is not defined",
     "output_type": "error",
     "traceback": [
      "\u001b[0;31m---------------------------------------------------------------------------\u001b[0m",
      "\u001b[0;31mNameError\u001b[0m                                 Traceback (most recent call last)",
      "Cell \u001b[0;32mIn[8], line 2\u001b[0m\n\u001b[1;32m      1\u001b[0m \u001b[38;5;66;03m# Tämä solu tarkistaa ratkaisusi\u001b[39;00m\n\u001b[0;32m----> 2\u001b[0m \u001b[38;5;28;01massert\u001b[39;00m \u001b[43ma\u001b[49m \u001b[38;5;241m==\u001b[39m \u001b[38;5;241m10\u001b[39m \u001b[38;5;129;01mand\u001b[39;00m b \u001b[38;5;241m==\u001b[39m \u001b[38;5;241m20\u001b[39m\n",
      "\u001b[0;31mNameError\u001b[0m: name 'a' is not defined"
     ]
    }
   ],
   "source": [
    "# Tämä solu tarkistaa ratkaisusi\n",
    "assert a == 10 and b == 20"
   ]
  },
  {
   "cell_type": "markdown",
   "id": "231258bb-e378-47ce-b106-de8c99c7ee17",
   "metadata": {},
   "source": [
    "# Tyypit\n",
    "\n",
    "Olemme nähneet jo kolmen eri tyypin (type) tietoa: Lainausmerkeillä `\"\"` merkittyjä merkkijonoja sekä kokonais- ja desimaalilukuja.\n",
    "\n",
    "`type`-komennolla voi selvittää tyyppejä:"
   ]
  },
  {
   "cell_type": "code",
   "execution_count": 9,
   "id": "37c49d05-74bf-4d0b-a858-b3e85483cf5d",
   "metadata": {},
   "outputs": [
    {
     "name": "stdout",
     "output_type": "stream",
     "text": [
      "<class 'str'>\n",
      "<class 'int'>\n",
      "<class 'float'>\n"
     ]
    }
   ],
   "source": [
    "print(type(\"merkkijono\"))\n",
    "print(type(1))\n",
    "print(type(0.5))"
   ]
  },
  {
   "cell_type": "markdown",
   "id": "28e0d35b-98b1-42aa-add5-534dab525dab",
   "metadata": {},
   "source": [
    "Pythonissa `str` (string) siis tarkoittaa merkkijonoa, `int` (integer) kokonaislukua ja `float` (floating-point number) desimaalilukua. \n",
    "\n",
    "Tyyppejä on monia, ja niitä voi myös luoda itse. Tässä esimerkkinä vielä totuusarvot `True` ja `False` (`bool`)."
   ]
  },
  {
   "cell_type": "code",
   "execution_count": 10,
   "id": "60fc744f-5761-420b-80f6-2efd27be8759",
   "metadata": {},
   "outputs": [
    {
     "name": "stdout",
     "output_type": "stream",
     "text": [
      "<class 'bool'>\n",
      "<class 'bool'>\n"
     ]
    }
   ],
   "source": [
    "print(type(True))\n",
    "print(type(False))"
   ]
  },
  {
   "cell_type": "markdown",
   "id": "2caee6d8-2cec-4166-b20a-d3097504d984",
   "metadata": {},
   "source": [
    "Tyypit ovat tärkeä osa ohjelmointia, sillä eri tyypit omaavat erilaisia ominaisuuksia. Esimerkiksi kokonais- ja desimaalilukuja voi käyttää matemaattisten operaattoreiden kanssa laskemiseen, kun taas muilla tyypeillä tämä ei välttämättä aina toimi.\n",
    "\n",
    "Seuraava solu toimii:"
   ]
  },
  {
   "cell_type": "code",
   "execution_count": 11,
   "id": "d536c980-f9b2-4d80-bbd1-59737cbdbfd7",
   "metadata": {},
   "outputs": [
    {
     "name": "stdout",
     "output_type": "stream",
     "text": [
      "2\n",
      "merkkijono\n",
      "GISGIS\n"
     ]
    }
   ],
   "source": [
    "print(1 + 1)\n",
    "print(\"merkki\" + \"jono\")\n",
    "print(2 * \"GIS\")"
   ]
  },
  {
   "cell_type": "markdown",
   "id": "88ed20f7-7720-4e15-bee6-c555164b4e07",
   "metadata": {},
   "source": [
    "Seuraavan solun operaatiot eivät sen sijaan toimi. Solu tuottaakin siis suoritettaessa virheen, tarkempana syynä `TypeError`:"
   ]
  },
  {
   "cell_type": "code",
   "execution_count": 12,
   "id": "35bffd8f-9231-4a29-b980-8db26d689bc0",
   "metadata": {},
   "outputs": [
    {
     "ename": "TypeError",
     "evalue": "unsupported operand type(s) for +: 'int' and 'str'",
     "output_type": "error",
     "traceback": [
      "\u001b[0;31m---------------------------------------------------------------------------\u001b[0m",
      "\u001b[0;31mTypeError\u001b[0m                                 Traceback (most recent call last)",
      "Cell \u001b[0;32mIn[12], line 1\u001b[0m\n\u001b[0;32m----> 1\u001b[0m \u001b[38;5;28mprint\u001b[39m(\u001b[38;5;241;43m1\u001b[39;49m\u001b[43m \u001b[49m\u001b[38;5;241;43m+\u001b[39;49m\u001b[43m \u001b[49m\u001b[38;5;124;43m\"\u001b[39;49m\u001b[38;5;124;43m1\u001b[39;49m\u001b[38;5;124;43m\"\u001b[39;49m)\n\u001b[1;32m      2\u001b[0m \u001b[38;5;28mprint\u001b[39m(\u001b[38;5;124m\"\u001b[39m\u001b[38;5;124mmerkki\u001b[39m\u001b[38;5;124m\"\u001b[39m \u001b[38;5;241m-\u001b[39m \u001b[38;5;124m\"\u001b[39m\u001b[38;5;124mjono\u001b[39m\u001b[38;5;124m\"\u001b[39m)\n\u001b[1;32m      3\u001b[0m \u001b[38;5;28mprint\u001b[39m(\u001b[38;5;124m\"\u001b[39m\u001b[38;5;124mGIS\u001b[39m\u001b[38;5;124m\"\u001b[39m \u001b[38;5;241m/\u001b[39m \u001b[38;5;241m2\u001b[39m)\n",
      "\u001b[0;31mTypeError\u001b[0m: unsupported operand type(s) for +: 'int' and 'str'"
     ]
    }
   ],
   "source": [
    "print(1 + \"1\")\n",
    "print(\"merkki\" - \"jono\")\n",
    "print(\"GIS\" / 2)"
   ]
  },
  {
   "cell_type": "markdown",
   "id": "b06afe0f-e582-4d0f-94e8-f6f71eefd53e",
   "metadata": {},
   "source": [
    "# Ehtolauseet ja vertailu\n",
    "\n",
    "On tyypillistä, että ohjelman suorituksen täytyy muuttua tiettyjen ehtojen mukaan. Usein ehdot perustuvat arvojen vertailuun. Alla Pythonin vertailuoperaattoorit:\n",
    "\n",
    "| Operaattori | Selite |\n",
    "|-|-|\n",
    "| `==` | Yhtä suuri |\n",
    "| `!=` | Erisuuri |\n",
    "| `>` | Suurempi |\n",
    "| `<` | Pienempi |\n",
    "| `>=` | Suurempi tai yhtä suuri |\n",
    "| `<=` | Pienempi tai yhtä suuri |\n",
    "\n",
    "Ehtoon perustuva koodi aloitetaan `if`-avainsanalla. Tämän jälkeen kirjoitetaan, usein yläpuolisia operaattoreita hyödyntäen, itse ehto. `if`-rivi päättyy kaksoispisteeseen `:`, jonka jälkeen seuraaville riveille kirjoitetaan koodi, joka suoritetaan *jos* ehto täyttyy. Alla yksinkertainen esimerkki:"
   ]
  },
  {
   "cell_type": "code",
   "execution_count": 13,
   "id": "096f471c-a150-427a-acfb-e96cb3acdc84",
   "metadata": {},
   "outputs": [
    {
     "name": "stdout",
     "output_type": "stream",
     "text": [
      "ehto täyttyi\n",
      "x on suurempi\n"
     ]
    }
   ],
   "source": [
    "x = 10\n",
    "y = 1\n",
    "\n",
    "if x > y:\n",
    "    print(\"ehto täyttyi\")\n",
    "    print(\"x on suurempi\")"
   ]
  },
  {
   "cell_type": "markdown",
   "id": "826c82b1-fff5-48e1-aeb6-adf9f59864cf",
   "metadata": {},
   "source": [
    "`if`-ehdon jälkeen voidaan valinnaisesti käyttää myös `elif` (else-if) ja `else`-avainsanalla alustettuja ehtoja.\n",
    "\n",
    "Tästä esimerkkinä hieman monimutkaisempi ohjelma, joka vertaa muuttujan `a` arvoa erilaisiin merkkijonoihin. Jos merkkijonot yhtenevät, kyseisen ehdon sisennetty koodilohko suoritetaan. Huomaa, että `elif`-avainsanan ehto tarkastetaan vain jos edeltävän `if`-avainsanan ehto ei täyty. Jos `if` tai `elif` ehdot eivät kumpikaan täyty, suoritetaan `else`-avainsanan lohko. Kaikissa tapauksissa suoritetaan viimeinen tulostuskomento."
   ]
  },
  {
   "cell_type": "code",
   "execution_count": 14,
   "id": "b6e8e860-7ead-4f2f-a8e4-fe116e2b0ebb",
   "metadata": {},
   "outputs": [
    {
     "name": "stdout",
     "output_type": "stream",
     "text": [
      "Python GIS\n"
     ]
    }
   ],
   "source": [
    "# Kokeile vaihtaa muuttujan arvoa ja aja solu uudestaan\n",
    "a = \"GIS\"\n",
    "\n",
    "if a == \"GIS\":\n",
    "    string_to_print = \"Python \" + a\n",
    "elif a == \"jono\":\n",
    "    string_to_print = \"merkki\" + a\n",
    "else:\n",
    "    string_to_print = a\n",
    "\n",
    "print(string_to_print)"
   ]
  },
  {
   "cell_type": "markdown",
   "id": "2cb23b11-1d94-4e8e-84e1-c99cb5b7b2ef",
   "metadata": {},
   "source": [
    "## Harjoitus - postitiivinen luku\n",
    "\n",
    "Tee ohjelma, joka testaa onko muuttuja `x` positiivinen luku.\n",
    "\n",
    "1. Määrittele muuttuja `x` ja anna sille arvoksi jokin luku\n",
    "2. Jos `x`:n arvo on positiivinen, se tulostetaan\n",
    "3. Jox `x`:n arvo on negatiivinen, ei tehdä mitään"
   ]
  },
  {
   "cell_type": "code",
   "execution_count": 15,
   "id": "62ad3f01-5776-48a4-854a-a9927a0d9ce2",
   "metadata": {},
   "outputs": [],
   "source": [
    "# Kirjoita ratkaisu\n"
   ]
  },
  {
   "cell_type": "markdown",
   "id": "6c617b3a-56a9-45d7-b2e1-4bd21f207575",
   "metadata": {},
   "source": [
    "Ehtoja voi myös yhdistellä loogisilla operaattoreilla `and` ja `or`:"
   ]
  },
  {
   "cell_type": "code",
   "execution_count": 16,
   "id": "89be387e-7950-475a-9606-3c85324d6864",
   "metadata": {},
   "outputs": [
    {
     "name": "stdout",
     "output_type": "stream",
     "text": [
      "sopiva\n"
     ]
    }
   ],
   "source": [
    "temperature = 15\n",
    "\n",
    "if temperature < 25 and temperature > 10:\n",
    "    print(\"sopiva\")\n",
    "elif temperature >= 25 or temperature <= 10:\n",
    "    print(\"liian kylmä tai kuuma\")"
   ]
  },
  {
   "cell_type": "markdown",
   "id": "b6c730aa-8c48-4d41-b412-25c61e2ec980",
   "metadata": {},
   "source": [
    "## Harjoitus - sää ja lämpötila\n",
    "\n",
    "Tee ohjelma, joka ehdottaa aktiviteettia sään ja lämpötilan perusteella.\n",
    "\n",
    "2. Jos sataa (eli muuttujaan `weather` on tallennettu \"raining\"), tulosta \"stay in!\"\n",
    "3. Jos ei sada ja lämpötila on yli 0, tulosta \"go outside!\""
   ]
  },
  {
   "cell_type": "code",
   "execution_count": 17,
   "id": "d6596208-0798-4f46-b6fa-38e5653a8810",
   "metadata": {},
   "outputs": [],
   "source": [
    "weather = \"raining\"\n",
    "temperature = 10\n",
    "\n",
    "# Kirjoita ratkaisu\n"
   ]
  },
  {
   "cell_type": "markdown",
   "id": "2479a839-f957-46d5-a55b-40d8efe1234d",
   "metadata": {},
   "source": [
    "# Funktiot\n",
    "\n",
    "Funktio (function) on koodia, joka kutsuttaessa suorittaa jonkin toiminnon. Funktio voi ottaa vastaan parametreja, jotka vaikuttavat sen suoritukseen, ja se voi myös palauttaa tietoa.\n",
    "\n",
    "Esimerkiksi `print` on pythonin sisäänrakennettu funktio, joka ottaa parametreinä tulostettavia arvoja, tulostaa ne, mutta ei palauta mitään. `type`-funktio sensijaan palauttaa parametrin tyypin.\n",
    "\n",
    "Funktiokutsu on siis muotoa:\n",
    "\n",
    "```python\n",
    "funktio(parametri_1, parametri_2, ... parametri_n)\n",
    "```\n",
    "\n",
    "Uusi funktio määritellään `def`-avainsanalla (define):"
   ]
  },
  {
   "cell_type": "code",
   "execution_count": 18,
   "id": "88c1c77f-c532-4ef0-8de1-01c674f04f88",
   "metadata": {},
   "outputs": [
    {
     "name": "stdout",
     "output_type": "stream",
     "text": [
      "Hello!\n",
      "Hello!\n",
      "Hello!\n"
     ]
    }
   ],
   "source": [
    "# Määritellään parametriton funktio, joka ei palauta mitään\n",
    "def greet():\n",
    "    print(\"Hello!\")\n",
    "\n",
    "# Käytetään funktiota\n",
    "greet()\n",
    "greet()\n",
    "greet()"
   ]
  },
  {
   "cell_type": "markdown",
   "id": "1fe62958-03a9-4623-8a79-dbd11bf23661",
   "metadata": {},
   "source": [
    "Seuraavaksi esimerkki funktiosta, jolla on parametreja ja joka palauttaa arvon:"
   ]
  },
  {
   "cell_type": "code",
   "execution_count": 19,
   "id": "33f5e38b-26b2-4cb1-ab76-aaea1f488583",
   "metadata": {},
   "outputs": [
    {
     "name": "stdout",
     "output_type": "stream",
     "text": [
      "Hello Python!\n",
      "Hello Me!\n"
     ]
    }
   ],
   "source": [
    "def make_greeting(name):  # yksi parametri: name\n",
    "    greeting = f\"Hello {name}!\"  # Luodaan tervehdys\n",
    "    return greeting  # palautetaan tervehdys\n",
    "\n",
    "greeting_1 = make_greeting(\"Python\")\n",
    "greeting_2 = make_greeting(name=\"Me\")  # parametrin nimi voidaan myös kirjoittaa näkyviin\n",
    "\n",
    "print(greeting_1)\n",
    "print(greeting_2)"
   ]
  },
  {
   "cell_type": "markdown",
   "id": "a2d46523-fd44-42b8-bdd6-bada748c369e",
   "metadata": {},
   "source": [
    "Huomaa ylläolevassa esimerkissä myös pelkkien lainausmerkkien `\"\"` sijaan `f\"\"`-muotoa olevan merkkijono. f-syntaksi mahdollistaa merkkijonon täydentämisen aaltosulkuihin `{}` merkityllä sisällöllä."
   ]
  },
  {
   "cell_type": "markdown",
   "id": "a79c0903-484e-4468-a64f-67b07306cc9d",
   "metadata": {},
   "source": [
    "Funktion sisällä voi siis olla mitä vaan koodia ja muita funktioita. Alla esimerkki:"
   ]
  },
  {
   "cell_type": "code",
   "execution_count": 20,
   "id": "eec9ee4e-312a-41db-9093-7dd6b3f4e26b",
   "metadata": {},
   "outputs": [],
   "source": [
    "def sum_two_positive_integers(a, b):\n",
    "    if type(a) != int or type(b) != int:\n",
    "        print(\"use integers only\")\n",
    "        # tyhjä return lopettaa funktion suorituksen palauttamatta mitään\n",
    "        return\n",
    "    if a < 0 or b < 0:\n",
    "        print(\"integers must be positive\")\n",
    "        return\n",
    "    return a + b  # palautetaan summa"
   ]
  },
  {
   "cell_type": "code",
   "execution_count": 21,
   "id": "0087091b-0103-447f-9c30-176a421acc80",
   "metadata": {},
   "outputs": [
    {
     "data": {
      "text/plain": [
       "5"
      ]
     },
     "execution_count": 21,
     "metadata": {},
     "output_type": "execute_result"
    }
   ],
   "source": [
    "sum_two_positive_integers(1, 4)"
   ]
  },
  {
   "cell_type": "code",
   "execution_count": 22,
   "id": "9bf559b7-4a09-4ab2-ba6f-6057fd5cff96",
   "metadata": {},
   "outputs": [
    {
     "name": "stdout",
     "output_type": "stream",
     "text": [
      "use integers only\n"
     ]
    }
   ],
   "source": [
    "sum_two_positive_integers(\"1\", 1)"
   ]
  },
  {
   "cell_type": "code",
   "execution_count": 23,
   "id": "cc8ef83c-2ef5-41db-97a5-38f8a303ef65",
   "metadata": {},
   "outputs": [
    {
     "name": "stdout",
     "output_type": "stream",
     "text": [
      "integers must be positive\n"
     ]
    }
   ],
   "source": [
    "sum_two_positive_integers(-1, 1)"
   ]
  },
  {
   "cell_type": "markdown",
   "id": "32ffe445-4286-4855-bc78-f8ceeeb1bbcc",
   "metadata": {},
   "source": [
    "## Harjoitus - lämpötilamuunnos\n",
    "\n",
    "Toteuta funktio `temp_f_to_c`, joka muuttaa fahrenheit-lämpötiloja celcius-asteiksi. Funktiolla on siis yksi parametri: lämpötilan fahrenheit-asteina, ja se palauttaa yhden arvon: lämpötilan muunnettuna celcius-asteiksi.\n",
    "\n",
    "1. Muunnoksen kaava on `°C = (°F - 32) × 5/9`\n",
    "2. Täydennä tämän perusteella funktioon koodi, joka laskee `temp_f` muuttujan perusteella celcius-lämpötilan muuttujaan `temp_c`."
   ]
  },
  {
   "cell_type": "code",
   "execution_count": 24,
   "id": "3b508fbb-4a67-4891-8de7-17d8e781d5dd",
   "metadata": {},
   "outputs": [
    {
     "ename": "NameError",
     "evalue": "name 'temp_c' is not defined",
     "output_type": "error",
     "traceback": [
      "\u001b[0;31m---------------------------------------------------------------------------\u001b[0m",
      "\u001b[0;31mNameError\u001b[0m                                 Traceback (most recent call last)",
      "Cell \u001b[0;32mIn[24], line 7\u001b[0m\n\u001b[1;32m      4\u001b[0m     \u001b[38;5;28;01mreturn\u001b[39;00m temp_c\n\u001b[1;32m      6\u001b[0m \u001b[38;5;66;03m# Esimerkki funktion käytöstä\u001b[39;00m\n\u001b[0;32m----> 7\u001b[0m \u001b[43mtemp_f_to_c\u001b[49m\u001b[43m(\u001b[49m\u001b[38;5;241;43m100\u001b[39;49m\u001b[43m)\u001b[49m\n",
      "Cell \u001b[0;32mIn[24], line 4\u001b[0m, in \u001b[0;36mtemp_f_to_c\u001b[0;34m(temp_f)\u001b[0m\n\u001b[1;32m      1\u001b[0m \u001b[38;5;28;01mdef\u001b[39;00m \u001b[38;5;21mtemp_f_to_c\u001b[39m(temp_f):\n\u001b[1;32m      2\u001b[0m     \u001b[38;5;66;03m# Kirjoita ratkaisu tänne\u001b[39;00m\n\u001b[0;32m----> 4\u001b[0m     \u001b[38;5;28;01mreturn\u001b[39;00m \u001b[43mtemp_c\u001b[49m\n",
      "\u001b[0;31mNameError\u001b[0m: name 'temp_c' is not defined"
     ]
    }
   ],
   "source": [
    "def temp_f_to_c(temp_f):\n",
    "    # Kirjoita ratkaisu tänne\n",
    "    \n",
    "    return temp_c\n",
    "\n",
    "# Esimerkki funktion käytöstä\n",
    "temp_f_to_c(100)"
   ]
  },
  {
   "cell_type": "markdown",
   "id": "949f9f31-c4b8-46df-8962-e36a8f9a3370",
   "metadata": {},
   "source": [
    "Alla oleva solu testaa ratkaisusi: Jos se menee virheettä läpi, funktiosi on oikein!"
   ]
  },
  {
   "cell_type": "code",
   "execution_count": 25,
   "id": "34a599f9-00e6-446e-9bf0-0a4b5c5c6763",
   "metadata": {},
   "outputs": [
    {
     "ename": "NameError",
     "evalue": "name 'temp_c' is not defined",
     "output_type": "error",
     "traceback": [
      "\u001b[0;31m---------------------------------------------------------------------------\u001b[0m",
      "\u001b[0;31mNameError\u001b[0m                                 Traceback (most recent call last)",
      "Cell \u001b[0;32mIn[25], line 1\u001b[0m\n\u001b[0;32m----> 1\u001b[0m \u001b[38;5;28;01massert\u001b[39;00m \u001b[43mtemp_f_to_c\u001b[49m\u001b[43m(\u001b[49m\u001b[38;5;241;43m5\u001b[39;49m\u001b[43m)\u001b[49m \u001b[38;5;241m==\u001b[39m \u001b[38;5;241m-\u001b[39m\u001b[38;5;241m15.0\u001b[39m \u001b[38;5;129;01mand\u001b[39;00m temp_f_to_c(\u001b[38;5;241m50\u001b[39m) \u001b[38;5;241m==\u001b[39m \u001b[38;5;241m10.0\u001b[39m, \u001b[38;5;124m\"\u001b[39m\u001b[38;5;124mFunktiosi ei toimi oikein!\u001b[39m\u001b[38;5;124m\"\u001b[39m\n",
      "Cell \u001b[0;32mIn[24], line 4\u001b[0m, in \u001b[0;36mtemp_f_to_c\u001b[0;34m(temp_f)\u001b[0m\n\u001b[1;32m      1\u001b[0m \u001b[38;5;28;01mdef\u001b[39;00m \u001b[38;5;21mtemp_f_to_c\u001b[39m(temp_f):\n\u001b[1;32m      2\u001b[0m     \u001b[38;5;66;03m# Kirjoita ratkaisu tänne\u001b[39;00m\n\u001b[0;32m----> 4\u001b[0m     \u001b[38;5;28;01mreturn\u001b[39;00m \u001b[43mtemp_c\u001b[49m\n",
      "\u001b[0;31mNameError\u001b[0m: name 'temp_c' is not defined"
     ]
    }
   ],
   "source": [
    "assert temp_f_to_c(5) == -15.0 and temp_f_to_c(50) == 10.0, \"Funktiosi ei toimi oikein!\""
   ]
  },
  {
   "cell_type": "markdown",
   "id": "f5cecde9-e665-4c0b-bf61-05f5b82fe3d0",
   "metadata": {},
   "source": [
    "# Lista\n",
    "\n",
    "Yksittäisten arvojen lisäksi Pythonissa on myös monia tietorakenteita, joihin voi tallettaa useita arvoja ja joista voi hakea tietoa eri tavoin. Seuraavassa esitellään näistä lista (list).\n",
    "\n",
    "Lista on kokoelma tietoa. Se luodaan hakasulkeilla `[]`, ja sen alkiot (item) erotetaan pilkulla `,`."
   ]
  },
  {
   "cell_type": "code",
   "execution_count": 26,
   "id": "a374ec2d-90f4-4403-99d7-2296b70f88fa",
   "metadata": {},
   "outputs": [],
   "source": [
    "my_list = [1, 2, 3]"
   ]
  },
  {
   "cell_type": "markdown",
   "id": "931f12bd-b5ec-4f57-b433-b826802907cb",
   "metadata": {},
   "source": [
    "Listan alkioihin pääsee käsiksi niiden indeksillä. Ensimmäisen alkion indeksi on 0, toisen 1, kolmannen 2 jne. Miinusmerkkiset indeksit viittaavat listan loppupäähän, eli listan viimeisen alkion indeksi on -1, toiseksi viimeinen -2 jne."
   ]
  },
  {
   "cell_type": "code",
   "execution_count": 27,
   "id": "5cbec42c-c704-45cf-8f2a-ff817358cbf0",
   "metadata": {},
   "outputs": [
    {
     "data": {
      "text/plain": [
       "'first_item'"
      ]
     },
     "execution_count": 27,
     "metadata": {},
     "output_type": "execute_result"
    }
   ],
   "source": [
    "# Määritellään lista\n",
    "items = [\"first_item\", \"second_item\", \"third_item\"]\n",
    "\n",
    "# Haetaan listan ensimmäinen alkio indeksillä 0\n",
    "items[0]"
   ]
  },
  {
   "cell_type": "markdown",
   "id": "ee550930-87fc-4adc-8a3f-566f9b27e728",
   "metadata": {},
   "source": [
    "Kokeile vaihtaa indeksiä yllä. Kokeile myös negatiivisia indeksejä.\n",
    "\n",
    "Huomaa, että listassa voi olla mitä vain tietoa, vaikka lisää listoja:"
   ]
  },
  {
   "cell_type": "code",
   "execution_count": 28,
   "id": "e27ad221-5c14-40b3-81e9-ac9b0949a32d",
   "metadata": {},
   "outputs": [
    {
     "data": {
      "text/plain": [
       "[1, 2, 3]"
      ]
     },
     "execution_count": 28,
     "metadata": {},
     "output_type": "execute_result"
    }
   ],
   "source": [
    "everything = [True, 3.14, \"yes\", my_list]\n",
    "\n",
    "everything[-1]"
   ]
  },
  {
   "cell_type": "markdown",
   "id": "477167d1-7f37-4572-9397-85ea93b49143",
   "metadata": {},
   "source": [
    "Listan pituus voidaan selvittää Pythonin sisäänrakennetulla `len`-funktiolla:"
   ]
  },
  {
   "cell_type": "code",
   "execution_count": 29,
   "id": "5170a059-018f-4627-a43f-f4342a401e2d",
   "metadata": {},
   "outputs": [
    {
     "name": "stdout",
     "output_type": "stream",
     "text": [
      "4\n"
     ]
    }
   ],
   "source": [
    "print(len(everything))"
   ]
  },
  {
   "cell_type": "markdown",
   "id": "b352e839-1f85-4043-8ea5-a9a02d8e2325",
   "metadata": {},
   "source": [
    "## Harjoitus - listan viimeinen alkio\n",
    "\n",
    "Toteuta funktio `get_last_item`, joka palauttaa sille parametrina annetun listan viimeisen alkion.\n",
    "\n",
    "1. Miten haet parametrina annetusta listasta `input_list` viimeisen alkion?\n",
    "2. Palauta viimeinen alkio `return`-avainsanalla"
   ]
  },
  {
   "cell_type": "code",
   "execution_count": 30,
   "id": "19ec19f3-0971-49a3-827f-259816393712",
   "metadata": {},
   "outputs": [],
   "source": [
    "def get_last_item(input_list):\n",
    "    # Kirjoita ratkaisu\n",
    "    \n",
    "    return"
   ]
  },
  {
   "cell_type": "markdown",
   "id": "b87c3127-0402-4f83-87fc-d1b4f7a1face",
   "metadata": {},
   "source": [
    "Alla olevassa solussa esimerkki funktion käytöstä:"
   ]
  },
  {
   "cell_type": "code",
   "execution_count": 31,
   "id": "8d1f29a2-70b7-4c8d-b215-fa044458099e",
   "metadata": {},
   "outputs": [
    {
     "name": "stdout",
     "output_type": "stream",
     "text": [
      "None\n"
     ]
    }
   ],
   "source": [
    "my_list = [1, 2, 3]\n",
    "\n",
    "last_item = get_last_item(my_list)\n",
    "\n",
    "print(last_item)  # Pitäisi tulostua 3"
   ]
  },
  {
   "cell_type": "markdown",
   "id": "84582085-8839-4234-8d09-ab8afde03dfb",
   "metadata": {},
   "source": [
    "# for-silmukka\n",
    "\n",
    "Kuvitellaan, että täytyy suorittaa jokin analyysi Helsingin jokaiselle kaupunginosalle. Kaupunginosat voisivat olla listassa:"
   ]
  },
  {
   "cell_type": "code",
   "execution_count": 32,
   "id": "f845ee01-e516-47b5-86a6-421e4161c58d",
   "metadata": {},
   "outputs": [],
   "source": [
    "districts = [\n",
    "    \"Alppiharju\",\n",
    "    \"Eira\",\n",
    "    \"Etu-Toolo\",\n",
    "    \"Haaga\",\n",
    "]"
   ]
  },
  {
   "cell_type": "markdown",
   "id": "7b874a1f-d455-4aac-90d8-f4da40d287db",
   "metadata": {},
   "source": [
    "Listaa voitaisiin käsitellä kuten aiemmin, eli hakea yksitellen listan jokainen alkio, ja tehdä sille tarvittavat toimenpiteet:"
   ]
  },
  {
   "cell_type": "code",
   "execution_count": 33,
   "id": "3c6a1c5c-5658-45dd-af56-7c043fa4f2dd",
   "metadata": {},
   "outputs": [
    {
     "name": "stdout",
     "output_type": "stream",
     "text": [
      "Alppiharju\n",
      "Eira\n",
      "Etu-Toolo\n",
      "Haaga\n"
     ]
    }
   ],
   "source": [
    "district = districts[0]\n",
    "print(district)\n",
    "\n",
    "district = districts[1]\n",
    "print(district)\n",
    "\n",
    "district = districts[2]\n",
    "print(district)\n",
    "\n",
    "district = districts[3]\n",
    "print(district)"
   ]
  },
  {
   "cell_type": "markdown",
   "id": "d43d43a7-8306-4e24-957c-f4fa39b8e2aa",
   "metadata": {},
   "source": [
    "Vaikka nyt kaupunginosia on vain neljä ja toimenpiteenä on ainoastaan `print(district)`, huomaat, että toimintatapa ei ole kovin järkevä: Koodia täytyy kopioida, ja jos alkioiden tai toimenpiteiden määrä olisi suurempi, lähtisi koodin määrä käsistä. Jos listan pituus muuttuisi, täytyisi koodirivejä myös aina manuaalisesti lisätä tai poistaa alkioiden määrän mukaan.\n",
    "\n",
    "Tämä ongelma voidaan ratkaista **for-silmukalla** (for loop). For-silmukka mahdollistaa samojen komentojen toistamisen useaan kertaan - tarkemmin sanottuna se käy läpi jonkin tietorakenteen kaikki osat (esimerkiksi listan alkiot) yksi kerrallaan. Tällaista läpikäyntiä kutsutaan iteroinniksi (iteration).\n",
    "\n",
    "Alla nähdään, kuinka aiempi esimerkki typistyy for-silmukalla kahteen koodiriviin:"
   ]
  },
  {
   "cell_type": "code",
   "execution_count": 34,
   "id": "61f19792-16a3-49c5-8888-147e522880b9",
   "metadata": {},
   "outputs": [
    {
     "name": "stdout",
     "output_type": "stream",
     "text": [
      "Alppiharju\n",
      "Eira\n",
      "Etu-Toolo\n",
      "Haaga\n"
     ]
    }
   ],
   "source": [
    "for district in districts:\n",
    "    print(district)"
   ]
  },
  {
   "cell_type": "markdown",
   "id": "32089d63-7508-40ca-851e-457399bec4fd",
   "metadata": {},
   "source": [
    "for-silmukan syntaksi on siis muotoa:\n",
    "\n",
    "```python\n",
    "for <muuttuja> in <tietorakenne>:\n",
    "    <suoritettava koodi>\n",
    "```\n",
    "\n",
    "`<muuttuja>`:n arvo riippuu siis tietorakenteesta. Esimerkiksi listassa se saa arvokseen jokaisen listan alkion vuorollaan:"
   ]
  },
  {
   "cell_type": "code",
   "execution_count": 35,
   "id": "b0fdad51-8c38-471e-8bfa-5d798584fa7f",
   "metadata": {},
   "outputs": [
    {
     "name": "stdout",
     "output_type": "stream",
     "text": [
      "1\n",
      "2\n",
      "3\n",
      "1\n",
      "2\n",
      "3\n"
     ]
    }
   ],
   "source": [
    "my_list = [1, 2, 3]\n",
    "\n",
    "for item in my_list:\n",
    "    print(item)\n",
    "\n",
    "for i in my_list:  # for-silmukan muuttuja voidaan nimetä miten vain\n",
    "    print(i)"
   ]
  },
  {
   "cell_type": "markdown",
   "id": "89e65dcb-e2be-4623-8746-cdc56c078b3e",
   "metadata": {},
   "source": [
    "## Harjoitus - iterointi ja ehtolause\n",
    "\n",
    "Käy läpi kaupunginosalista `districts` for-silmukalla. Tulosta jokaisen kaupunginosan nimi, paitsi jo kaupunginosa on nimeltään \"Etu-Toolo\": Tässä tapauksessa tulosta nimi niin, että öökköset ovat paikallaan (eli `Etu-Töölö`)."
   ]
  },
  {
   "cell_type": "code",
   "execution_count": 36,
   "id": "76f88c61-07ce-4333-b72f-9fc91010f49c",
   "metadata": {},
   "outputs": [],
   "source": [
    "# Kirjoita ratkaisu\n"
   ]
  },
  {
   "cell_type": "markdown",
   "id": "1a1c246c-03d0-4c19-91c0-aa151e255b93",
   "metadata": {},
   "source": [
    "# Oliot\n",
    "\n",
    "Olio (object) on keskeinen käsite Pythonissa. Esimerkiksi kaikki kielessä esiintyvät arvot, kuten luvut, merkkijonot tai listat, ovat olioita – kukin vain omaa tyyppiään.\n",
    "\n",
    "Käytännössä olio tarkoittaa kokonaisuutta, joka voi pitää sisällään tietoa sekä toiminaallisuuksia. Esimerkiksi merkkijonoon liittyy itse merkkijonon lisäksi olion toteuttamia toiminnalisuuksia eli metodeja (method). Olioon liittyvää tietoa kutsutaan attribuutiksi (attribute). Kunkin olion metodit ja attribuutit ovat sidottuja olion tyyppiin: esim. kokonaisluku-olion metodit ovat merkkijonoon nähden erilaisia.\n",
    "\n",
    "Tavallisista funktioista metodit eroavat siinä, että niitä kutsutaan aina kohteena olevan olion kautta. Sama pätee attribuutteihin: toisin kuin tavallinen muuttuja, attribuutti haetaan olion kautta. Alla esimerkki syntaksista:\n",
    "\n",
    "```python\n",
    "my_object.method()   # metodikutsu\n",
    "my_object.attribute  # attribuutti\n",
    "```\n",
    "\n",
    "Tarkastellaan lista-olion metodeja."
   ]
  },
  {
   "cell_type": "code",
   "execution_count": 37,
   "id": "4a1e3ff9-453e-4748-a31d-03b38631d82e",
   "metadata": {},
   "outputs": [],
   "source": [
    "my_list = [32, 8, 2, 16, 4]"
   ]
  },
  {
   "cell_type": "code",
   "execution_count": 38,
   "id": "b55167b1-6fd2-4029-ab58-f9f0eefbeaee",
   "metadata": {},
   "outputs": [
    {
     "data": {
      "text/plain": [
       "[2, 4, 8, 16, 32]"
      ]
     },
     "execution_count": 38,
     "metadata": {},
     "output_type": "execute_result"
    }
   ],
   "source": [
    "# Järjestäminen sort-metodilla\n",
    "my_list.sort()\n",
    "my_list"
   ]
  },
  {
   "cell_type": "code",
   "execution_count": 39,
   "id": "28515df8",
   "metadata": {},
   "outputs": [
    {
     "data": {
      "text/plain": [
       "[32, 16, 8, 4, 2]"
      ]
     },
     "execution_count": 39,
     "metadata": {},
     "output_type": "execute_result"
    }
   ],
   "source": [
    "# Metodeilla voi olla parametreja aivan kuin funktioillakin\n",
    "my_list.sort(reverse=True)\n",
    "my_list"
   ]
  },
  {
   "cell_type": "code",
   "execution_count": 40,
   "id": "4d1a7087-5888-44fc-bea9-539a91eefd3a",
   "metadata": {},
   "outputs": [
    {
     "data": {
      "text/plain": [
       "[32, 16, 8, 4, 2, 64]"
      ]
     },
     "execution_count": 40,
     "metadata": {},
     "output_type": "execute_result"
    }
   ],
   "source": [
    "# Lisäys append-metodilla\n",
    "my_list.append(64)\n",
    "my_list"
   ]
  },
  {
   "cell_type": "markdown",
   "id": "4b11e78c-afc7-4dd6-9e04-81e90772718c",
   "metadata": {},
   "source": [
    "## Harjoitus - poisto listasta\n",
    "\n",
    "Poista listasta `my_list` alkio `32`.\n",
    "\n",
    "1. Vihje: Kirjoita koodisoluun `my_list.` (huomaa piste!) ja paina `tab`-näppäintä. Näin näät listalle saatavilla olevat metodit. Tab-näppäintä uudelleen painamalla voit selata ehdotuksia alaspäin.\n",
    "2. Vihje: Kun olet löytänyt sopivan metodin, voit antaa sille parametrina sen alkion, jonka haluat poistaa."
   ]
  },
  {
   "cell_type": "code",
   "execution_count": 41,
   "id": "64601600-3393-402a-88fb-504148ef2351",
   "metadata": {},
   "outputs": [],
   "source": [
    "# Kirjoita ratkaisu\n"
   ]
  }
 ],
 "metadata": {
  "kernelspec": {
   "display_name": "Python 3 (ipykernel)",
   "language": "python",
   "name": "python3"
  },
  "language_info": {
   "codemirror_mode": {
    "name": "ipython",
    "version": 3
   },
   "file_extension": ".py",
   "mimetype": "text/x-python",
   "name": "python",
   "nbconvert_exporter": "python",
   "pygments_lexer": "ipython3",
   "version": "3.12.7"
  }
 },
 "nbformat": 4,
 "nbformat_minor": 5
}
