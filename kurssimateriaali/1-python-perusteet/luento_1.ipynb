{
 "cells": [
  {
   "cell_type": "markdown",
   "id": "795ac739-6d5b-4065-9e31-c19aeb461c87",
   "metadata": {},
   "source": [
    "# Luento 1 - Pythonin perusteet\n",
    "\n",
    "Tässä osiossa tutustutaan pythonin sekä ohjelmoinnin peruskäsitteisiin.\n",
    "\n",
    "**Huomaa**, että olemme interaktiivisessa ympäristössä - voit siis suorittaa ja muokata kaikkea koodia itse samalla kun luet / kuuntelet / katselet!"
   ]
  },
  {
   "cell_type": "markdown",
   "id": "63064086-77a6-4156-a5d2-ea60b82a99ca",
   "metadata": {},
   "source": [
    "## Komennot\n",
    "\n",
    "Kuten kaikki tietokoneohjelmat, myös Python-ohjelmat koostuvat komennoista (command). Alla esimerkkikoodi, jossa `print`-komennolla tulostetaan konsoliin ensin `Hello`ja sitten `Python!`."
   ]
  },
  {
   "cell_type": "code",
   "execution_count": 1,
   "id": "87162072-9084-44fd-ac11-4fe8d7e722f8",
   "metadata": {},
   "outputs": [
    {
     "name": "stdout",
     "output_type": "stream",
     "text": [
      "Hello\n",
      "Python!\n"
     ]
    }
   ],
   "source": [
    "print(\"Hello\")\n",
    "print(\"Python!\")"
   ]
  },
  {
   "cell_type": "markdown",
   "id": "8f5e78b4-0abb-4f5e-9bf9-b1c53057ba94",
   "metadata": {},
   "source": [
    "Myös jo aiemmin näkemäsi laskutoimitukset ovat komentoja. Huomaa, että JupyterLab näyttää automaattisesti koodisolun alla aina vain solun viimeisen tuloksen. `print`-komennolla voidaan tulostaa koodissa useaankin otteeseen."
   ]
  },
  {
   "cell_type": "code",
   "execution_count": 2,
   "id": "8d0039b5-ca0a-4160-8a44-e13ad368108c",
   "metadata": {},
   "outputs": [
    {
     "data": {
      "text/plain": [
       "16"
      ]
     },
     "execution_count": 2,
     "metadata": {},
     "output_type": "execute_result"
    }
   ],
   "source": [
    "1 - 5\n",
    "6 + 4\n",
    "2 * 10\n",
    "10 / 2\n",
    "2 ** 4"
   ]
  },
  {
   "cell_type": "code",
   "execution_count": 3,
   "id": "ca54b4ad-41f5-49ff-b7c8-da55c8b68ebf",
   "metadata": {},
   "outputs": [
    {
     "name": "stdout",
     "output_type": "stream",
     "text": [
      "-4\n",
      "10\n",
      "20\n",
      "5.0\n",
      "16\n"
     ]
    }
   ],
   "source": [
    "print(1 - 5)\n",
    "print(6 + 4)\n",
    "print(2 * 10)\n",
    "print(10 / 2)\n",
    "print(2 ** 4)"
   ]
  },
  {
   "cell_type": "markdown",
   "id": "1831c622-70c3-42c3-8dc2-b6541cf71aaa",
   "metadata": {},
   "source": [
    "## Kommentit\n",
    "\n",
    "Python-kielessä rivit, joiden alussa on `#`-merkki, eivät vaikuta ohjelman toimintaan. Näitä kutsutaan kommenteiksi (comment), ja niillä voi selittää ohjelman toimintaa itselleen tai muille. Kommentti voi olla myös rivin lopussa.\n",
    "\n",
    "Alla kommentoitu koodinpätkä."
   ]
  },
  {
   "cell_type": "code",
   "execution_count": 4,
   "id": "78f8db64-7f7a-45dc-be19-16dc19b3a23e",
   "metadata": {},
   "outputs": [
    {
     "name": "stdout",
     "output_type": "stream",
     "text": [
      "Hello\n",
      "Python!\n"
     ]
    }
   ],
   "source": [
    "print(\"Hello\")\n",
    "# Tämä rivi ei tee mitään\n",
    "print(\"Python!\")  # Tulosta Python!"
   ]
  },
  {
   "cell_type": "markdown",
   "id": "e3216b6d-33ee-4609-9200-10a3188e9de6",
   "metadata": {},
   "source": [
    "## Muuttujat\n",
    "\n",
    "Koodissa tarvittavaa tietoa, esimerkiksi lukuarvon, voi tallentaa muuttujaan (variable).\n",
    "\n",
    "Alla esimerkki muuttujien luonnista ja käytöstä"
   ]
  },
  {
   "cell_type": "code",
   "execution_count": 5,
   "id": "79128d8b-101a-4183-b6ae-c7327530f767",
   "metadata": {},
   "outputs": [
    {
     "name": "stdout",
     "output_type": "stream",
     "text": [
      "15\n",
      "50\n"
     ]
    }
   ],
   "source": [
    "# Luodaan muuttujia\n",
    "number1 = 10\n",
    "number2 = 5\n",
    "\n",
    "# Käytetään muuttujia ja luodaan samalla uusia\n",
    "summed = number1 + number2\n",
    "multiplied = number1 * number2\n",
    "\n",
    "# Tulostetaan muuttujien arvot\n",
    "print(summed)\n",
    "print(multiplied)"
   ]
  },
  {
   "cell_type": "markdown",
   "id": "1b753bd2-ada9-4c6c-ba11-5f7ffa885f05",
   "metadata": {},
   "source": [
    "Pythonissa on huomionarvoista, että muuttujan arvo voi muuttua."
   ]
  },
  {
   "cell_type": "code",
   "execution_count": 6,
   "id": "85c48c78-7bc9-41c2-8dc8-81bffd932216",
   "metadata": {},
   "outputs": [
    {
     "name": "stdout",
     "output_type": "stream",
     "text": [
      "kymmenen\n"
     ]
    }
   ],
   "source": [
    "variable = 10\n",
    "variable = \"kymmenen\"\n",
    "\n",
    "print(variable)"
   ]
  },
  {
   "cell_type": "markdown",
   "id": "231258bb-e378-47ce-b106-de8c99c7ee17",
   "metadata": {},
   "source": [
    "## Tyypit\n",
    "\n",
    "Olemme nähneet jo kolmen eri tyypin (type) tietoa: Lainausmerkeillä `\"\"` merkittyjä merkkijonoja sekä kokonais- ja desimaalilukuja.\n",
    "\n",
    "`type`-komennolla voi selvittää tyyppejä:"
   ]
  },
  {
   "cell_type": "code",
   "execution_count": 7,
   "id": "37c49d05-74bf-4d0b-a858-b3e85483cf5d",
   "metadata": {},
   "outputs": [
    {
     "name": "stdout",
     "output_type": "stream",
     "text": [
      "<class 'str'>\n",
      "<class 'int'>\n",
      "<class 'float'>\n"
     ]
    }
   ],
   "source": [
    "print(type(\"merkkijono\"))\n",
    "print(type(1))\n",
    "print(type(0.5))"
   ]
  },
  {
   "cell_type": "markdown",
   "id": "28e0d35b-98b1-42aa-add5-534dab525dab",
   "metadata": {},
   "source": [
    "Pythonissa `str` (string) siis tarkoittaa merkkijonoa, `int` (integer) kokonaislukua ja `float` (floating-point number) desimaalilukua. \n",
    "\n",
    "Tyyppejä on monia, ja niitä voi myös luoda itse. Tässä esimerkkinä vielä totuusarvot `True` ja `False` (`bool`)."
   ]
  },
  {
   "cell_type": "code",
   "execution_count": 8,
   "id": "60fc744f-5761-420b-80f6-2efd27be8759",
   "metadata": {},
   "outputs": [
    {
     "name": "stdout",
     "output_type": "stream",
     "text": [
      "<class 'bool'>\n",
      "<class 'bool'>\n"
     ]
    }
   ],
   "source": [
    "print(type(True))\n",
    "print(type(False))"
   ]
  },
  {
   "cell_type": "markdown",
   "id": "2caee6d8-2cec-4166-b20a-d3097504d984",
   "metadata": {},
   "source": [
    "Eri tyypit omaavat erilaisia ominaisuuksia. Esimerkiksi kokonais- ja desimaalilukuja voi käyttää matemaattisten operaattoreiden kanssa laskemiseen, kun taas muilla tyypeillä tämä ei välttämättä aina toimi.\n",
    "\n",
    "Seuraava solu toimii:"
   ]
  },
  {
   "cell_type": "code",
   "execution_count": 9,
   "id": "d536c980-f9b2-4d80-bbd1-59737cbdbfd7",
   "metadata": {},
   "outputs": [
    {
     "name": "stdout",
     "output_type": "stream",
     "text": [
      "2\n",
      "merkkijono\n",
      "GISGIS\n"
     ]
    }
   ],
   "source": [
    "print(1 + 1)\n",
    "print(\"merkki\" + \"jono\")\n",
    "print(2 * \"GIS\")"
   ]
  },
  {
   "cell_type": "markdown",
   "id": "88ed20f7-7720-4e15-bee6-c555164b4e07",
   "metadata": {},
   "source": [
    "Seuraavan solun operaatiot eivät sen sijaan toimi. Solu tuottaakin siis suoritettaessa virheen (exception), syynä `TypeError`:"
   ]
  },
  {
   "cell_type": "code",
   "execution_count": 10,
   "id": "35bffd8f-9231-4a29-b980-8db26d689bc0",
   "metadata": {},
   "outputs": [
    {
     "ename": "TypeError",
     "evalue": "unsupported operand type(s) for +: 'int' and 'str'",
     "output_type": "error",
     "traceback": [
      "\u001b[0;31m---------------------------------------------------------------------------\u001b[0m",
      "\u001b[0;31mTypeError\u001b[0m                                 Traceback (most recent call last)",
      "Cell \u001b[0;32mIn[10], line 1\u001b[0m\n\u001b[0;32m----> 1\u001b[0m \u001b[38;5;28mprint\u001b[39m(\u001b[38;5;241;43m1\u001b[39;49m\u001b[43m \u001b[49m\u001b[38;5;241;43m+\u001b[39;49m\u001b[43m \u001b[49m\u001b[38;5;124;43m\"\u001b[39;49m\u001b[38;5;124;43m1\u001b[39;49m\u001b[38;5;124;43m\"\u001b[39;49m)\n\u001b[1;32m      2\u001b[0m \u001b[38;5;28mprint\u001b[39m(\u001b[38;5;124m\"\u001b[39m\u001b[38;5;124mmerkki\u001b[39m\u001b[38;5;124m\"\u001b[39m \u001b[38;5;241m-\u001b[39m \u001b[38;5;124m\"\u001b[39m\u001b[38;5;124mjono\u001b[39m\u001b[38;5;124m\"\u001b[39m)\n\u001b[1;32m      3\u001b[0m \u001b[38;5;28mprint\u001b[39m(\u001b[38;5;124m\"\u001b[39m\u001b[38;5;124mGIS\u001b[39m\u001b[38;5;124m\"\u001b[39m \u001b[38;5;241m/\u001b[39m \u001b[38;5;241m2\u001b[39m)\n",
      "\u001b[0;31mTypeError\u001b[0m: unsupported operand type(s) for +: 'int' and 'str'"
     ]
    }
   ],
   "source": [
    "print(1 + \"1\")\n",
    "print(\"merkki\" - \"jono\")\n",
    "print(\"GIS\" / 2)"
   ]
  },
  {
   "cell_type": "markdown",
   "id": "b06afe0f-e582-4d0f-94e8-f6f71eefd53e",
   "metadata": {},
   "source": [
    "## Ehtolauseet ja vertailu\n",
    "\n",
    "On tyypillistä, että ohjelman suorituksen täytyy muuttua tiettyjen ehtojen mukaan. Usein ehdot perustuvat arvojen vertailuun. Alla Pythonin vertailuoperaattoorit:\n",
    "\n",
    "| Operaattori | Selite |\n",
    "|-|-|\n",
    "| `==` | Yhtä suuri |\n",
    "| `!=` | Erisuuri |\n",
    "| `>` | Suurempi |\n",
    "| `<` | Pienempi |\n",
    "| `>=` | Suurempi tai yhtä suuri |\n",
    "| `<=` | Pienempi tai yhtä suuri |\n",
    "\n",
    "Esimerkkinä ohjelma, joka vertaa muuttujan `a` arvoa erilaisiin merkkijonoihin. Jos merkkijonot yhtenevät, kyseisen ehdon sisennetty koodilohko suoritetaan. Huomaa, että `elif`-avainsanan ehto tarkastetaan vain jos edeltävän `if`-avainsanan ehto ei täyty. Jos `if` tai `elif` ehdot eivät kumpikaan täyty, suoritetaan `else`-avainsanan lohko. Kaikissa tapauksissa suoritetaan viimeinen tulostuskomento.\n",
    "\n",
    "Kokeile vaihtaa muuttujan arvoa, ja aja solu."
   ]
  },
  {
   "cell_type": "code",
   "execution_count": 11,
   "id": "b6e8e860-7ead-4f2f-a8e4-fe116e2b0ebb",
   "metadata": {},
   "outputs": [
    {
     "name": "stdout",
     "output_type": "stream",
     "text": [
      "Python GIS\n"
     ]
    }
   ],
   "source": [
    "a = \"GIS\"\n",
    "\n",
    "if a == \"GIS\":\n",
    "    string_to_print = \"Python \" + a\n",
    "elif a == \"jono\":\n",
    "    string_to_print = \"merkki\" + a\n",
    "else:\n",
    "    string_to_print = a\n",
    "\n",
    "print(string_to_print)"
   ]
  },
  {
   "cell_type": "markdown",
   "id": "6c617b3a-56a9-45d7-b2e1-4bd21f207575",
   "metadata": {},
   "source": [
    "Ehtoja voi myös yhdistellä loogisilla operaattoreilla `and` ja `or`:"
   ]
  },
  {
   "cell_type": "code",
   "execution_count": 12,
   "id": "89be387e-7950-475a-9606-3c85324d6864",
   "metadata": {},
   "outputs": [
    {
     "name": "stdout",
     "output_type": "stream",
     "text": [
      "sopiva\n"
     ]
    }
   ],
   "source": [
    "temperature = 15\n",
    "\n",
    "if temperature < 25 and temperature > 10:\n",
    "    print(\"sopiva\")\n",
    "elif temperature >= 25 or temperature <= 10:\n",
    "    print(\"liian kylmä tai kuuma\")"
   ]
  },
  {
   "cell_type": "markdown",
   "id": "2479a839-f957-46d5-a55b-40d8efe1234d",
   "metadata": {},
   "source": [
    "## Funktiot\n",
    "\n",
    "Funktio (function) on koodia, joka kutsuttaessa suorittaa jonkin toiminnon. Funktio voi ottaa vastaan parametreja, jotka vaikuttavat sen suoritukseen, ja se voi myös palauttaa tietoa.\n",
    "\n",
    "Esimerkiksi `print` on pythonin sisäänrakennettu funktio, joka ottaa parametreinä tulostettavia arvoja, tulostaa ne, mutta ei palauta mitään. `type`-funktio sensijaan palauttaa parametrin tyypin.\n",
    "\n",
    "Funktiokutsu on siis muotoa:\n",
    "\n",
    "```python\n",
    "funktio(parametri_1, parametri_2, ... parametri_n)\n",
    "```\n",
    "\n",
    "Uusi funktio määritellään `def`-avainsanalla (define):"
   ]
  },
  {
   "cell_type": "code",
   "execution_count": 13,
   "id": "88c1c77f-c532-4ef0-8de1-01c674f04f88",
   "metadata": {},
   "outputs": [
    {
     "name": "stdout",
     "output_type": "stream",
     "text": [
      "Hello!\n",
      "Hello!\n",
      "Hello!\n"
     ]
    }
   ],
   "source": [
    "# Määritellään parametriton funktio, joka ei palauta mitään\n",
    "def greet():\n",
    "    print(\"Hello!\")\n",
    "\n",
    "# Käytetään funktiota\n",
    "greet()\n",
    "greet()\n",
    "greet()"
   ]
  },
  {
   "cell_type": "markdown",
   "id": "de2b38e4-b7ee-4ebe-863e-176a6a319339",
   "metadata": {},
   "source": [
    "Huomaa, että ilman sulkuja palautuu vain itse funktio, mutta sitä ei käytetä:"
   ]
  },
  {
   "cell_type": "code",
   "execution_count": 14,
   "id": "a0d419a7-0242-464a-a65e-f1f3f16e4c65",
   "metadata": {},
   "outputs": [
    {
     "data": {
      "text/plain": [
       "<function __main__.greet()>"
      ]
     },
     "execution_count": 14,
     "metadata": {},
     "output_type": "execute_result"
    }
   ],
   "source": [
    "greet"
   ]
  },
  {
   "cell_type": "markdown",
   "id": "56b8a175-5565-4d36-bc6e-d7814bc11667",
   "metadata": {},
   "source": [
    "Saatoit myös huomata, että yllä oleva solu toimi, vaikka funktio määriteltiin eri solussa. Notebookissa solut ovat tietoisia toisistaan, eli voit käyttää aikaisemmissa soluissa määriteltyjä asioita, esim. muuttujia ja funktioita, myöhemmissä soluissa."
   ]
  },
  {
   "cell_type": "markdown",
   "id": "1fe62958-03a9-4623-8a79-dbd11bf23661",
   "metadata": {},
   "source": [
    "Seuraavaksi esimerkki funktiosta, joka ottaa vastaan parametreja ja palauttaa arvon:"
   ]
  },
  {
   "cell_type": "code",
   "execution_count": 15,
   "id": "33f5e38b-26b2-4cb1-ab76-aaea1f488583",
   "metadata": {},
   "outputs": [
    {
     "name": "stdout",
     "output_type": "stream",
     "text": [
      "Hello Python!\n",
      "Hello Me!\n"
     ]
    }
   ],
   "source": [
    "def make_greeting(name):  # yksi parametri: name\n",
    "    greeting = f\"Hello {name}!\"  # Luodaan tervehdys\n",
    "    return greeting  # palautetaan tervehdys\n",
    "\n",
    "greeting_1 = make_greeting(\"Python\")\n",
    "greeting_2 = make_greeting(name=\"Me\")  # parametrin nimi voidaan myös kirjoittaa näkyviin\n",
    "\n",
    "print(greeting_1)\n",
    "print(greeting_2)"
   ]
  },
  {
   "cell_type": "markdown",
   "id": "a2d46523-fd44-42b8-bdd6-bada748c369e",
   "metadata": {},
   "source": [
    "Huomaa ylläolevassa esimerkissä myös pelkkien lainausmerkkien `\"\"` sijaan `f\"\"`-muotoa olevan merkkijono. f-syntaksi mahdollistaa merkkijonon täydentämisen aaltosulkuihin `{}` merkityllä sisällöllä."
   ]
  },
  {
   "cell_type": "markdown",
   "id": "a79c0903-484e-4468-a64f-67b07306cc9d",
   "metadata": {},
   "source": [
    "Funktion sisällä voi siis olla mitä vaan koodia ja muita funktioita. Alla esimerkki:"
   ]
  },
  {
   "cell_type": "code",
   "execution_count": 16,
   "id": "eec9ee4e-312a-41db-9093-7dd6b3f4e26b",
   "metadata": {},
   "outputs": [],
   "source": [
    "def sum_two_positive_integers(a, b):\n",
    "    if type(a) != int or type(b) != int:\n",
    "        print(\"use integers only\")\n",
    "        # tyhjä return lopettaa funktion suorituksen palauttamatta mitään\n",
    "        return\n",
    "    if a < 0 or b < 0:\n",
    "        print(\"integers must be positive\")\n",
    "        return\n",
    "    return a + b  # palautetaan summa"
   ]
  },
  {
   "cell_type": "code",
   "execution_count": 17,
   "id": "0087091b-0103-447f-9c30-176a421acc80",
   "metadata": {},
   "outputs": [
    {
     "data": {
      "text/plain": [
       "5"
      ]
     },
     "execution_count": 17,
     "metadata": {},
     "output_type": "execute_result"
    }
   ],
   "source": [
    "sum_two_positive_integers(1, 4)"
   ]
  },
  {
   "cell_type": "code",
   "execution_count": 18,
   "id": "9bf559b7-4a09-4ab2-ba6f-6057fd5cff96",
   "metadata": {},
   "outputs": [
    {
     "name": "stdout",
     "output_type": "stream",
     "text": [
      "use integers only\n"
     ]
    }
   ],
   "source": [
    "sum_two_positive_integers(\"1\", 1)"
   ]
  },
  {
   "cell_type": "code",
   "execution_count": 19,
   "id": "cc8ef83c-2ef5-41db-97a5-38f8a303ef65",
   "metadata": {},
   "outputs": [
    {
     "name": "stdout",
     "output_type": "stream",
     "text": [
      "integers must be positive\n"
     ]
    }
   ],
   "source": [
    "sum_two_positive_integers(-1, 1)"
   ]
  },
  {
   "cell_type": "code",
   "execution_count": null,
   "id": "9fe45ae0-8f39-4a0f-94ea-30aca585eb2e",
   "metadata": {},
   "outputs": [],
   "source": []
  }
 ],
 "metadata": {
  "kernelspec": {
   "display_name": "Python 3 (ipykernel)",
   "language": "python",
   "name": "python3"
  },
  "language_info": {
   "codemirror_mode": {
    "name": "ipython",
    "version": 3
   },
   "file_extension": ".py",
   "mimetype": "text/x-python",
   "name": "python",
   "nbconvert_exporter": "python",
   "pygments_lexer": "ipython3",
   "version": "3.12.7"
  }
 },
 "nbformat": 4,
 "nbformat_minor": 5
}
