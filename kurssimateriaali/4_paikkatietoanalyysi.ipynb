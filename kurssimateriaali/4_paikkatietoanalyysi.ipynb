{
 "cells": [
  {
   "cell_type": "markdown",
   "id": "e6b3d8db-2111-4965-91d6-acaa37313507",
   "metadata": {},
   "source": [
    "# Paikkatietoanalyysi\n",
    "\n",
    "Tässä osassa tehdään paikkatietoanalyysi. Tutkimuskysymyksemme on seuraavanlainen: Miten osassa 2 käsittelemämme salamahavainnot jakautuvat kuntien välillä?\n",
    "\n",
    "Analyysin päävaiheet ovat suurinpiirten seuraavanlaiset:\n",
    "1. Muutetaan osasta 2 tutut salamahavainnot paikkatiedoksi\n",
    "2. Lasketaan salamahavainnot kunnittain\n",
    "3. Visualisoidaan tuloksia\n",
    "\n",
    "Otetaan aluksi käyttöön tarvitut kirjastot:"
   ]
  },
  {
   "cell_type": "code",
   "execution_count": null,
   "id": "00105b75-36b6-4cfa-8568-2b3f474cf4c6",
   "metadata": {},
   "outputs": [],
   "source": [
    "from pathlib import Path\n",
    "import pandas as pd\n",
    "import geopandas as gpd\n",
    "import matplotlib.pyplot as plt"
   ]
  },
  {
   "cell_type": "markdown",
   "id": "9ad81fc3-e341-4b6e-93ea-85b8caf27aef",
   "metadata": {},
   "source": [
    "# 1. Taulukosta kartalle\n",
    "\n",
    "Aloitetaan muuttamalla taulukkomainen salamahavaintodata paikkatiedoksi."
   ]
  },
  {
   "cell_type": "markdown",
   "id": "322863d8-436f-4c46-8326-3011dd13b6c9",
   "metadata": {},
   "source": [
    "## Harjoitus - DataFramen luonti\n",
    "\n",
    "Lue datakansiossa oleva `lightnings.csv`-tiedosto pandas DataFrameksi.\n",
    "1. Vinkki: tee ensin tiedostopolku\n",
    "2. Vinkki: käytä `read_csv`-metodia"
   ]
  },
  {
   "cell_type": "code",
   "execution_count": null,
   "id": "8465b0ad-5841-447a-a56d-871beb67394c",
   "metadata": {},
   "outputs": [],
   "source": [
    "# Kirjoita ratkaisu\n"
   ]
  },
  {
   "cell_type": "markdown",
   "id": "3cfd0549-f677-43b3-9eda-0182a8a27ef0",
   "metadata": {
    "jp-MarkdownHeadingCollapsed": true
   },
   "source": [
    "## Ratkaisu"
   ]
  },
  {
   "cell_type": "code",
   "execution_count": null,
   "id": "8a04d6bd-facb-4d4a-9ae2-ca5aa1d910c9",
   "metadata": {},
   "outputs": [],
   "source": [
    "lightnings = pd.read_csv(Path(\"./data/lightnings.csv\"))\n",
    "lightnings.head()"
   ]
  },
  {
   "cell_type": "markdown",
   "id": "82b17d15-5af2-4d58-9ba9-bbfaa2ae8304",
   "metadata": {},
   "source": [
    "## DataFramesta GeoDataFrameksi\n",
    "\n",
    "Muutetaan lightnings-DataFrame nyt GeoDataFrameksi:"
   ]
  },
  {
   "cell_type": "code",
   "execution_count": null,
   "id": "31e9c1a1-18a1-469c-8691-272aa86ad765",
   "metadata": {},
   "outputs": [],
   "source": [
    "geo_lightnings = gpd.GeoDataFrame(lightnings)\n",
    "geo_lightnings.head()"
   ]
  },
  {
   "cell_type": "code",
   "execution_count": null,
   "id": "2797dcce-de42-4ed4-9bd5-1372978468bb",
   "metadata": {},
   "outputs": [],
   "source": [
    "type(geo_lightnings)"
   ]
  },
  {
   "cell_type": "markdown",
   "id": "a56e9ced-6db9-48af-a037-965eeaed76b6",
   "metadata": {},
   "source": [
    "Tyyppi muuttui, mutta tarvitsemme edelleen geometriasarakkeen. Luodaan seuraavaksi sellainen.\n",
    "\n",
    "Latitude ja longitude -sarakkeet sisältävät salamahavaintojen sijaintitiedot. GeoPandasissa on valmiina funktio tällaisten xy-tyyppisten sijaintitietojen muuttamiseen geometrioiksi: `points_from_xy`:"
   ]
  },
  {
   "cell_type": "code",
   "execution_count": null,
   "id": "67d45431-b20d-4ec6-8d3b-f911ec2d9e68",
   "metadata": {},
   "outputs": [],
   "source": [
    "points = gpd.points_from_xy(\n",
    "    x=geo_lightnings[\"longitude\"],\n",
    "    y=geo_lightnings[\"latitude\"],\n",
    ")\n",
    "points"
   ]
  },
  {
   "cell_type": "markdown",
   "id": "9eb93f91-8dc2-4588-b9cb-c6e185be20a9",
   "metadata": {},
   "source": [
    "Voimme nyt asettaa lopputuloksen GeoDataFramen geometriaksi `set_geometry`-metodilla:"
   ]
  },
  {
   "cell_type": "code",
   "execution_count": null,
   "id": "99984552-119d-4293-9c70-66b7a318f2a3",
   "metadata": {
    "editable": true,
    "slideshow": {
     "slide_type": ""
    },
    "tags": []
   },
   "outputs": [],
   "source": [
    "geo_lightnings = geo_lightnings.set_geometry(points)\n",
    "\n",
    "geo_lightnings.head()"
   ]
  },
  {
   "cell_type": "code",
   "execution_count": null,
   "id": "0553ea6e-2e34-4e95-8cde-0f2f428d43a6",
   "metadata": {},
   "outputs": [],
   "source": [
    "geo_lightnings.plot(markersize=0.01)"
   ]
  },
  {
   "cell_type": "markdown",
   "id": "6d3adabf-b42b-4fff-b99a-8a6267c63624",
   "metadata": {},
   "source": [
    "## Harjoitus - koordinaattijärjestelmä\n",
    "\n",
    "Vaikka salamahavainnot saatiin jo visualisoitua, puuttuu niistä edelleen tieto koordinaattijärjestelmästä:"
   ]
  },
  {
   "cell_type": "code",
   "execution_count": null,
   "id": "5ad17fdf-7e2d-47f0-895e-7740e528dd58",
   "metadata": {},
   "outputs": [],
   "source": [
    "geo_lightnings.crs == None"
   ]
  },
  {
   "cell_type": "markdown",
   "id": "1f6c04d5-d59c-4f35-88e2-3b533d7b6678",
   "metadata": {},
   "source": [
    "Projisoi salamahavainnot samaan koordinaattijärjestelmään, kuin kohta käytettävä kunta-aineisto (epsg=3067). Huomaa, että sijainnit ovat nyt asteita, eli emme voi suoraan asettaa ETRS89 / TM35FIN koordinaattijärjestelmää.\n",
    "\n",
    "1. Aseta ensin `geo_lightnings`-GeoDataFrame wgs 84 koordinaattijärjestelmään (`set_crs`). Epsg-koodi on 4326.\n",
    "2. Uudelleenprojisoi (`to_crs`) vasta kun koordinaattijärjestelmä on asetettu. Ylikirjoita `geo_lightnings`-muuttuja uudella epsg 3067 -versiolla."
   ]
  },
  {
   "cell_type": "code",
   "execution_count": null,
   "id": "438959d3-7213-4c90-81b1-93f91eb8d3fd",
   "metadata": {},
   "outputs": [],
   "source": [
    "# Kirjoita ratkaisu\n"
   ]
  },
  {
   "cell_type": "markdown",
   "id": "bc00428c-f1de-441a-9173-00bc076eed8f",
   "metadata": {
    "jp-MarkdownHeadingCollapsed": true
   },
   "source": [
    "## Ratkaisu"
   ]
  },
  {
   "cell_type": "code",
   "execution_count": null,
   "id": "d6fe21ab-78c0-403d-b15b-2dbfe7ffefcf",
   "metadata": {},
   "outputs": [],
   "source": [
    "geo_lightnings = geo_lightnings.set_crs(epsg=4326)\n",
    "geo_lightnings.crs"
   ]
  },
  {
   "cell_type": "code",
   "execution_count": null,
   "id": "0ea5cebb-82a7-4d05-8bc1-28a2ea5cc598",
   "metadata": {},
   "outputs": [],
   "source": [
    "geo_lightnings = geo_lightnings.to_crs(epsg=3067)\n",
    "geo_lightnings.crs.name"
   ]
  },
  {
   "cell_type": "markdown",
   "id": "b3333b45-529d-4fc8-b14a-2ae4b004abc8",
   "metadata": {},
   "source": [
    "# 2. Salamahavainnot kunnittain\n",
    "\n",
    "Lasketaan seuraavaksi salamahavaintojen määrät kunnittain.\n",
    "\n",
    "Luetaan ensin kunta-aineisto geodataframeen:"
   ]
  },
  {
   "cell_type": "code",
   "execution_count": null,
   "id": "52f9a56c-3727-4c65-bee6-5274d375e459",
   "metadata": {},
   "outputs": [],
   "source": [
    "municipalities = gpd.read_file(Path(\"./data/kunnat.gpkg\"))"
   ]
  },
  {
   "cell_type": "markdown",
   "id": "13ac314a-9de1-476a-a899-f438454e661d",
   "metadata": {},
   "source": [
    "## Harjoitus - tarkasta koordinaattijärjestelmät\n",
    "\n",
    "Ennen kuin etenemme pidemmälle, tarkasta, että salamahavinnot (`lightnings`) ja kunnat (`municipalities`) ovat samassa koordinaattijärjestelmässä.\n",
    "\n",
    "1. Vinkki: tässä kannattaa hyödyntää vertailuoperaattoria"
   ]
  },
  {
   "cell_type": "code",
   "execution_count": null,
   "id": "3ccebbf0-b5aa-4dec-9b01-fceeaff15d93",
   "metadata": {},
   "outputs": [],
   "source": [
    "# Kirjoita ratkaisu\n"
   ]
  },
  {
   "cell_type": "markdown",
   "id": "0f159773-837f-49e8-b160-43823c1665ba",
   "metadata": {
    "jp-MarkdownHeadingCollapsed": true
   },
   "source": [
    "## Ratkaisu"
   ]
  },
  {
   "cell_type": "code",
   "execution_count": null,
   "id": "37601cd0-6743-4855-82ba-5d5966e8dd28",
   "metadata": {},
   "outputs": [],
   "source": [
    "if municipalities.crs == geo_lightnings.crs:\n",
    "    print(\"crs matches\")"
   ]
  },
  {
   "cell_type": "markdown",
   "id": "14baae2c-591b-41d9-a7dd-009f0affce1f",
   "metadata": {},
   "source": [
    "## Liitos sijainnin perusteella\n",
    "\n",
    "Nyt voimme edetä tekemään sijainteihin perustuvan liitoksen salamahavaintojen ja kuntien välillä. Tarkoituksena on, että saisimme jokaiseen salamaan tiedon siitä, minkä kunnan alueelle se iski.\n",
    "\n",
    "Tämä kannattaa toteuttaa `sjoin` eli spatial join -metodilla. Yhdistetään siis salamahavaintoihin tieto kunnista, perusteena, että havainto on kunnan alueella (\"within\"). Liitoksen tyypiksi otetaan \"left\", sillä haluamme tuloksena vain salamahavainnot."
   ]
  },
  {
   "cell_type": "code",
   "execution_count": null,
   "id": "9f540177-e1c2-474a-9e20-dce2a7e0cda1",
   "metadata": {
    "editable": true,
    "slideshow": {
     "slide_type": ""
    },
    "tags": []
   },
   "outputs": [],
   "source": [
    "lightnings_with_municipality = geo_lightnings.sjoin(\n",
    "    municipalities,\n",
    "    predicate=\"within\",\n",
    "    how=\"left\",\n",
    ")"
   ]
  },
  {
   "cell_type": "markdown",
   "id": "682c5b8c-a25c-40a6-8795-b8cecd429783",
   "metadata": {},
   "source": [
    "Operaation lopputuloksena on uusi GeoDataFrame, jossa jokaisella rivillä (eli salamahavainnolla) on tieto kunnasta:"
   ]
  },
  {
   "cell_type": "code",
   "execution_count": null,
   "id": "319feca3-16e6-43b3-945f-2d9f624022a1",
   "metadata": {
    "editable": true,
    "slideshow": {
     "slide_type": ""
    },
    "tags": []
   },
   "outputs": [],
   "source": [
    "lightnings_with_municipality"
   ]
  },
  {
   "cell_type": "markdown",
   "id": "90f84d80-eccd-4fae-b8aa-8b97a9a6bdca",
   "metadata": {},
   "source": [
    "Rivejä on sama määrä kuin salamahavaintoja:"
   ]
  },
  {
   "cell_type": "code",
   "execution_count": null,
   "id": "1ce124b8-8bc1-4f86-9fee-98274f067385",
   "metadata": {},
   "outputs": [],
   "source": [
    "len(lightnings_with_municipality) == len(lightnings)"
   ]
  },
  {
   "cell_type": "markdown",
   "id": "6eeffc80-1a58-4f57-8e1f-a0c20ef62400",
   "metadata": {},
   "source": [
    "## Kuntakohtaiset salamamäärät\n",
    "\n",
    "Nyt voimme laskea kuntakohtaiset summat salamahavainnoille ryhmittelemällä havainnot kunnan nimen mukaan. `size`-metodilla saamme laskettua kunkin ryhmän rivien (eli havaintojen) summan."
   ]
  },
  {
   "cell_type": "code",
   "execution_count": null,
   "id": "60475b7e-5306-4247-9015-1b6ee89c230b",
   "metadata": {},
   "outputs": [],
   "source": [
    "lightnings_with_municipality.groupby(\"nimi\").size()"
   ]
  },
  {
   "cell_type": "markdown",
   "id": "8f0384e8-c424-4b59-bb37-707478a2609b",
   "metadata": {},
   "source": [
    "Haluamme lopulta liittää summat takaisin kunta-aineistoon (`municipalities`-GeoDataFrame). Liitos kannattaa tehdä kuntien nimien perusteella. Järkevää olisi muodostaa siis DataFrame, jossa olisi havaintomäärien lisäksi sarake kuntanimille liitosta varten.\n",
    "\n",
    "Antamalla `group_by`-metodin parametrille `as_index` arvon `False`, aiheutamme sen, että kuntien nimiä ei käytetä indeksinä, vaan niille luodaan oma sarake. Samalla lopputulos on siis automaattisesti DataFrame."
   ]
  },
  {
   "cell_type": "code",
   "execution_count": null,
   "id": "dd5a59b3-f853-405b-8c68-0dd20e5ff3f1",
   "metadata": {},
   "outputs": [],
   "source": [
    "lightnings_with_municipality.groupby(\"nimi\", as_index=False).size()"
   ]
  },
  {
   "cell_type": "markdown",
   "id": "a61cabe4-87a8-46d3-850f-fc3d16b9edd9",
   "metadata": {},
   "source": [
    "Käytetään siis vaihtoehdoista jälkimmäistä, ja tallennetaan lopputulos muuttujaan `lightning_counts`:"
   ]
  },
  {
   "cell_type": "code",
   "execution_count": null,
   "id": "569b35c9-44d5-4a19-8f44-7a42ea8c8987",
   "metadata": {},
   "outputs": [],
   "source": [
    "lightning_counts = lightnings_with_municipality.groupby(\"nimi\", as_index=False).size()\n",
    "lightning_counts.head()"
   ]
  },
  {
   "cell_type": "markdown",
   "id": "0b1e4263-18f4-4967-bf94-d973876ce1e7",
   "metadata": {},
   "source": [
    "Nimetään vielä sarakkeet hieman selkeämmin. Tämä onnistuu esimerkiksi antamalla uudet sarakenimet listana:"
   ]
  },
  {
   "cell_type": "code",
   "execution_count": null,
   "id": "d1e5c678-c912-4704-99c6-d397f28c8192",
   "metadata": {},
   "outputs": [],
   "source": [
    "lightning_counts.columns = [\"nimi\", \"lightning_count\"]\n",
    "lightning_counts.head()"
   ]
  },
  {
   "cell_type": "markdown",
   "id": "2f47cfc1-24da-4b49-bf92-4b0157a7a662",
   "metadata": {},
   "source": [
    "Nyt voimme liittää salamahavaintojen kuntakohtaiset summat kunta-aineistoon kuntien nimen perusteella:"
   ]
  },
  {
   "cell_type": "code",
   "execution_count": null,
   "id": "46a8512f-899c-4059-beae-1443cefa70e6",
   "metadata": {},
   "outputs": [],
   "source": [
    "municipalities = municipalities.merge(\n",
    "    lightning_counts,\n",
    "    left_on=\"nimi\",\n",
    "    right_on=\"nimi\",\n",
    "    how=\"left\",\n",
    ")\n",
    "municipalities"
   ]
  },
  {
   "cell_type": "markdown",
   "id": "76d0cb21-6d70-4de1-a997-712ef26e322a",
   "metadata": {},
   "source": [
    "## Tulosten tarkistus\n",
    "\n",
    "Tarkistetaan analyysimme nopealla visualisoinnilla kuntakohtaisista havaintomääristä.\n",
    "\n",
    "Tämä onnistuu antamalla `plot`-metodin `column`-parametrille arvoksi se sarakke, jonka arvot haluamme visualisoida kartalla."
   ]
  },
  {
   "cell_type": "code",
   "execution_count": null,
   "id": "53a16636-c78c-4cf4-9ecc-a0e173d71526",
   "metadata": {},
   "outputs": [],
   "source": [
    "municipalities.plot(\n",
    "    column=\"lightning_count\"\n",
    ")"
   ]
  },
  {
   "cell_type": "markdown",
   "id": "809750e2-6ee6-49c9-9b1f-14fa8d291d73",
   "metadata": {},
   "source": [
    "Kartalla huomaamme, että analyysissämme on yksi ilmiselvä ongelma: Kunnat eivät ole samankokoisia, joten pinta-alaltaan suurimmat kunnat saavat jo kokonsa vuoksi suurimpia summia. "
   ]
  },
  {
   "cell_type": "markdown",
   "id": "59dfa24e-e681-49bc-b5ca-900aa4b2096e",
   "metadata": {},
   "source": [
    "## Harjoitus - salamahavainnot suhteutettuna pinta-alaan\n",
    "\n",
    "Korjaa äsken huomattu ongelma laskemalla pinta-alaan suhteutetut havaintomäärät. Tavoitteena on saada tulokseski joka kunnalle salamoiden määrä per neliökilometri.\n",
    "1. Laske kunnille pinta-alat neliökilometreinä (Vinkki: käytä `area`-attribuuttia ja jaa tuloksena saadut neliömetrit 1 000 000:lla).\n",
    "2. Laske `municipalities`-GeoDataFramelle uusi sarake \"lightnings_per_km2\", joka saa arvokseen havaintojen määrän jaettuna kunnan pinta-alalla neliökilometreissä."
   ]
  },
  {
   "cell_type": "code",
   "execution_count": null,
   "id": "8e57d233-b1d4-4345-b50f-573f19dc0c0a",
   "metadata": {},
   "outputs": [],
   "source": [
    "# Kirjoita ratkaisu\n"
   ]
  },
  {
   "cell_type": "markdown",
   "id": "e8edb0b8-9933-4687-8c19-f15c9798c719",
   "metadata": {
    "jp-MarkdownHeadingCollapsed": true
   },
   "source": [
    "## Ratkaisu"
   ]
  },
  {
   "cell_type": "code",
   "execution_count": null,
   "id": "04d1db2e-3cfd-48fc-9295-e8d212e32a96",
   "metadata": {
    "editable": true,
    "slideshow": {
     "slide_type": ""
    },
    "tags": []
   },
   "outputs": [],
   "source": [
    "areas_km2 = municipalities.area / 1000000\n",
    "areas_km2"
   ]
  },
  {
   "cell_type": "code",
   "execution_count": null,
   "id": "2f54109f-03a7-4691-9d56-7144e0a03914",
   "metadata": {},
   "outputs": [],
   "source": [
    "municipalities[\"lightnings_per_km2\"] = municipalities[\"lightning_count\"] / areas_km2\n",
    "municipalities.head()"
   ]
  },
  {
   "cell_type": "markdown",
   "id": "79677649-bf68-457d-a73f-5663b46e2d4e",
   "metadata": {},
   "source": [
    "## Harjoitus - sarakkeen visualisointi\n",
    "\n",
    "Visualisoi nyt pinta-alaan suhteutetut havaintomäärät (eli juuri luomasi \"lightnings_per_km2\" -sarake)."
   ]
  },
  {
   "cell_type": "code",
   "execution_count": null,
   "id": "cc472811-568a-4ac4-841c-dc8e47fb4fed",
   "metadata": {},
   "outputs": [],
   "source": [
    "# Kirjoita ratkaisu\n"
   ]
  },
  {
   "cell_type": "markdown",
   "id": "3d59ae61-8132-4809-8d88-9c84d447891e",
   "metadata": {
    "jp-MarkdownHeadingCollapsed": true
   },
   "source": [
    "## Ratkaisu"
   ]
  },
  {
   "cell_type": "code",
   "execution_count": null,
   "id": "dff7fcbd-9efc-48a3-9762-ecf256e46099",
   "metadata": {},
   "outputs": [],
   "source": [
    "municipalities.plot(column=\"lightnings_per_km2\")"
   ]
  },
  {
   "cell_type": "markdown",
   "id": "bedf6f4b-84df-4ead-bc20-a9b8dbe664dc",
   "metadata": {},
   "source": [
    "## Tulosten tallentaminen\n",
    "\n",
    "Voimme tallentaa luomamme GeoDataFramen vaikkapa tiedostoon tai tietokantaan. Tallennetaan se data-kansioon uuteen geopackage-tiedostoon:"
   ]
  },
  {
   "cell_type": "code",
   "execution_count": null,
   "id": "c95b78fd-3970-4464-ab4f-7012d27b91d2",
   "metadata": {},
   "outputs": [],
   "source": [
    "output_path = Path(\"./data/municipalities_with_lightnings.gpkg\")\n",
    "\n",
    "municipalities.to_file(output_path)"
   ]
  },
  {
   "cell_type": "markdown",
   "id": "90de7ff7-cdf9-4efa-8da9-659a44fd21ea",
   "metadata": {},
   "source": [
    "# 3. Tulosten visualisointi\n",
    "\n",
    "## Staattinen kartta\n",
    "\n",
    "Olemme nyt tyytyväisiä analyysin tulokseen, mutta visualisointi jättää vielä toivomisen varaa. Tutustutaan siis `plot`-metodiin hieman tarkemmin.\n",
    "\n",
    "Otetaan ensin mukaan legenda, kasvatetaan kuvan kokoa hieman, ja vaihdetaan värit:"
   ]
  },
  {
   "cell_type": "code",
   "execution_count": null,
   "id": "71006493-ee9c-463e-ba41-3a8c2267adfe",
   "metadata": {
    "editable": true,
    "slideshow": {
     "slide_type": ""
    },
    "tags": []
   },
   "outputs": [],
   "source": [
    "municipalities.plot(\n",
    "    column=\"lightnings_per_km2\",\n",
    "    legend=True,     # Otetaan legenda käyttöön\n",
    "    figsize=(6, 6),  # Määritellään kuvan (figure) koko\n",
    "    cmap=\"copper\",   # Valitaan väriramppi\n",
    ")"
   ]
  },
  {
   "cell_type": "markdown",
   "id": "1a028688-cdf8-4b1d-beec-39dcad54e6c9",
   "metadata": {},
   "source": [
    "Arvojen luokittelua voi vaihtaa `scheme`-parametrilla:"
   ]
  },
  {
   "cell_type": "code",
   "execution_count": null,
   "id": "d0996ddc-d6ac-4615-baa1-bd96eb370e90",
   "metadata": {},
   "outputs": [],
   "source": [
    "municipalities.plot(\n",
    "    column=\"lightnings_per_km2\",\n",
    "    legend=True,\n",
    "    figsize=(6, 6),\n",
    "    cmap=\"copper\",\n",
    "    scheme=\"quantiles\",  # Vaihdetaan luokitteluksi kvantiilit\n",
    ")"
   ]
  },
  {
   "cell_type": "markdown",
   "id": "66fd819e-4102-4ddb-8990-5e6a4360529e",
   "metadata": {},
   "source": [
    "Jos haluamme eroon kartan kehyksistä, voimme laittaa ne pois päältä `plot`-metodin palauttaman matplotlib axes-olion kautta:"
   ]
  },
  {
   "cell_type": "code",
   "execution_count": null,
   "id": "3f04297c-1e1f-43c6-af21-b8f7fc821f4e",
   "metadata": {},
   "outputs": [],
   "source": [
    "ax = municipalities.plot(  # Tallennetaan axes-olio muuttujaan\n",
    "    column=\"lightnings_per_km2\",\n",
    "    legend=True,\n",
    "    figsize=(6, 6),\n",
    "    cmap=\"copper\",\n",
    "    scheme=\"quantiles\",\n",
    ")\n",
    "\n",
    "ax.set_axis_off()  # Kehys pois päältä"
   ]
  },
  {
   "cell_type": "markdown",
   "id": "a3aec3bd-31d8-4b4b-a1a9-93e49fce2c1c",
   "metadata": {},
   "source": [
    "Alla vielä hieman edistyneempi esimerkki kommentoituna:"
   ]
  },
  {
   "cell_type": "code",
   "execution_count": null,
   "id": "18bffe0d-3571-4d3f-a177-1c4cbac26274",
   "metadata": {},
   "outputs": [],
   "source": [
    "ax = municipalities.plot(\n",
    "    column=\"lightnings_per_km2\",   # Visualisoitava sarake\n",
    "    legend=True,                   # Legenda päälle\n",
    "    figsize=(6, 6),                # Kuvan koko\n",
    "    scheme=\"quantiles\",            # Luokittelu\n",
    "    cmap=\"cividis\",                # Värit\n",
    "    \n",
    "    # nodata-rivien tyylit voidaan antaa sanakirjana parametrille missing_kwds\n",
    "    missing_kwds={\n",
    "        \"facecolor\": \"black\",      # Täyttöväri\n",
    "        \"label\": \"Ei havaintoja\",  # Selite\n",
    "        \n",
    "    },\n",
    "    # Legendan tyylittely samaan tapaan\n",
    "    legend_kwds={\n",
    "        \"bbox_to_anchor\": (0.25, 1),        # Legendan sijainti\n",
    "        \"title\": \"Salamahavaintoja / km2\",  # Legendan otsikko\n",
    "    }\n",
    ")\n",
    "ax.set_axis_off()        # Kehys pois\n",
    "plt.tight_layout(pad=0)  # Asetellaan kuva minimoiden tyhjä tila\n",
    "\n",
    "# Tallennetaan kuva tiedostoon\n",
    "plt.savefig(Path(\"./static_map.png\"), dpi=200)"
   ]
  },
  {
   "cell_type": "markdown",
   "id": "6bdbfc82-120f-4934-954f-b0fc955a95c0",
   "metadata": {},
   "source": [
    "Tämän notebookin kanssa samasta hakemistosta pitäisi nyt löytyä kuva `static_map.png`."
   ]
  },
  {
   "cell_type": "markdown",
   "id": "cce639b1-4ef3-44d3-89c7-54a73a622699",
   "metadata": {},
   "source": [
    "## Interaktiivinen kartta\n",
    "\n",
    "Tehdään vielä `explore`-metodilla interaktiivinen versio kartastamme.\n",
    "\n",
    "Luodaan ensin kartta muuttujaan `m`. `explore`-metodilla on osittain samat parametrit kuin `plot`-metodilla, mutta myös eroja on. Alla kommentoitu esimerkki:"
   ]
  },
  {
   "cell_type": "code",
   "execution_count": null,
   "id": "41bd1956-8515-45e1-8b39-97c69845a7c9",
   "metadata": {
    "editable": true,
    "slideshow": {
     "slide_type": ""
    },
    "tags": []
   },
   "outputs": [],
   "source": [
    "m = municipalities.explore(\n",
    "    column=\"lightnings_per_km2\",        # Sarake\n",
    "    tiles=\"CartoDB Positron nolabels\",  # Taustakartta\n",
    "    cmap=\"cividis\",                     # Värit\n",
    "    scheme=\"quantiles\",                 # Luokittelu\n",
    "\n",
    "    # Tarkempia tyylittelyasetuksia annetaan sanakirjana style_kwds-parametrille\n",
    "    style_kwds={\n",
    "        \"fillOpacity\": 1,  # Asetetaan läpinäkyvyys pois päältä\n",
    "    },\n",
    "    # Legendan tyylittely\n",
    "    legend_kwds={\n",
    "        \"colorbar\": False,  # Käytetään väripalkin sijasta kategorista legendaa\n",
    "        \"caption\": \"Lightnings per km2\",\n",
    "    }\n",
    ")\n",
    "\n",
    "# Näytetään kartta m-muuttujan avulla\n",
    "m"
   ]
  },
  {
   "cell_type": "code",
   "execution_count": null,
   "id": "61010352-6bee-4aa9-a0b4-b81781aa4d8d",
   "metadata": {
    "editable": true,
    "slideshow": {
     "slide_type": ""
    },
    "tags": []
   },
   "outputs": [],
   "source": [
    "type(m)"
   ]
  },
  {
   "cell_type": "markdown",
   "id": "f8479675-221e-4b19-ad53-42dfeb3e3166",
   "metadata": {},
   "source": [
    "Tallennus sujuu `save`-metodilla:"
   ]
  },
  {
   "cell_type": "code",
   "execution_count": null,
   "id": "7ced8f95-bdb5-4fe6-9946-db68127c8d10",
   "metadata": {
    "editable": true,
    "slideshow": {
     "slide_type": ""
    },
    "tags": []
   },
   "outputs": [],
   "source": [
    "m.save(Path(\"./interactive_map.html\"))"
   ]
  },
  {
   "cell_type": "markdown",
   "id": "2025c898-d3b6-4f4e-9448-532cc4dc24c2",
   "metadata": {},
   "source": [
    "Nyt tämän notebookin kanssa samaan hakemistoon ilmestyi `interactive_map.html` tiedosto. Se on html-tiedosto, eli sen voi avata web-selaimella."
   ]
  },
  {
   "cell_type": "code",
   "execution_count": null,
   "id": "0d68384f-1917-48a6-a77b-d208d685f833",
   "metadata": {},
   "outputs": [],
   "source": []
  }
 ],
 "metadata": {
  "kernelspec": {
   "display_name": "Python 3 (ipykernel)",
   "language": "python",
   "name": "python3"
  },
  "language_info": {
   "codemirror_mode": {
    "name": "ipython",
    "version": 3
   },
   "file_extension": ".py",
   "mimetype": "text/x-python",
   "name": "python",
   "nbconvert_exporter": "python",
   "pygments_lexer": "ipython3",
   "version": "3.12.7"
  }
 },
 "nbformat": 4,
 "nbformat_minor": 5
}
