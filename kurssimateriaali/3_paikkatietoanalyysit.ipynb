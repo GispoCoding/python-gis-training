{
 "cells": [
  {
   "cell_type": "markdown",
   "id": "da0700cc-9e13-43a9-b68c-5cbe7f08f90b",
   "metadata": {},
   "source": [
    "# Vektorimuotoinen paikkatieto\n",
    "\n",
    "Vektoriaineistot ovat paikkatietoa joko piste- viiva- tai polygon-muodossa. Tässä osiossa tutustutaan vektoridatan käsittelyn perusteisiin Pythonissa.\n",
    "\n",
    "# Shapely ja geometriat\n",
    "\n",
    "**Shapely** on vektoriaineistojen kannalta olennainen kirjasto, sillä se toteuttaa tuen geometrioiden luontiin, esittämiseen ja moniin spatiaalisiin operaatioihin. Shapelyä ei usein käytetä suoraan, mutta koska GeoPandasin geometriat perustuvat täysin Shapelyyn, on hyvä ymmärtää perusteet.\n",
    "\n",
    "Aloitetaan ottamalla käyttöön Shapely-kirjastosta pisteet, viivat ja monikulmiot."
   ]
  },
  {
   "cell_type": "code",
   "execution_count": null,
   "id": "bd2bb78f-cbc2-42e2-ab70-af1d75ca51cd",
   "metadata": {
    "editable": true,
    "slideshow": {
     "slide_type": ""
    },
    "tags": []
   },
   "outputs": [],
   "source": [
    "from shapely import Point, LineString, Polygon"
   ]
  },
  {
   "cell_type": "markdown",
   "id": "04bdee07-6b0d-4df1-9ce6-853b18fb7dbe",
   "metadata": {},
   "source": [
    "Voimme nyt luoda pisteen, eli **Point**-olion:"
   ]
  },
  {
   "cell_type": "code",
   "execution_count": null,
   "id": "6d0d8697-ba9f-41d4-bf8e-00edc25ab47f",
   "metadata": {},
   "outputs": [],
   "source": [
    "point = Point(1, 2)\n",
    "point"
   ]
  },
  {
   "cell_type": "code",
   "execution_count": null,
   "id": "d5426030-5bb0-4396-a856-873aebe9ca71",
   "metadata": {},
   "outputs": [],
   "source": [
    "print(point)"
   ]
  },
  {
   "cell_type": "markdown",
   "id": "f6f7ee1a-485a-4e31-b336-f1f8d3acfe14",
   "metadata": {},
   "source": [
    "Voimme ottaa mukaan myös kolmannen ulottuvuuden:"
   ]
  },
  {
   "cell_type": "code",
   "execution_count": null,
   "id": "70119e9c-154b-4524-88cf-0d8981712d90",
   "metadata": {},
   "outputs": [],
   "source": [
    "point_3d = Point(2, 4, 1)\n",
    "point_3d"
   ]
  },
  {
   "cell_type": "markdown",
   "id": "780f737f-13b2-417c-a2f9-6139de875aae",
   "metadata": {},
   "source": [
    "Tehdään seuraavaksi monta pistettä, ja muodostetaan niistä viiva (**LineString**-olio):"
   ]
  },
  {
   "cell_type": "code",
   "execution_count": null,
   "id": "c8dd2969-92a8-484a-b498-80f5c847b7aa",
   "metadata": {},
   "outputs": [],
   "source": [
    "point_1 = Point(0, 0)\n",
    "point_2 = Point(-1, 1)\n",
    "point_3 = Point(0.5, 1.5)\n",
    "point_4 = Point(1, 0.5)\n",
    "\n",
    "list_of_points = [point_1, point_2, point_3, point_4]\n",
    "\n",
    "line = LineString(list_of_points)\n",
    "line"
   ]
  },
  {
   "cell_type": "markdown",
   "id": "2556bdd8-9588-4f6d-8e2d-454f16c38d5a",
   "metadata": {},
   "source": [
    "Shapely-geometrioilla on monia hyödyllisiä attribuutteja. Tässä esimerkiksi viivan pituus ja massakeskipiste."
   ]
  },
  {
   "cell_type": "code",
   "execution_count": null,
   "id": "34c08b17-9383-4dad-8111-a052393551c3",
   "metadata": {},
   "outputs": [],
   "source": [
    "print(line.length)\n",
    "print(line.centroid)"
   ]
  },
  {
   "cell_type": "markdown",
   "id": "27c28f2b-feb6-4a49-9d91-06dc38e82e6e",
   "metadata": {},
   "source": [
    "Monikulmion luonti onnistuu samaan tapaan:"
   ]
  },
  {
   "cell_type": "code",
   "execution_count": null,
   "id": "32b9557a-9f58-42a0-ad02-b3f128a31205",
   "metadata": {
    "editable": true,
    "slideshow": {
     "slide_type": ""
    },
    "tags": []
   },
   "outputs": [],
   "source": [
    "polygon = Polygon(list_of_points)\n",
    "polygon"
   ]
  },
  {
   "cell_type": "markdown",
   "id": "2f6f45f9-3558-4cff-8b6f-204005a9295a",
   "metadata": {},
   "source": [
    "Monikulmiolle voidaan laskea myös alue:"
   ]
  },
  {
   "cell_type": "code",
   "execution_count": null,
   "id": "56dbfd1f-5654-40a5-abb4-2a44405d1106",
   "metadata": {
    "editable": true,
    "slideshow": {
     "slide_type": ""
    },
    "tags": []
   },
   "outputs": [],
   "source": [
    "print(polygon.centroid)\n",
    "print(polygon.area)\n",
    "polygon.buffer(1)"
   ]
  },
  {
   "cell_type": "code",
   "execution_count": null,
   "id": "0b8c0b5d-7d42-4860-bb23-39bdcd504aa4",
   "metadata": {},
   "outputs": [],
   "source": [
    "from shapely import MultiPoint, MultiLineString, MultiPolygon\n",
    "\n",
    "multipoint = MultiPoint(\n",
    "    [Point(1, 2), Point(3, 4)]\n",
    ")\n",
    "multiline = MultiLineString(\n",
    "    [LineString([(1, 7), (6, 4)]), LineString([(0, -1), (-4, 5)])]\n",
    ")\n",
    "multipolygon = MultiPolygon(\n",
    "    [Polygon([(0, 0), (-10, 0), (2, 20)]), Polygon([(3, 6), (10, 6), (11, 20)])]\n",
    ")\n",
    "multipolygon"
   ]
  },
  {
   "cell_type": "markdown",
   "id": "7c1f8154-8ce1-460d-9faf-059c60744019",
   "metadata": {},
   "source": [
    "## Harjoitus - ympyrä\n",
    "\n",
    "Tee Shapely-geometrioita ja metodeja hyödyntäen \"ympyrä\".\n",
    "1. Vinkki: et tarvitse yhtäkään uutta `import`-komentoa.\n",
    "2. Vinkki: tämä on hieman kompakysymys. Helpompaa voi olla ajatella: miten teen mahdollisimman pyöreän monikulmion?"
   ]
  },
  {
   "cell_type": "code",
   "execution_count": null,
   "id": "7b5a7825-3aa1-480e-ad99-6b36855e08aa",
   "metadata": {},
   "outputs": [],
   "source": [
    "# Kirjoita ratkaisu\n"
   ]
  },
  {
   "cell_type": "markdown",
   "id": "d1697c9c-7ace-4636-91a0-54b382fc5b14",
   "metadata": {
    "jp-MarkdownHeadingCollapsed": true
   },
   "source": [
    "## Ratkaisu"
   ]
  },
  {
   "cell_type": "code",
   "execution_count": null,
   "id": "ccfe4058-6b4c-4ba3-b561-3d719de4295b",
   "metadata": {},
   "outputs": [],
   "source": [
    "my_circle = Point(1,1).buffer(10)\n",
    "\n",
    "print(type(my_circle))\n",
    "my_circle"
   ]
  },
  {
   "cell_type": "markdown",
   "id": "dcf3d6c0-cdb7-4997-b3a4-3cf2a2b3feed",
   "metadata": {},
   "source": [
    "# GeoPandas\n",
    "\n",
    "Seuraavaksi siirrytään vektoriaineistojen käsittelyssä erittäin monikäyttöiseen **GeoPandas**-kirjastoon."
   ]
  },
  {
   "cell_type": "code",
   "execution_count": null,
   "id": "b592a85c-b750-481e-9f29-56e09b7cb24e",
   "metadata": {},
   "outputs": [],
   "source": [
    "from pathlib import Path\n",
    "import geopandas as gpd"
   ]
  },
  {
   "cell_type": "code",
   "execution_count": null,
   "id": "9b24db98-726c-41b4-81f3-b19e2247399d",
   "metadata": {},
   "outputs": [],
   "source": [
    "file_path = Path(\"./data/kunnat.gpkg\")\n",
    "\n",
    "municipalities = gpd.read_file(file_path)"
   ]
  },
  {
   "cell_type": "code",
   "execution_count": null,
   "id": "2d2316b0-f446-42af-9eb9-a7db0c4c1571",
   "metadata": {},
   "outputs": [],
   "source": [
    "municipalities.head()"
   ]
  },
  {
   "cell_type": "code",
   "execution_count": null,
   "id": "38a12598-73d3-41c5-a344-c49a1f473e64",
   "metadata": {},
   "outputs": [],
   "source": [
    "type(municipalities)"
   ]
  },
  {
   "cell_type": "code",
   "execution_count": null,
   "id": "7868fdc9-e2f3-440e-985f-5facad5d102d",
   "metadata": {},
   "outputs": [],
   "source": [
    "type(municipalities.geometry)"
   ]
  },
  {
   "cell_type": "code",
   "execution_count": null,
   "id": "24871add-82ca-40c2-a356-e9bc52a6f521",
   "metadata": {
    "editable": true,
    "slideshow": {
     "slide_type": ""
    },
    "tags": []
   },
   "outputs": [],
   "source": [
    "type(municipalities[\"geometry\"])"
   ]
  },
  {
   "cell_type": "code",
   "execution_count": null,
   "id": "a144bd49-88e3-460a-ba75-896d98f9f47f",
   "metadata": {},
   "outputs": [],
   "source": [
    "type(municipalities.geometry.iloc[0])"
   ]
  },
  {
   "cell_type": "code",
   "execution_count": null,
   "id": "44b7044b-c345-48f4-a55c-5acf8cb48fe9",
   "metadata": {
    "editable": true,
    "slideshow": {
     "slide_type": ""
    },
    "tags": []
   },
   "outputs": [],
   "source": [
    "municipalities.plot()"
   ]
  },
  {
   "cell_type": "code",
   "execution_count": null,
   "id": "2ef3f2d9-9d78-45aa-890f-cac1cad2afce",
   "metadata": {
    "editable": true,
    "slideshow": {
     "slide_type": ""
    },
    "tags": []
   },
   "outputs": [],
   "source": [
    "parainen = municipalities.loc[municipalities[\"nimi\"] == \"Parainen\"]\n",
    "parainen"
   ]
  },
  {
   "cell_type": "code",
   "execution_count": null,
   "id": "553e0b6f-7160-40d0-9097-e58a28cfef17",
   "metadata": {
    "editable": true,
    "slideshow": {
     "slide_type": ""
    },
    "tags": []
   },
   "outputs": [],
   "source": [
    "parainen.plot()"
   ]
  },
  {
   "cell_type": "markdown",
   "id": "ebd28900-224c-49db-b702-bb068fbd0394",
   "metadata": {
    "editable": true,
    "slideshow": {
     "slide_type": ""
    },
    "tags": []
   },
   "source": [
    "Kokeile myös DataFramen `explore`-metodia."
   ]
  },
  {
   "cell_type": "code",
   "execution_count": null,
   "id": "3057749e-1c82-4212-b678-9eadc74db4cf",
   "metadata": {
    "editable": true,
    "slideshow": {
     "slide_type": ""
    },
    "tags": []
   },
   "outputs": [],
   "source": [
    "parainen.explore()"
   ]
  },
  {
   "cell_type": "code",
   "execution_count": null,
   "id": "009cb355-2616-49fe-b930-bfda9e340a59",
   "metadata": {
    "editable": true,
    "slideshow": {
     "slide_type": ""
    },
    "tags": []
   },
   "outputs": [],
   "source": [
    "municipalities.area"
   ]
  },
  {
   "cell_type": "code",
   "execution_count": null,
   "id": "ac11ce22-aa8e-49c2-bfda-9431025fdcfb",
   "metadata": {},
   "outputs": [],
   "source": [
    "parainen.area"
   ]
  },
  {
   "cell_type": "code",
   "execution_count": null,
   "id": "92da6ea2-d3e6-4d54-8175-6e8b0b21e3f7",
   "metadata": {},
   "outputs": [],
   "source": [
    "municipalities.crs"
   ]
  },
  {
   "cell_type": "code",
   "execution_count": null,
   "id": "ad5335bb-4ddf-47b3-9555-810444485309",
   "metadata": {},
   "outputs": [],
   "source": [
    "municipalities_wgs = municipalities.to_crs(epsg=4326)\n",
    "municipalities_wgs.crs"
   ]
  },
  {
   "cell_type": "code",
   "execution_count": null,
   "id": "390a2d01-7602-4645-b03d-84e9c773c50b",
   "metadata": {},
   "outputs": [],
   "source": [
    "municipalities_wgs.plot(aspect=\"equal\")"
   ]
  },
  {
   "cell_type": "markdown",
   "id": "9ad81fc3-e341-4b6e-93ea-85b8caf27aef",
   "metadata": {},
   "source": [
    "# 1. Taulukosta kartalle"
   ]
  },
  {
   "cell_type": "code",
   "execution_count": null,
   "id": "8a04d6bd-facb-4d4a-9ae2-ca5aa1d910c9",
   "metadata": {},
   "outputs": [],
   "source": [
    "import pandas as pd\n",
    "\n",
    "lightnings = pd.read_csv(\"./data/lightnings.csv\")\n",
    "lightnings.head()"
   ]
  },
  {
   "cell_type": "code",
   "execution_count": null,
   "id": "31e9c1a1-18a1-469c-8691-272aa86ad765",
   "metadata": {},
   "outputs": [],
   "source": [
    "geo_lightnings = gpd.GeoDataFrame(lightnings)\n",
    "geo_lightnings.head()"
   ]
  },
  {
   "cell_type": "code",
   "execution_count": null,
   "id": "99984552-119d-4293-9c70-66b7a318f2a3",
   "metadata": {
    "editable": true,
    "slideshow": {
     "slide_type": ""
    },
    "tags": []
   },
   "outputs": [],
   "source": [
    "geo_lightnings = geo_lightnings.set_geometry(\n",
    "    gpd.points_from_xy(x=lightnings[\"longitude\"], y=lightnings[\"latitude\"])\n",
    ")\n",
    "\n",
    "geo_lightnings.head()"
   ]
  },
  {
   "cell_type": "code",
   "execution_count": null,
   "id": "0553ea6e-2e34-4e95-8cde-0f2f428d43a6",
   "metadata": {},
   "outputs": [],
   "source": [
    "geo_lightnings.plot(markersize=0.01)"
   ]
  },
  {
   "cell_type": "code",
   "execution_count": null,
   "id": "5ad17fdf-7e2d-47f0-895e-7740e528dd58",
   "metadata": {},
   "outputs": [],
   "source": [
    "geo_lightnings.crs"
   ]
  },
  {
   "cell_type": "code",
   "execution_count": null,
   "id": "d6fe21ab-78c0-403d-b15b-2dbfe7ffefcf",
   "metadata": {},
   "outputs": [],
   "source": [
    "geo_lightnings = geo_lightnings.set_crs(epsg=4326)\n",
    "geo_lightnings.crs"
   ]
  },
  {
   "cell_type": "code",
   "execution_count": null,
   "id": "0ea5cebb-82a7-4d05-8bc1-28a2ea5cc598",
   "metadata": {},
   "outputs": [],
   "source": [
    "geo_lightnings = geo_lightnings.to_crs(epsg=3067)\n",
    "geo_lightnings.head()"
   ]
  },
  {
   "cell_type": "markdown",
   "id": "b3333b45-529d-4fc8-b14a-2ae4b004abc8",
   "metadata": {},
   "source": [
    "# 2. Salamahavainnot kunnittain"
   ]
  },
  {
   "cell_type": "code",
   "execution_count": null,
   "id": "9f540177-e1c2-474a-9e20-dce2a7e0cda1",
   "metadata": {
    "editable": true,
    "slideshow": {
     "slide_type": ""
    },
    "tags": []
   },
   "outputs": [],
   "source": [
    "municipalities_with_lightnings = municipalities.sjoin(\n",
    "    geo_lightnings,\n",
    "    predicate=\"contains\",\n",
    ")"
   ]
  },
  {
   "cell_type": "code",
   "execution_count": null,
   "id": "319feca3-16e6-43b3-945f-2d9f624022a1",
   "metadata": {
    "editable": true,
    "slideshow": {
     "slide_type": ""
    },
    "tags": []
   },
   "outputs": [],
   "source": [
    "municipalities_with_lightnings"
   ]
  },
  {
   "cell_type": "code",
   "execution_count": null,
   "id": "abca7323-9e4b-4753-b1b1-70bde6928814",
   "metadata": {},
   "outputs": [],
   "source": [
    "# Group by district name\n",
    "group_by = municipalities_with_lightnings.groupby(\"nimi\")\n",
    "\n",
    "lightnings_by_municipality = group_by.size()\n",
    "lightnings_by_municipality\n",
    "#lightnings_by_municipality = lightnings_by_municipality.to_frame()\n",
    "lightnings_by_municipality = pd.DataFrame(lightnings_by_municipality, columns=[\"lightning_count\"])"
   ]
  },
  {
   "cell_type": "code",
   "execution_count": null,
   "id": "bb9f07ca-3ddb-4c9c-ba6d-7ab02df58796",
   "metadata": {},
   "outputs": [],
   "source": [
    "type(lightnings_by_municipality)"
   ]
  },
  {
   "cell_type": "code",
   "execution_count": null,
   "id": "46a8512f-899c-4059-beae-1443cefa70e6",
   "metadata": {},
   "outputs": [],
   "source": [
    "municipalities = municipalities.merge(\n",
    "    lightnings_by_municipality,\n",
    "    left_on=\"nimi\",\n",
    "    right_on=\"nimi\",\n",
    "    how=\"left\",\n",
    ")"
   ]
  },
  {
   "cell_type": "code",
   "execution_count": null,
   "id": "53a16636-c78c-4cf4-9ecc-a0e173d71526",
   "metadata": {},
   "outputs": [],
   "source": [
    "municipalities.plot(\n",
    "    column=\"lightning_count\"\n",
    ")"
   ]
  },
  {
   "cell_type": "code",
   "execution_count": null,
   "id": "04d1db2e-3cfd-48fc-9295-e8d212e32a96",
   "metadata": {
    "editable": true,
    "slideshow": {
     "slide_type": ""
    },
    "tags": []
   },
   "outputs": [],
   "source": [
    "area_km2 = municipalities.area / 1000000\n",
    "area_km2"
   ]
  },
  {
   "cell_type": "code",
   "execution_count": null,
   "id": "2f54109f-03a7-4691-9d56-7144e0a03914",
   "metadata": {},
   "outputs": [],
   "source": [
    "municipalities[\"lightnings_per_km2\"] = municipalities[\"lightning_count\"] / area_km2\n",
    "municipalities.head()"
   ]
  },
  {
   "cell_type": "code",
   "execution_count": null,
   "id": "dff7fcbd-9efc-48a3-9762-ecf256e46099",
   "metadata": {},
   "outputs": [],
   "source": [
    "municipalities.plot(column=\"lightnings_per_km2\")"
   ]
  },
  {
   "cell_type": "markdown",
   "id": "90de7ff7-cdf9-4efa-8da9-659a44fd21ea",
   "metadata": {},
   "source": [
    "# 3. Tulosten visualisointi"
   ]
  },
  {
   "cell_type": "code",
   "execution_count": null,
   "id": "71006493-ee9c-463e-ba41-3a8c2267adfe",
   "metadata": {
    "editable": true,
    "slideshow": {
     "slide_type": ""
    },
    "tags": []
   },
   "outputs": [],
   "source": [
    "municipalities.plot(\n",
    "    column=\"lightnings_per_km2\",\n",
    "    legend=True,\n",
    "    figsize=(7, 7),\n",
    "    cmap=\"Oranges\",\n",
    ")"
   ]
  },
  {
   "cell_type": "code",
   "execution_count": null,
   "id": "d0996ddc-d6ac-4615-baa1-bd96eb370e90",
   "metadata": {},
   "outputs": [],
   "source": [
    "municipalities.plot(\n",
    "    column=\"lightnings_per_km2\",\n",
    "    legend=True,\n",
    "    figsize=(7, 7),\n",
    "    scheme=\"quantiles\",\n",
    ")"
   ]
  },
  {
   "cell_type": "code",
   "execution_count": null,
   "id": "18bffe0d-3571-4d3f-a177-1c4cbac26274",
   "metadata": {},
   "outputs": [],
   "source": [
    "municipalities.plot(\n",
    "    column=\"lightnings_per_km2\",\n",
    "    legend=True,\n",
    "    figsize=(7, 7),\n",
    "    scheme=\"naturalbreaks\",\n",
    ")"
   ]
  },
  {
   "cell_type": "code",
   "execution_count": null,
   "id": "41bd1956-8515-45e1-8b39-97c69845a7c9",
   "metadata": {
    "editable": true,
    "slideshow": {
     "slide_type": ""
    },
    "tags": []
   },
   "outputs": [],
   "source": [
    "m = municipalities.explore(\n",
    "    column=\"lightnings_per_km2\",\n",
    "    tiles=\"CartoDB Positron\",\n",
    "    cmap=\"cividis\",\n",
    "    scheme=\"naturalbreaks\",\n",
    "    style_kwds={\"fillOpacity\": 1},\n",
    ")"
   ]
  },
  {
   "cell_type": "code",
   "execution_count": null,
   "id": "61010352-6bee-4aa9-a0b4-b81781aa4d8d",
   "metadata": {
    "editable": true,
    "slideshow": {
     "slide_type": ""
    },
    "tags": []
   },
   "outputs": [],
   "source": [
    "m"
   ]
  },
  {
   "cell_type": "code",
   "execution_count": null,
   "id": "7ced8f95-bdb5-4fe6-9946-db68127c8d10",
   "metadata": {
    "editable": true,
    "slideshow": {
     "slide_type": ""
    },
    "tags": []
   },
   "outputs": [],
   "source": [
    "out_file_path = Path(\"./map.html\")\n",
    "\n",
    "m.save(out_file_path)"
   ]
  }
 ],
 "metadata": {
  "kernelspec": {
   "display_name": "Python 3 (ipykernel)",
   "language": "python",
   "name": "python3"
  },
  "language_info": {
   "codemirror_mode": {
    "name": "ipython",
    "version": 3
   },
   "file_extension": ".py",
   "mimetype": "text/x-python",
   "name": "python",
   "nbconvert_exporter": "python",
   "pygments_lexer": "ipython3",
   "version": "3.12.7"
  }
 },
 "nbformat": 4,
 "nbformat_minor": 5
}
