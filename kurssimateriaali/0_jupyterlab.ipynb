{
 "cells": [
  {
   "cell_type": "markdown",
   "id": "618592e1-e672-4178-8e31-6e237797d525",
   "metadata": {
    "editable": true,
    "slideshow": {
     "slide_type": ""
    },
    "tags": []
   },
   "source": [
    "# Osa 0 - JupyterLab-ohjelmointiympäristö\n",
    "\n",
    "Tässä osassa tutustutaan itse ohjelmoinnin sijasta kurssilla käytettävään ohjelmointityökaluun - Jupyterlabiin.\n",
    "\n",
    "# JupyterLab lyhyesti\n",
    "\n",
    "JupyerLab on avoimen lähdekoodin selainpohjainen ohjelmointityökalu. Se toteuttaa monia erityisesti interaktiiviseen ohjelmointiin hyödyllisiä toimintoja, ja tarjoaa ne yhdessä käyttöliittymässä. JupyterLab sisältää esimerkiksi tiedostoselaimen, tekstieditorin, sekä, ennen kaikkea, tuen **notebook**-tiedostoille.\n",
    "\n",
    "# Notebookit ja interaktiivinen ohjelmointi\n",
    "\n",
    "Luet tällä hetkellä notebook-tiedostoa. Notebook-tiedosto on yhdistelmä koodia (useimmiten pythonia) sekä formatoitua tekstiä (ja mahdollisesti muutakin sisältöä, kuten kuvia). Jokainen notebook koostuu **soluista** (cell), jotka voivat sisältää joko koodia tai markdown-formatoitua tekstiä. Nyt lukemasi solu on markdown-solu, kun taas tämän solun alla näät koodisolun, jossa on yksinkertainen laskutoimitus."
   ]
  },
  {
   "cell_type": "code",
   "execution_count": null,
   "id": "2da19982-7867-45d6-88f1-c318c2b2dc77",
   "metadata": {},
   "outputs": [],
   "source": [
    "1 + 1"
   ]
  },
  {
   "cell_type": "markdown",
   "id": "e54aef64-24aa-4696-b976-05112face5aa",
   "metadata": {},
   "source": [
    "Solut mahdollistavat ehkäpä notebookien suurimman hyödyn: Interaktiivisuuden. Koodisolujen sisältöä voi muokata klikkaamalla solu aktiiviseksi ja muokkaamalla koodia. Painamalla **CTRL+Enter** voit suorittaa solun koodin (eli \"ajaa solun\"), ja painamalla **Shift+Enter** voit ajaa solun ja siirtyä sen jälkeen automaattisesti seuraavaan soluun (jos seuraavaa solua ei ole, se luodaan automaattisesti). Markdown-solut (esim. tämä solu) toimivat muuten samaan tapaan, mutta pääset editoimaan niitä tuplaklikkaamalla solua.\n",
    "\n",
    "Jos koodisolun koodi tuottaa jonkin lopputuloksen tai esimerkiksi tulostaa jotain, se näytetään solun alla automaattisesti. Esimerkiksi ylläolevan solun ajaminen näyttää laskutoimituksen tuloksen."
   ]
  },
  {
   "cell_type": "markdown",
   "id": "e2ae6a8d-a29c-4fec-963b-67720bc4562a",
   "metadata": {},
   "source": [
    "## Harjoitus - solun muokkaaminen ja suoritus\n",
    "\n",
    "1. Muuta yläpuolisen solun laskutoimitusta ja aja solu uudestaan.\n",
    "2. Muokkaa jotain tämän notebookin markdown-solua."
   ]
  },
  {
   "cell_type": "markdown",
   "id": "160f3d13-ce56-463e-9ca9-1c5a22e61f73",
   "metadata": {},
   "source": [
    "# JupyterLab käyttöliittymä\n",
    "\n",
    "Alla JupyterLabin käyttöliittymän osia:\n",
    "1. Tiedostoselain\n",
    "2. Ylävalikko: hyödyllinen jupyter-asetusten säätämiseen\n",
    "3. Välilehtipalkki: avoimet notebookit (tai muut tiedostot) välilehtinä\n",
    "4. Notebookin valinnat: notebookin suorittamiseen ja soluihin liittyviä valintoja. Täällä voit esim. vaihtaa solun tyyppiä markdownin ja koodin välillä.\n",
    "5. Markdown-solu\n",
    "6. Koodisolu ja sen tuloste\n",
    "7. Yksittäisen solun toimintoja: esim. poistaminen ja solujen järjestyksen vaihto\n",
    "\n",
    "Graafisen käyttölittyymän lisäksi monet tutut näppäinyhdistelmät toimivat. Voit esim. tallentaa notebookin **CTRL+S**, ja kopioida ja liittää tekstiä **CTRL+C** ja **CTRL+V**.\n",
    "\n",
    "![kuva](./kuvat/jupyter.png)\n",
    "\n",
    "Vielä välihuomio markdown-formaatista: kuvat. Kokeile tuplaklikata tämä solu aktiiviseksi. Osaatko päätellä, mistä yläpuolinen kuva tulee?"
   ]
  },
  {
   "cell_type": "markdown",
   "id": "3c49f635-e5bd-46df-b3d3-721ecd60385c",
   "metadata": {},
   "source": [
    "## Harjoitus - Solujen luonti ja poisto, koodin suorittaminen\n",
    "\n",
    "1. Luo tämän solun alle uusi koodisolu (vihje: aktivoi ensin tämä solu). Kirjoita uuteen soluun jokin laskutoimitus, ja suorita solun koodi.\n",
    "2. Luo vielä toinen solu koodisolun alle ja muuta se Markdown-soluksi. Muokkaa sen sisältöä ja poista se lopuksi."
   ]
  },
  {
   "cell_type": "markdown",
   "id": "81e24b55-72e5-4e45-a730-305bf5383d19",
   "metadata": {},
   "source": [
    "## Harjoitus - Kokonaisen notebookin suoritus kerralla\n",
    "\n",
    "Usein on hyödyllistä suorittaa koko notebook, eli kaikki sen solut, kerralla.\n",
    "\n",
    "1. Valitse notebookin valinnoista **Restart the kernel and run all cells**. Valitse Restart.\n",
    "\n",
    "![](./kuvat/run-all.png)\n",
    "\n",
    "Kurssin aikana tulet huomaamaan, miksi kernelin uudelleenkäynnistys on hyödyllistä."
   ]
  },
  {
   "cell_type": "code",
   "execution_count": null,
   "id": "437190f7-e8cd-40c3-a889-204d3cf8d6a8",
   "metadata": {},
   "outputs": [],
   "source": []
  }
 ],
 "metadata": {
  "kernelspec": {
   "display_name": "Python 3 (ipykernel)",
   "language": "python",
   "name": "python3"
  },
  "language_info": {
   "codemirror_mode": {
    "name": "ipython",
    "version": 3
   },
   "file_extension": ".py",
   "mimetype": "text/x-python",
   "name": "python",
   "nbconvert_exporter": "python",
   "pygments_lexer": "ipython3",
   "version": "3.12.7"
  }
 },
 "nbformat": 4,
 "nbformat_minor": 5
}
