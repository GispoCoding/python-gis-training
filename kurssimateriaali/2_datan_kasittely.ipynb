{
 "cells": [
  {
   "cell_type": "markdown",
   "id": "1abeb25c-f9bc-42e0-bb20-3464f9ca88c2",
   "metadata": {
    "editable": true,
    "slideshow": {
     "slide_type": ""
    },
    "tags": []
   },
   "source": [
    "# Datan käsittely Pythonissa\n",
    "\n",
    "Python on monikäyttöinen ns. \"general-purpose\" ohjelmointikieli, jolla voidaan käsitellä melkeinpä mitä vain dataa monilla eri tavoilla. Tällä kurssilla aihetta käsitellään paikkatietonäkökulmasta, keskittyen ensisijaisesti kahdentyyppiseen dataan: taulukkomaisiin aineistoihin sekä vektorimuotoiseen paikkatietoon."
   ]
  },
  {
   "cell_type": "markdown",
   "id": "1756db75-c8ce-4a9b-98d3-eb85cbdeb74a",
   "metadata": {},
   "source": [
    "# pandas\n",
    "\n",
    "## Mitä ja miksi\n",
    "\n",
    "[Pandas](https://pandas.pydata.org/) on Python-kirjasto, joka on muodostunut jo standardiksi data-analytiikassa ja taulukkomaisten aineistojen käsittelyssä. Paikkatietonäkökulmasta pandas on erityisen merkityksellinen siksi, että vektorimuotoisen paikkatiedon käsittelyssä laajasti käytetty [GeoPandas](https://geopandas.org/en/stable/)-kirjasto perustuu nimestäkin päätellen pandasiin, täydentäen sitä tuella spatiaalisiin operaatioihin ja geometrisiin datatyyppeihin.\n",
    "\n",
    "Tässä osiossa käsitellään siis pandasin perusteita, ja samalla vaivalla valmistaudutaan käyttämään GeoPandasia seuraavassa osassa.\n",
    "\n",
    "## Kirjaston käyttöönotto\n",
    "\n",
    "Koska pandas on Pythonin standardikirjaston ulkopuolinen kirjasto, täytyy se ottaa erikseen käyttöön. Koska olet kurssin python-ympäristössä, varsinainen asennus condalla on jo hoidettu (`conda install -c conda-forge pandas`). Näin ollen voit ottaa kirjaston suoraan käyttöön `import` avainsanalla. Huomaa, että on tavanomaista antaa pandas-kirjastolle nimeksi `pd`, kun se otetaan käyttöön."
   ]
  },
  {
   "cell_type": "code",
   "execution_count": null,
   "id": "ba8b6365-0ce4-409c-87d5-421348dfe527",
   "metadata": {},
   "outputs": [],
   "source": [
    "import pandas as pd"
   ]
  },
  {
   "cell_type": "markdown",
   "id": "004e05fc-183f-4791-9a52-aee32f14c95e",
   "metadata": {},
   "source": [
    "# Datan lukeminen\n",
    "\n",
    "Pandas lukee ja kirjoittaa [useita tiedosto- ja tietokantaformaatteja](https://pandas.pydata.org/docs/user_guide/io.html). Jos datasi on jollain tapaa taulukoksi taipuvaa, on pandasilla oletettavasti sille tuki.\n",
    "\n",
    "## Tiedostopolut\n",
    "\n",
    "Jotta voimme tuoda dataa tiedostosta, täytyy ensin tietää tiedoston sijainti, eli polku (path). Kurssin datakansio sijaitsee samassa hakemistossa tämän notebookin kanssa. Suhteessa tähän notebookkiin tiedoston sijaintia voidaan kuvailla siis näin: hakemisto `data`, jonka sisällä tiedosto `lightnings.csv`.\n",
    "\n",
    "Kirjoitetaan nyt yllä sanoin kuvattu polku suhteelliseksi tiedostopoluksi, eli:\n",
    "\n",
    "```\n",
    "./data/lightnings.csv\n",
    "```\n",
    "\n",
    "Polun osat ovat:\n",
    "- `./` = hakemisto, jossa tämä notebook on, tässä tapauksessa `kurssimateriaali`\n",
    "- `data/` = datakansio\n",
    "- `lightnings.csv` = tiedosto\n",
    "\n",
    "Pythonissa tiedostopolkujen käsittelyyn kannattaa käyttää pythonin oman `pathlib`-kirjaston `Path`-oliota. Näin mm. varmistamme, että polku toimii kaikilla käyttöjärjestelmillä."
   ]
  },
  {
   "cell_type": "code",
   "execution_count": null,
   "id": "124a0575-c45e-481b-8b4c-246462045420",
   "metadata": {
    "editable": true,
    "slideshow": {
     "slide_type": ""
    },
    "tags": []
   },
   "outputs": [],
   "source": [
    "from pathlib import Path\n",
    "\n",
    "file_path = Path(\"./data/lightnings.csv\")"
   ]
  },
  {
   "cell_type": "markdown",
   "id": "557c49b7-0d89-44e9-b478-beba28282286",
   "metadata": {},
   "source": [
    "Luetaan nyt `csv`-muotoista dataa tiedostosta `read_csv()`-funktiolla. \n",
    "\n",
    "Koska kysessä on pandasin funktio, täytyy sitä kutsua luomamme `pd`-muuttujan kautta:"
   ]
  },
  {
   "cell_type": "code",
   "execution_count": null,
   "id": "4ad9c1ee-721c-43c7-ba3d-09bbe47a5ceb",
   "metadata": {},
   "outputs": [],
   "source": [
    "lightnings = pd.read_csv(file_path)"
   ]
  },
  {
   "cell_type": "markdown",
   "id": "4e5617e4-960d-4ca0-b7ee-4dcb5dc88f1d",
   "metadata": {},
   "source": [
    "# DataFrame\n",
    "\n",
    "Äsken luodussa muuttujassa `lightnings` on nyt **DataFrame**, joka pitää sisällään csv-tiedoston sisällön. Tässä tapauksessa kyseessä on otos Ilmatieteen laitoksen avointa dataa, tarkemmin sanottuna salamahavaintoja.\n",
    "\n",
    "DataFrame on  kaksiulotteinen tietorakenne, jossa on rivejä (row) ja sarakkeita (column). Se on pandasin keskeisin tietorakenne, ja tiedon \"säilömisen\" lisäksi se toteuttaa useita erilaisia metodeita tiedon käsittelyyn.\n",
    "\n",
    "Tutkitaan DataFramea tarkemmin:"
   ]
  },
  {
   "cell_type": "code",
   "execution_count": null,
   "id": "a92cdad1-44f5-417b-ac9a-263681bdfc80",
   "metadata": {},
   "outputs": [],
   "source": [
    "type(lightnings)"
   ]
  },
  {
   "cell_type": "code",
   "execution_count": null,
   "id": "3132d42b-7874-4ae9-8aa8-d2c3c9dd2c96",
   "metadata": {},
   "outputs": [],
   "source": [
    "lightnings"
   ]
  },
  {
   "cell_type": "markdown",
   "id": "4533b63e-13f7-4385-b5b6-a280b12cda79",
   "metadata": {},
   "source": [
    "Jo ylle tulostuneesta DataFramen visuaalisesta esityksestä voidaan nähdä paljon. Vaikuttaa siltä, että yksi rivi kuvaa yhtä salamahavaintoa. Jokaisesta havainnosta tiedetään aika, sähkövirran absoluuttinen voimakkuus kiloampeereina, sekä sijaintitieto (lat / lon).\n",
    "\n",
    "Näämme myös rivien määrän, ja voimme jo päätellä sarakkeiden sisällön tyyppejä."
   ]
  },
  {
   "cell_type": "markdown",
   "id": "a8b3134f-4194-4008-8287-6a6c0c7b08a2",
   "metadata": {},
   "source": [
    "DataFramen `shape`-attribuutti kuvaa DataFramen muotoa, eli rivien ja sarakkeiden määrää:"
   ]
  },
  {
   "cell_type": "code",
   "execution_count": null,
   "id": "1cae9430-a3d2-4a04-95b2-ffd715013754",
   "metadata": {},
   "outputs": [],
   "source": [
    "lightnings.shape"
   ]
  },
  {
   "cell_type": "markdown",
   "id": "b950fabd-8969-4816-8f63-9dd746147b8b",
   "metadata": {},
   "source": [
    "Sarakkeiden nimiin päästään käsiksi `columns`-attribuutilla:"
   ]
  },
  {
   "cell_type": "code",
   "execution_count": null,
   "id": "0767f85c-31dd-460e-959f-8a2bccf0f400",
   "metadata": {},
   "outputs": [],
   "source": [
    "lightnings.columns"
   ]
  },
  {
   "cell_type": "markdown",
   "id": "5afd52bb-6519-4aa0-a70e-d5613dcb4e4d",
   "metadata": {},
   "source": [
    "Listoillekkin toimiva `len`-funktio toimii myös DataFrameilla:"
   ]
  },
  {
   "cell_type": "code",
   "execution_count": null,
   "id": "8011714c-d2fa-4bde-8c49-b525a28233e0",
   "metadata": {},
   "outputs": [],
   "source": [
    "len(lightnings)"
   ]
  },
  {
   "cell_type": "markdown",
   "id": "5a3549aa-4dcb-4c16-960f-6243ef1a6c82",
   "metadata": {},
   "source": [
    "Voit tutkia DataFramen alku- ja loppupäitä erikseen:"
   ]
  },
  {
   "cell_type": "code",
   "execution_count": null,
   "id": "d7874c98-5480-42a5-96a9-dd6f67d8db9b",
   "metadata": {},
   "outputs": [],
   "source": [
    "lightnings.head()"
   ]
  },
  {
   "cell_type": "code",
   "execution_count": null,
   "id": "38342889-b18e-401d-acff-06b193d985b7",
   "metadata": {},
   "outputs": [],
   "source": [
    "lightnings.tail(3)"
   ]
  },
  {
   "cell_type": "markdown",
   "id": "91514c5d-4bcd-4366-a919-654cfd3b19bb",
   "metadata": {},
   "source": [
    "Tilastollisia tunnuslukuja saadaan `describe`-metodilla:"
   ]
  },
  {
   "cell_type": "code",
   "execution_count": null,
   "id": "9cdc7594-173a-4bc1-9b44-203963af7f8e",
   "metadata": {},
   "outputs": [],
   "source": [
    "lightnings.describe()"
   ]
  },
  {
   "cell_type": "markdown",
   "id": "45925867-813e-4706-af72-fca8d9493227",
   "metadata": {},
   "source": [
    "# Datan valitseminen\n",
    "\n",
    "## Sarakkeet\n",
    "\n",
    "Yksi tyypillisimmistä tehtävistä taulukkomaisen datan käsittelyssä on eri sarakkeiden tai rivien valitseminen. Aloitetaan sarakkeista.\n",
    "\n",
    "DataFramen sarakkeita voit valita laittamalla sarakkeen nimen hakasulkuihin DataFramen perään:"
   ]
  },
  {
   "cell_type": "code",
   "execution_count": null,
   "id": "93797cfe-4ecc-4d0d-a5fd-0cd2256edf45",
   "metadata": {},
   "outputs": [],
   "source": [
    "column = lightnings[\"abs_peak_current_ka\"]\n",
    "column"
   ]
  },
  {
   "cell_type": "markdown",
   "id": "a3ad7c8c-3d07-42b4-a567-96507ef3b24d",
   "metadata": {},
   "source": [
    "Tuloste näyttää nyt eriltä kuin ennen. Tutkitaan asiaa `type`-funktiolla:"
   ]
  },
  {
   "cell_type": "code",
   "execution_count": null,
   "id": "4427e052-cf9a-4d63-ab39-b4ca5e518d50",
   "metadata": {},
   "outputs": [],
   "source": [
    "type(column)"
   ]
  },
  {
   "cell_type": "markdown",
   "id": "bba4b9cc-b9e5-4370-b023-c5c522fa1bf9",
   "metadata": {},
   "source": [
    "Pandasissa yksittäiset rivit ja sarakkeet ovat tyypiltään **Series**.\n",
    "\n",
    "Pandasin käytössä teknisiä yksityiskohtia ei tarvitse ymmärtää syvällisesti - esimerkiksi Seriesistä riittää tietää, että se on ikäänkuin pandasin oma optimoitu versio listasta. Series esimerkiksi sisältää indeksin sekä tekee datatyyppien perusteella automaattisesti suorituskykyoptimointeja.\n",
    "\n",
    "Series toteuttaa myös erilaisia toiminnallisuuksia. Esimerkkejä yhden sarakkeen sisällön tutkimisesta:"
   ]
  },
  {
   "cell_type": "code",
   "execution_count": null,
   "id": "d6648242-6f89-444e-890e-cae7956a7919",
   "metadata": {},
   "outputs": [],
   "source": [
    "column.max()"
   ]
  },
  {
   "cell_type": "code",
   "execution_count": null,
   "id": "26aa01fe-bb4b-4b7d-8e41-0c510a420a32",
   "metadata": {},
   "outputs": [],
   "source": [
    "column.unique()"
   ]
  },
  {
   "cell_type": "code",
   "execution_count": null,
   "id": "2a54f2de-4466-46e6-be27-cb4f79dcca4a",
   "metadata": {},
   "outputs": [],
   "source": [
    "column.sum()"
   ]
  },
  {
   "cell_type": "code",
   "execution_count": null,
   "id": "3517908a-6562-4d98-b264-bf331aa4fb8d",
   "metadata": {},
   "outputs": [],
   "source": [
    "column.describe()"
   ]
  },
  {
   "cell_type": "markdown",
   "id": "6872c119-dca2-4047-83b4-f07e4f31d68c",
   "metadata": {},
   "source": [
    "Series ei kuitenkaan toteuta yhtä laajoja toiminnallisuuksia kuin DataFrame. Usein halutaankin nimenomaan valita yksittäisten Seriesien sijaan otos DataFramesta uutena DataFramena. Se tapahtuu samaan tapaan - ainoa muutos on, että halutut sarakkeet annetaan listana:"
   ]
  },
  {
   "cell_type": "code",
   "execution_count": null,
   "id": "b8908a34-c832-42e1-a320-5b3783b0ad8e",
   "metadata": {},
   "outputs": [],
   "source": [
    "lightnings[[\"abs_peak_current_ka\"]]"
   ]
  },
  {
   "cell_type": "code",
   "execution_count": null,
   "id": "34af33e7-9d42-4752-87d8-008432a930a2",
   "metadata": {},
   "outputs": [],
   "source": [
    "lightnings[[\"abs_peak_current_ka\", \"latitude\", \"time\"]].head()"
   ]
  },
  {
   "cell_type": "code",
   "execution_count": null,
   "id": "9b4fae7c-1b1a-47e1-980b-bf46112bd378",
   "metadata": {},
   "outputs": [],
   "source": [
    "type(lightnings[[\"abs_peak_current_ka\"]])"
   ]
  },
  {
   "cell_type": "markdown",
   "id": "46c853e1-4972-43ed-8bdf-38661163e494",
   "metadata": {
    "editable": true,
    "slideshow": {
     "slide_type": ""
    },
    "tags": []
   },
   "source": [
    "## Harjoitus - Sarakkeiden valinta\n",
    "\n",
    "Tee `lightnings` Dataframesta versio, jossa ei ole `latitude` ja `longitude`-sarakkeita.\n",
    "\n",
    "1. Miten saat selville DataFramen sarakkeet?\n",
    "2. Muodosta lista sarakkeista, jotka haluat valita\n",
    "3. Valitse haluamasi sarakkeet käyttämällä listaa, ja tallenna tuloksena syntyvä DataFrame johonkin muuttujaan"
   ]
  },
  {
   "cell_type": "code",
   "execution_count": null,
   "id": "0ae508dc-acf4-4cae-96b7-6fdc99df5809",
   "metadata": {
    "editable": true,
    "slideshow": {
     "slide_type": ""
    },
    "tags": []
   },
   "outputs": [],
   "source": [
    "# Kirjoita Ratkaisu\n"
   ]
  },
  {
   "cell_type": "markdown",
   "id": "ba0b13d7-997d-4a4c-aafb-6215eda0fccd",
   "metadata": {
    "editable": true,
    "jp-MarkdownHeadingCollapsed": true,
    "slideshow": {
     "slide_type": ""
    },
    "tags": []
   },
   "source": [
    "## Ratkaisu"
   ]
  },
  {
   "cell_type": "code",
   "execution_count": null,
   "id": "22444147-5ae7-42b3-a36f-c7cf859b62d1",
   "metadata": {
    "editable": true,
    "slideshow": {
     "slide_type": ""
    },
    "tags": []
   },
   "outputs": [],
   "source": [
    "no_lat_lon = lightnings[[\"time\", \"abs_peak_current_ka\"]]\n",
    "no_lat_lon.head()"
   ]
  },
  {
   "cell_type": "markdown",
   "id": "30aee686-3b0c-4e59-9ab2-be851ca376dd",
   "metadata": {
    "editable": true,
    "slideshow": {
     "slide_type": ""
    },
    "tags": []
   },
   "source": [
    "## Rivien valinta indeksin perusteella\n",
    "\n",
    "Sarakkeiden lisäksi voidaan valita rivejä. Ehkä yksinkertaisin tapa on tehdä valinta rivin sijainnin, eli indeksin mukaan. Tämä tapahtuu `iloc`-attribuutin kautta. Kun haluamme rivejä, voidaan `iloc`-attribuutille antaa hakasuluissa numerona se indeksi, joka halutaan valita - aivan kuin listalle:"
   ]
  },
  {
   "cell_type": "code",
   "execution_count": null,
   "id": "435f5646-2404-48ae-8bb0-e519951227d0",
   "metadata": {},
   "outputs": [],
   "source": [
    "row = lightnings.iloc[0]\n",
    "row"
   ]
  },
  {
   "cell_type": "code",
   "execution_count": null,
   "id": "8be197c4-cbe6-401c-8039-208a889bae2a",
   "metadata": {},
   "outputs": [],
   "source": [
    "type(row)"
   ]
  },
  {
   "cell_type": "markdown",
   "id": "5c935fdc-42fe-45e7-a603-60a28e62fc64",
   "metadata": {},
   "source": [
    "Saamme jälleen Seriesin. Sarakkeista tuttu listan käyttö toimii, jos haluamme DataFramen:"
   ]
  },
  {
   "cell_type": "code",
   "execution_count": null,
   "id": "61cb6afc-1aed-49cf-ac1d-b9add98d3684",
   "metadata": {},
   "outputs": [],
   "source": [
    "lightnings.iloc[[0]]"
   ]
  },
  {
   "cell_type": "code",
   "execution_count": null,
   "id": "9d1882b2-f2d5-40e4-bb19-3a727103935f",
   "metadata": {},
   "outputs": [],
   "source": [
    "type(lightnings.iloc[[0, 1, 2]])"
   ]
  },
  {
   "cell_type": "markdown",
   "id": "8082b68e-9921-41ef-a216-c9f1517ca687",
   "metadata": {},
   "source": [
    "huomaa, että jokaisen halutun rivin indeksiä ei tarvitse määritellä erikseen. Voimme käyttää listoillakin toimivaa valintaa `[alku:loppu]`, jossa alku on ensimmäinen ja loppu viimeinen indeksi, johon asti halutaan hakea."
   ]
  },
  {
   "cell_type": "code",
   "execution_count": null,
   "id": "0d6403aa-3604-49f0-bf51-f8736ed53c7e",
   "metadata": {},
   "outputs": [],
   "source": [
    "lightnings.iloc[0:5]"
   ]
  },
  {
   "cell_type": "markdown",
   "id": "191f8e50-77e3-4612-b4d9-dde05e0f3ba9",
   "metadata": {},
   "source": [
    "## Rivien valinta ehdon perusteella\n",
    "\n",
    "Usein emme tiedä tarkalleen minkä indeksin riviltä löytyy mitäkin, emmekä näin ollen voi käyttää indeksejä valintoihin. Valintoja on myös usein tehtävä dynaamisesti joihinkin ehtoihin perustuen, jolloin indeksipohjainen valinta ei edes riitäisi.\n",
    "\n",
    "Monimutkaisempia, esimerkiksi ehtoon perustuvia, valintoja voi tehdä DataFramen `loc`-attribuutilla.\n",
    "\n",
    "Valitaan seuraavaksi kaikki salamahavainnot, joissa sähkövirta on ollut yli 10 kiloampeeria. `loc`-attribuutille annetaan siis ehtona se, että sarakkeen `abs_peak_current_ka` arvo tulisi olla yli 10: "
   ]
  },
  {
   "cell_type": "code",
   "execution_count": null,
   "id": "70495bbe-fb78-4546-9206-1d25f54c9310",
   "metadata": {},
   "outputs": [],
   "source": [
    "lightnings.loc[lightnings[\"abs_peak_current_ka\"] > 10]"
   ]
  },
  {
   "cell_type": "markdown",
   "id": "c4461dba-182b-44fd-b681-50fffd6e562d",
   "metadata": {},
   "source": [
    "Ehto palauttaa siis `True` tai `False` joka riville, minkä perusteella valinta tehdään. Tarkastellaan pelkkää ehtoa (myös selkeyden vuoksi ehto kannattaa usein kirjoittaa erikseen):"
   ]
  },
  {
   "cell_type": "code",
   "execution_count": null,
   "id": "08d50239-2ada-4635-9d6d-8411820a1972",
   "metadata": {},
   "outputs": [],
   "source": [
    "current_over_10 = lightnings[\"abs_peak_current_ka\"] > 10\n",
    "current_over_10"
   ]
  },
  {
   "cell_type": "markdown",
   "id": "7ae295e3-26e2-4190-b40f-cd1c4887fac0",
   "metadata": {},
   "source": [
    "Jolloin itse valinnasta tulee huomattavasti luettavampi:"
   ]
  },
  {
   "cell_type": "code",
   "execution_count": null,
   "id": "a75d46a3-523a-44c6-9d41-b9c99962a008",
   "metadata": {},
   "outputs": [],
   "source": [
    "lightnings.loc[current_over_10]"
   ]
  },
  {
   "cell_type": "markdown",
   "id": "a3ee2912-11cd-4037-8a74-f213fcbae7a0",
   "metadata": {},
   "source": [
    "## Harjoitus - rivien valinta yhdellä ehdolla\n",
    "\n",
    "Valitse ne rivit, joiden sähkövirta on pienempi tai yhtä suuri kuin 5 kiloampeeria.\n",
    "\n",
    "1. Kirjoita ehto, ja talleta se johonkin muuttujaan\n",
    "2. Tee valinta käyttämällä ehtoa `loc`-attribuutin kanssa"
   ]
  },
  {
   "cell_type": "code",
   "execution_count": null,
   "id": "ce6924c3-1446-4bda-a872-ac98d6b8e201",
   "metadata": {},
   "outputs": [],
   "source": [
    "# Kirjoita ratkaisu\n"
   ]
  },
  {
   "cell_type": "markdown",
   "id": "c6df4377-c822-43f6-82ec-d6e36e6a7f54",
   "metadata": {
    "jp-MarkdownHeadingCollapsed": true
   },
   "source": [
    "## Ratkaisu"
   ]
  },
  {
   "cell_type": "code",
   "execution_count": null,
   "id": "7760e4d9-be59-43ac-aa86-2e139ea12599",
   "metadata": {},
   "outputs": [],
   "source": [
    "condition = lightnings[\"abs_peak_current_ka\"] <= 5\n",
    "\n",
    "lightnings.loc[condition]"
   ]
  },
  {
   "cell_type": "markdown",
   "id": "5277062f-8392-4f30-bf2f-856d97f924a8",
   "metadata": {},
   "source": [
    "## Rivien valinta useilla ehdoilla"
   ]
  },
  {
   "cell_type": "markdown",
   "id": "68acfc67-0b56-4172-87da-8939c1455e67",
   "metadata": {},
   "source": [
    "Ehtoja voi myös yhdistellä. Huomaa, että `loc`-käyttötapauksessa `and` ja `or` korvautuvat operaattoreilla `&` ja `|`. \n",
    "\n",
    "Valitaan havainnot, joissa virta on tasan 10 tai 20 kiloampeeria:"
   ]
  },
  {
   "cell_type": "code",
   "execution_count": null,
   "id": "454c45ed-144d-4d03-b6a5-720ed0aa7414",
   "metadata": {},
   "outputs": [],
   "source": [
    "column = lightnings[\"abs_peak_current_ka\"]\n",
    "\n",
    "current_10_or_20 = (column == 10) | (column == 20)\n",
    "\n",
    "lightnings.loc[current_10_or_20]"
   ]
  },
  {
   "cell_type": "markdown",
   "id": "fa006c1b-5f34-4105-8a39-e3ac4940c90b",
   "metadata": {},
   "source": [
    "# Aikaleimat\n",
    "\n",
    "Aineistossamme on mukana `time`-sarake. Sisältö ei kuitenkaan (ainakaan ihmiselle) näytä kovin selkeältä aikamääreeltä.\n",
    "\n",
    "Kyseessä on [Unix-timestamp](https://www.unixtimestamp.com/), joka on usein koneluettavissa aineistoissa käytetty aikaformaatti. Pandasissa onkin valmiina tapa muuttaa tämä (ja moni muukin) aikaformaatti pythonissa hyödyllisempään `datetime`-muotoon: `to_datetime`-funktio.\n",
    "\n",
    "Korvataan siis sarakkeen `time` sisältö luettavammilla aikamääreillä `to_datetime`-funktiolla. Huomaa, että määrittelemme alkuperäisen yksikön olevan sekunteja, eli `s`."
   ]
  },
  {
   "cell_type": "code",
   "execution_count": null,
   "id": "462082b4-9787-4421-9c58-79b07b24a3fc",
   "metadata": {},
   "outputs": [],
   "source": [
    "datetimes = pd.to_datetime(lightnings[\"time\"], unit=\"s\")\n",
    "datetimes"
   ]
  },
  {
   "cell_type": "code",
   "execution_count": null,
   "id": "42974343-6c80-4140-9bc4-1d38373b6cf7",
   "metadata": {},
   "outputs": [],
   "source": [
    "lightnings[\"time\"] = datetimes \n",
    "lightnings.head()"
   ]
  },
  {
   "cell_type": "markdown",
   "id": "a1eaa59f-7531-4ff0-9921-625fb08eb8c9",
   "metadata": {},
   "source": [
    "Datetime-olioita voidaan käsitellä monien tuttujen metodien avulla. Haetaan vaikkapa ensimmäinen ja viimeinen havainto:"
   ]
  },
  {
   "cell_type": "code",
   "execution_count": null,
   "id": "d0402c1f-b2cf-477c-be92-08589191393d",
   "metadata": {},
   "outputs": [],
   "source": [
    "lightnings[\"time\"].min()"
   ]
  },
  {
   "cell_type": "code",
   "execution_count": null,
   "id": "d02dcb79-09a4-483c-ad55-a467cc5b3890",
   "metadata": {},
   "outputs": [],
   "source": [
    "lightnings[\"time\"].max()"
   ]
  },
  {
   "cell_type": "markdown",
   "id": "58d3ad10-3107-465f-9abc-af66df6d81ff",
   "metadata": {},
   "source": [
    "Huomaamme, että salamahavaintoja on yhden vuorokauden ajalta.\n",
    "\n",
    "Pääsemme käsiksi datetime-olioiden attribuutteihin (esim. päivä, tunti, tai sekunti) sarakkeen `dt`-attribuutin kautta:"
   ]
  },
  {
   "cell_type": "code",
   "execution_count": null,
   "id": "8ecb6b66-38dc-4c97-8a78-3a2c1c85fd2f",
   "metadata": {},
   "outputs": [],
   "source": [
    "lightnings[\"time\"].dt.hour"
   ]
  },
  {
   "cell_type": "markdown",
   "id": "f7946f54-042f-48fa-b29f-e511d8bbdbfb",
   "metadata": {},
   "source": [
    "Voimme valita rivejä nyt myös ajan perusteella:"
   ]
  },
  {
   "cell_type": "code",
   "execution_count": null,
   "id": "7f617a92-6624-4060-a01d-df1476ba20cf",
   "metadata": {},
   "outputs": [],
   "source": [
    "before_5_am = lightnings[\"time\"].dt.hour < 5\n",
    "\n",
    "lightnings.loc[before_5_am]"
   ]
  },
  {
   "cell_type": "markdown",
   "id": "6846bd6a-b923-4af7-bd1e-951654c60ec3",
   "metadata": {},
   "source": [
    "## Harjoitus - valinta ajan ja sähkövirran perusteella\n",
    "\n",
    "Kuinka monta yli 100:n kiloampeerin salamaa iski klo 20:00 jälkeen?\n",
    "1. kirjoita molemmat ehdot, selkeyden vuoksi kannattaa käyttää muuttujia.\n",
    "3. tee valinta ehtojen ja `loc`-attribuutin avulla"
   ]
  },
  {
   "cell_type": "code",
   "execution_count": null,
   "id": "68e6f107-4f20-406c-ba4f-aff0aa19e801",
   "metadata": {},
   "outputs": [],
   "source": [
    "# Kirjoita ratkaisu\n"
   ]
  },
  {
   "cell_type": "markdown",
   "id": "420177a3-7061-49fa-a367-be34870a40cf",
   "metadata": {
    "jp-MarkdownHeadingCollapsed": true
   },
   "source": [
    "## Ratkaisu"
   ]
  },
  {
   "cell_type": "code",
   "execution_count": null,
   "id": "cf3b8471-6522-41e3-993d-38c8b1292fdd",
   "metadata": {},
   "outputs": [],
   "source": [
    "after_2000 = lightnings[\"time\"].dt.hour > 20\n",
    "current_over_100 = lightnings[\"abs_peak_current_ka\"] > 100\n",
    "\n",
    "len(lightnings.loc[(after_2000) & (current_over_100)])"
   ]
  },
  {
   "cell_type": "markdown",
   "id": "018d9a8f-5fcb-48a8-b98e-f7e4b5f60806",
   "metadata": {},
   "source": [
    "# Datan ryhmittely ja yksinkertainen visualisointi\n",
    "\n",
    "Mitä jos haluaisimme nähdä kuinka monta salamaa on iskenyt vuorokauden eri tunteina?\n",
    "\n",
    "Yksi ratkaisu voisi olla ryhmitellä data tunnin mukaan, ja sen jälkeen visualisoida tuntikohtaiset rivien määrät.\n",
    "\n",
    "Lisätään ensin DataFrameen sarake `hour`, joka saa sisällöksi vain tunnin."
   ]
  },
  {
   "cell_type": "code",
   "execution_count": null,
   "id": "808cad58-1f90-48cd-8745-b09aa6d2147c",
   "metadata": {},
   "outputs": [],
   "source": [
    "lightnings[\"hour\"] = lightnings[\"time\"].dt.hour \n",
    "lightnings"
   ]
  },
  {
   "cell_type": "markdown",
   "id": "1ed2ccfa-417f-42e5-a520-0663e4249f4e",
   "metadata": {},
   "source": [
    "Ryhmitellään data uuden sarakkeen arvoihin perustuen käyttäen `group_by`-funktiota."
   ]
  },
  {
   "cell_type": "code",
   "execution_count": null,
   "id": "ff912965-5444-47ce-808a-c913b747712e",
   "metadata": {},
   "outputs": [],
   "source": [
    "group_by = lightnings.groupby(\"hour\")\n",
    "type(group_by)"
   ]
  },
  {
   "cell_type": "markdown",
   "id": "6bd4460f-8e7a-44ab-ab6a-c5b6cce9ac91",
   "metadata": {},
   "source": [
    "GroupBy-oliolle täytyy vielä kertoa, miten ryhmittely tulisi tehdä. Kun haluamme vain rivien määrän, voidaa käyttää `size`-funktiota."
   ]
  },
  {
   "cell_type": "code",
   "execution_count": null,
   "id": "8cdb5a50-81d5-43c6-872c-0893c3d2e985",
   "metadata": {},
   "outputs": [],
   "source": [
    "lightnings_per_hour = group_by.size()\n",
    "lightnings_per_hour"
   ]
  },
  {
   "cell_type": "markdown",
   "id": "4ebc08a9-f8b5-413f-8eba-1ad5bb3696b7",
   "metadata": {},
   "source": [
    "Nyt voimme visualisoida datan `plot`-metodilla. Pandas käyttää oletuksena visualisointiin **Matplotlib**-kirjastoa, joka on jo asennettu kurssiympäristöön."
   ]
  },
  {
   "cell_type": "code",
   "execution_count": null,
   "id": "1c099909-d2ec-406b-ab1d-3cafd0d21d48",
   "metadata": {},
   "outputs": [],
   "source": [
    "lightnings_per_hour.plot()"
   ]
  },
  {
   "cell_type": "markdown",
   "id": "1fd66e03-e45d-493e-994e-f1d36276438d",
   "metadata": {},
   "source": [
    "Laitetaan kuvaajalle vielä selitteet ja vaihdetaan sen tyyli pylväiksi:"
   ]
  },
  {
   "cell_type": "code",
   "execution_count": null,
   "id": "dfac13a5-8279-46f1-9395-2fc828ed112f",
   "metadata": {},
   "outputs": [],
   "source": [
    "lightnings_per_hour.plot(\n",
    "    title=\"Hourly lightning strikes on 1.6.2024\",\n",
    "    ylabel=\"count\",\n",
    "    kind=\"bar\",\n",
    ")"
   ]
  },
  {
   "cell_type": "code",
   "execution_count": null,
   "id": "175d5ba1-78d1-4463-a598-3c436ab13340",
   "metadata": {},
   "outputs": [],
   "source": []
  }
 ],
 "metadata": {
  "kernelspec": {
   "display_name": "Python 3 (ipykernel)",
   "language": "python",
   "name": "python3"
  },
  "language_info": {
   "codemirror_mode": {
    "name": "ipython",
    "version": 3
   },
   "file_extension": ".py",
   "mimetype": "text/x-python",
   "name": "python",
   "nbconvert_exporter": "python",
   "pygments_lexer": "ipython3",
   "version": "3.12.7"
  }
 },
 "nbformat": 4,
 "nbformat_minor": 5
}
