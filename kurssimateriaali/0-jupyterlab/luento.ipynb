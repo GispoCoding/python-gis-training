{
 "cells": [
  {
   "cell_type": "markdown",
   "id": "618592e1-e672-4178-8e31-6e237797d525",
   "metadata": {},
   "source": [
    "# JupyterLab-ohjelmointiympäristö\n",
    "\n",
    "JupyerLab on avoimen lähdekoodin selainpohjainen ohjelmointiympäristö. Se toteuttaa monia erityisesti interaktiiviseen ohjelmointiin hyödyllisiä toimintoja, ja tarjoaa ne yhdessä käyttöliittymässä. JupyterLab sisältää esimerkiksi tiedostoselaimen, tekstieditorin, sekä, ennen kaikkea, tuen **notebook**-tiedostoille.\n",
    "\n",
    "## Notebookit ja interaktiivinen ohjelmointi\n",
    "\n",
    "Luet tällä hetkellä notebook-tiedostoa. Notebook-tiedosto on yhdistelmä koodia (useimmiten pythonia) sekä formatoitua tekstiä (ja mahdollisesti muutakin sisältöä, kuten kuvia). Jokainen notebook koostuu **soluista** (cell), jotka voivat sisältää joko koodia tai markdown-formatoitua tekstiä. Nyt lukemasi solu on markdown-solu, kun taas tämän solun alla näät koodisolun, jossa on yksinkertainen laskutoimitus."
   ]
  },
  {
   "cell_type": "code",
   "execution_count": 1,
   "id": "2da19982-7867-45d6-88f1-c318c2b2dc77",
   "metadata": {},
   "outputs": [
    {
     "data": {
      "text/plain": [
       "2"
      ]
     },
     "execution_count": 1,
     "metadata": {},
     "output_type": "execute_result"
    }
   ],
   "source": [
    "1 + 1"
   ]
  },
  {
   "cell_type": "markdown",
   "id": "e54aef64-24aa-4696-b976-05112face5aa",
   "metadata": {},
   "source": [
    "Solut mahdollistavat ehkäpä notebookien suurimman hyödyn: Interaktiivisuuden. Koodisolujen sisältöä voi muokata klikkaamalla solu aktiiviseksi ja muokkaamalla koodia. Painamalla **CTRL+Enter** voit suorittaa solun koodin, ja painamalla **Shift+Enter** voit suorittaa solun ja siirtyä sen jälkeen automaattisesti seuraavaan soluun (jos seuraavaa solua ei ole, se luodaan automaattisesti). Markdown-solut (esim. tämä solu) toimivat muuten samaan tapaan, mutta pääset editoimaan niitä tuplaklikkaamalla solua.\n",
    "\n",
    "Jos koodisolun koodi tuottaa jonkin lopputuloksen tai esimerkiksi tulostaa jotain, se näytetään solun alla automaattisesti. Esimerkiksi ylläolevan solun ajaminen näyttää laskutoimituksen tuloksen. Kokeile muuttaa laskutoimitusta, ja aja solu uudestaan."
   ]
  },
  {
   "cell_type": "markdown",
   "id": "160f3d13-ce56-463e-9ca9-1c5a22e61f73",
   "metadata": {},
   "source": [
    "## JupyterLab käyttöliittymä\n",
    "\n",
    "Alla JupyterLabin käyttöliittymän osia:\n",
    "1. Tiedostoselain\n",
    "2. Ylävalikko, hyödyllinen jupyter-asetusten säätämiseen\n",
    "3. Avoimet notebookit (tai muut tiedostot) välilehtinä\n",
    "4. Notebookin suorittamiseen ja soluihin liittyviä valintoja. Täällä voit esim. vaihtaa solun tyyppiä markdownin ja koodin välillä.\n",
    "5. Markdown-solu\n",
    "6. Koodisolu ja sen tuloste\n",
    "7. Yksittäisen solun toimintoja, esim. poistaminen ja solujen järjestyksen vaihto\n",
    "\n",
    "Graafisen käyttölittyymän lisäksi monet tutut näppäinyhdistelmät toimivat. Voit esim. tallentaa notebookin **CTRL+S**, ja kopioida ja liittää tekstiä **CTRL+C** ja **CTRL+V**.\n",
    "\n",
    "![kuva](./kuvat/jupyter.png)\n",
    "\n",
    "Vielä yksi huomio markdown-formaatista: kuvat. Kokeile tuplaklikata tämä solu aktiiviseksi. Osaatko päätellä, mistä yläpuolinen kuva tulee?"
   ]
  },
  {
   "cell_type": "code",
   "execution_count": null,
   "id": "eb3ed995-d2a3-448f-b1f6-6ac390d65a3e",
   "metadata": {},
   "outputs": [],
   "source": []
  }
 ],
 "metadata": {
  "kernelspec": {
   "display_name": "Python 3 (ipykernel)",
   "language": "python",
   "name": "python3"
  },
  "language_info": {
   "codemirror_mode": {
    "name": "ipython",
    "version": 3
   },
   "file_extension": ".py",
   "mimetype": "text/x-python",
   "name": "python",
   "nbconvert_exporter": "python",
   "pygments_lexer": "ipython3",
   "version": "3.12.7"
  }
 },
 "nbformat": 4,
 "nbformat_minor": 5
}
