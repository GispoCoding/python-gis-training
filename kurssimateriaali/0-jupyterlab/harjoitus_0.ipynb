{
 "cells": [
  {
   "cell_type": "markdown",
   "id": "818673c8-8c7d-4a35-906e-9b81d32bf5a4",
   "metadata": {},
   "source": [
    "# Harjoitus 0 - JupyterLabin käyttö\n",
    "\n",
    "Tämän harjoituksen tarkoituksena on opetella JupyterLabin käyttöliittymän perusteita.\n",
    "\n",
    "## Solujen luonti ja poisto, koodin suorittaminen\n",
    "\n",
    "1. Luo tämän solun alle uusi koodisolu (vihje: aktivoi ensin tämä solu). Kirjoita uuteen soluun jokin laskutoimitus, ja suorita solun koodi.\n",
    "2. Luo vielä toinen solu koodisolun alle ja muuta se Markdown-soluksi. Muokkaa sen sisältöä ja poista se lopuksi."
   ]
  },
  {
   "cell_type": "markdown",
   "id": "82a88a44-df81-4000-8cfa-18500a76817a",
   "metadata": {},
   "source": [
    "## Kokonaisen notebookin suoritus kerralla\n",
    "\n",
    "Usein on hyödyllistä suorittaa koko notebook, eli kaikki sen solut, kerralla.\n",
    "\n",
    "1. Valitse notebookin valinnoista **Restart the kernel and run all cells**. Valitse Restart.\n",
    "\n",
    "![](../kuvat/run-all.png)\n",
    "\n",
    "Seuraavassa osassa palataan siihen, miksi kernelin uudelleenkäynnistys on hyödyllistä."
   ]
  },
  {
   "cell_type": "markdown",
   "id": "33ff0332-92a9-4324-a6bc-aed807307814",
   "metadata": {},
   "source": [
    "## Tiedostoselaimen ja välilehtien käyttö\n",
    "\n",
    "1. Navigoi tiedostoselaimella kurssihakemiston juureen, eli ylimmän tason hakemistoon (vinkki: voit painaa tiedostoselaimessa näkyvän tiedostopolun osia siirtyäksesi eri hakemistoihin).\n",
    "\n",
    "![](../kuvat/polku.png)\n",
    "\n",
    "2. Avaa jokin tiedosto, esim README.md. Sulje se välilehtipalkista.\n",
    "3. Navigoi takaisin hakemistoon, jossa tämä notebook on."
   ]
  },
  {
   "cell_type": "markdown",
   "id": "a83fef0d-8c79-4e6f-b00e-1d4321df6b23",
   "metadata": {},
   "source": [
    "## Käyttöliittymän muokkaus\n",
    "\n",
    "Joskus on hyödyksi nähdä kaksi asiaa samaan aikaan.\n",
    "\n",
    "1. Kokeile tarttua johonkin välilehteen välilehtipalkissa, ja vedä sitä alaspäin. Vedä se näytön oikelle puoliskolle ja päästä irti. Näkymän pitäisi nyt olla jakautunut kahteen osaan.\n",
    "3. Tartu aiemmin siirtämäsi ikkunan välilehdestä, ja vedä se takaisin toisen välilehtipalkin päälle. Näkymä on taas yhdistynyt.\n"
   ]
  }
 ],
 "metadata": {
  "kernelspec": {
   "display_name": "Python 3 (ipykernel)",
   "language": "python",
   "name": "python3"
  },
  "language_info": {
   "codemirror_mode": {
    "name": "ipython",
    "version": 3
   },
   "file_extension": ".py",
   "mimetype": "text/x-python",
   "name": "python",
   "nbconvert_exporter": "python",
   "pygments_lexer": "ipython3",
   "version": "3.12.7"
  }
 },
 "nbformat": 4,
 "nbformat_minor": 5
}
