{
 "cells": [
  {
   "cell_type": "code",
   "execution_count": 1,
   "id": "4dcd1aa1-b181-481b-a68a-d6dc69dfee14",
   "metadata": {},
   "outputs": [],
   "source": [
    "from shapely import Point, LineString, Polygon"
   ]
  },
  {
   "cell_type": "code",
   "execution_count": 2,
   "id": "6d0d8697-ba9f-41d4-bf8e-00edc25ab47f",
   "metadata": {},
   "outputs": [
    {
     "data": {
      "image/svg+xml": [
       "<svg xmlns=\"http://www.w3.org/2000/svg\" xmlns:xlink=\"http://www.w3.org/1999/xlink\" width=\"100.0\" height=\"100.0\" viewBox=\"0.0 1.0 2.0 2.0\" preserveAspectRatio=\"xMinYMin meet\"><g transform=\"matrix(1,0,0,-1,0,4.0)\"><circle cx=\"1.0\" cy=\"2.0\" r=\"0.06\" stroke=\"#555555\" stroke-width=\"0.02\" fill=\"#66cc99\" opacity=\"0.6\" /></g></svg>"
      ],
      "text/plain": [
       "<POINT (1 2)>"
      ]
     },
     "execution_count": 2,
     "metadata": {},
     "output_type": "execute_result"
    }
   ],
   "source": [
    "point = Point(1, 2)\n",
    "point"
   ]
  },
  {
   "cell_type": "code",
   "execution_count": 3,
   "id": "d5426030-5bb0-4396-a856-873aebe9ca71",
   "metadata": {},
   "outputs": [
    {
     "name": "stdout",
     "output_type": "stream",
     "text": [
      "POINT (1 2)\n"
     ]
    }
   ],
   "source": [
    "print(point)"
   ]
  },
  {
   "cell_type": "code",
   "execution_count": 4,
   "id": "70119e9c-154b-4524-88cf-0d8981712d90",
   "metadata": {},
   "outputs": [
    {
     "data": {
      "image/svg+xml": [
       "<svg xmlns=\"http://www.w3.org/2000/svg\" xmlns:xlink=\"http://www.w3.org/1999/xlink\" width=\"100.0\" height=\"100.0\" viewBox=\"1.0 3.0 2.0 2.0\" preserveAspectRatio=\"xMinYMin meet\"><g transform=\"matrix(1,0,0,-1,0,8.0)\"><circle cx=\"2.0\" cy=\"4.0\" r=\"0.06\" stroke=\"#555555\" stroke-width=\"0.02\" fill=\"#66cc99\" opacity=\"0.6\" /></g></svg>"
      ],
      "text/plain": [
       "<POINT Z (2 4 1)>"
      ]
     },
     "execution_count": 4,
     "metadata": {},
     "output_type": "execute_result"
    }
   ],
   "source": [
    "point_3d = Point(2, 4, 1)\n",
    "point_3d"
   ]
  },
  {
   "cell_type": "code",
   "execution_count": 5,
   "id": "c8dd2969-92a8-484a-b498-80f5c847b7aa",
   "metadata": {},
   "outputs": [
    {
     "data": {
      "image/svg+xml": [
       "<svg xmlns=\"http://www.w3.org/2000/svg\" xmlns:xlink=\"http://www.w3.org/1999/xlink\" width=\"100.0\" height=\"100.0\" viewBox=\"-1.08 -0.08 2.16 1.6600000000000001\" preserveAspectRatio=\"xMinYMin meet\"><g transform=\"matrix(1,0,0,-1,0,1.5)\"><polyline fill=\"none\" stroke=\"#66cc99\" stroke-width=\"0.0432\" points=\"0.0,0.0 -1.0,1.0 0.5,1.5 1.0,0.5\" opacity=\"0.8\" /></g></svg>"
      ],
      "text/plain": [
       "<LINESTRING (0 0, -1 1, 0.5 1.5, 1 0.5)>"
      ]
     },
     "execution_count": 5,
     "metadata": {},
     "output_type": "execute_result"
    }
   ],
   "source": [
    "point_1 = Point(0, 0)\n",
    "point_2 = Point(-1, 1)\n",
    "point_3 = Point(0.5, 1.5)\n",
    "point_4 = Point(1, 0.5)\n",
    "\n",
    "list_of_points = [point_1, point_2, point_3, point_4]\n",
    "\n",
    "line = LineString(list_of_points)\n",
    "line"
   ]
  },
  {
   "cell_type": "code",
   "execution_count": 6,
   "id": "34c08b17-9383-4dad-8111-a052393551c3",
   "metadata": {},
   "outputs": [
    {
     "name": "stdout",
     "output_type": "stream",
     "text": [
      "4.11338638120718\n",
      "POINT (-0.0641481185309257 0.9241933422325408)\n"
     ]
    }
   ],
   "source": [
    "print(line.length)\n",
    "print(line.centroid)"
   ]
  },
  {
   "cell_type": "code",
   "execution_count": 7,
   "id": "32b9557a-9f58-42a0-ad02-b3f128a31205",
   "metadata": {},
   "outputs": [
    {
     "data": {
      "image/svg+xml": [
       "<svg xmlns=\"http://www.w3.org/2000/svg\" xmlns:xlink=\"http://www.w3.org/1999/xlink\" width=\"100.0\" height=\"100.0\" viewBox=\"-1.08 -0.08 2.16 1.6600000000000001\" preserveAspectRatio=\"xMinYMin meet\"><g transform=\"matrix(1,0,0,-1,0,1.5)\"><path fill-rule=\"evenodd\" fill=\"#66cc99\" stroke=\"#555555\" stroke-width=\"0.0432\" opacity=\"0.6\" d=\"M 0.0,0.0 L -1.0,1.0 L 0.5,1.5 L 1.0,0.5 L 0.0,0.0 z\" /></g></svg>"
      ],
      "text/plain": [
       "<POLYGON ((0 0, -1 1, 0.5 1.5, 1 0.5, 0 0))>"
      ]
     },
     "execution_count": 7,
     "metadata": {},
     "output_type": "execute_result"
    }
   ],
   "source": [
    "polygon = Polygon(list_of_points)\n",
    "polygon"
   ]
  },
  {
   "cell_type": "code",
   "execution_count": 8,
   "id": "56dbfd1f-5654-40a5-abb4-2a44405d1106",
   "metadata": {},
   "outputs": [
    {
     "name": "stdout",
     "output_type": "stream",
     "text": [
      "POINT (0.0897435897435897 0.7692307692307693)\n",
      "1.625\n",
      "POLYGON ((0 0, -1 1, 0.5 1.5, 1 0.5, 0 0))\n"
     ]
    }
   ],
   "source": [
    "print(polygon.centroid)\n",
    "print(polygon.area)\n",
    "print(polygon)"
   ]
  },
  {
   "cell_type": "code",
   "execution_count": 9,
   "id": "0b8c0b5d-7d42-4860-bb23-39bdcd504aa4",
   "metadata": {},
   "outputs": [
    {
     "data": {
      "image/svg+xml": [
       "<svg xmlns=\"http://www.w3.org/2000/svg\" xmlns:xlink=\"http://www.w3.org/1999/xlink\" width=\"100.0\" height=\"100.0\" viewBox=\"-10.84 -0.84 22.68 21.68\" preserveAspectRatio=\"xMinYMin meet\"><g transform=\"matrix(1,0,0,-1,0,20.0)\"><g><path fill-rule=\"evenodd\" fill=\"#66cc99\" stroke=\"#555555\" stroke-width=\"0.4536\" opacity=\"0.6\" d=\"M 0.0,0.0 L -10.0,0.0 L 2.0,20.0 L 0.0,0.0 z\" /><path fill-rule=\"evenodd\" fill=\"#66cc99\" stroke=\"#555555\" stroke-width=\"0.4536\" opacity=\"0.6\" d=\"M 3.0,6.0 L 10.0,6.0 L 11.0,20.0 L 3.0,6.0 z\" /></g></g></svg>"
      ],
      "text/plain": [
       "<MULTIPOLYGON (((0 0, -10 0, 2 20, 0 0)), ((3 6, 10 6, 11 20, 3 6)))>"
      ]
     },
     "execution_count": 9,
     "metadata": {},
     "output_type": "execute_result"
    }
   ],
   "source": [
    "from shapely import MultiPoint, MultiLineString, MultiPolygon\n",
    "\n",
    "multipoint = MultiPoint(\n",
    "    [Point(1, 2), Point(3, 4)]\n",
    ")\n",
    "multiline = MultiLineString(\n",
    "    [LineString([(1, 7), (6, 4)]), LineString([(0, -1), (-4, 5)])]\n",
    ")\n",
    "multipoly = MultiPolygon(\n",
    "    [Polygon([(0, 0), (-10, 0), (2, 20)]), Polygon([(3, 6), (10, 6), (11, 20)])]\n",
    ")\n",
    "multipoly"
   ]
  },
  {
   "cell_type": "code",
   "execution_count": null,
   "id": "b592a85c-b750-481e-9f29-56e09b7cb24e",
   "metadata": {},
   "outputs": [],
   "source": []
  }
 ],
 "metadata": {
  "kernelspec": {
   "display_name": "Python 3 (ipykernel)",
   "language": "python",
   "name": "python3"
  },
  "language_info": {
   "codemirror_mode": {
    "name": "ipython",
    "version": 3
   },
   "file_extension": ".py",
   "mimetype": "text/x-python",
   "name": "python",
   "nbconvert_exporter": "python",
   "pygments_lexer": "ipython3",
   "version": "3.12.7"
  }
 },
 "nbformat": 4,
 "nbformat_minor": 5
}
