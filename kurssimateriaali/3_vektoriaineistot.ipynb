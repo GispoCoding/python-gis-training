{
 "cells": [
  {
   "cell_type": "markdown",
   "id": "da0700cc-9e13-43a9-b68c-5cbe7f08f90b",
   "metadata": {},
   "source": [
    "# Vektorimuotoinen paikkatieto\n",
    "\n",
    "Vektoriaineistot ovat paikkatietoa joko pisteinä viivointa tai monikulmioina. Tässä osiossa tutustutaan vektoridatan käsittelyn perusteisiin Pythonissa.\n",
    "\n",
    "# Shapely ja geometriat\n",
    "\n",
    "**Shapely** on vektoriaineistojen kannalta olennainen kirjasto, sillä se toteuttaa tuen geometrioiden luontiin, esittämiseen ja käsittelyyn. GeoPandasin geometriat perustuvat täysin Shapelyyn, joten, vaikka shapelyä ei välttämättä käytettäisi suoraan, on hyvä ymmärtää kirjaston perusteet.\n",
    "\n",
    "Aloitetaan ottamalla käyttöön Shapely-kirjastosta pisteet, viivat ja monikulmiot."
   ]
  },
  {
   "cell_type": "code",
   "execution_count": null,
   "id": "bd2bb78f-cbc2-42e2-ab70-af1d75ca51cd",
   "metadata": {
    "editable": true,
    "slideshow": {
     "slide_type": ""
    },
    "tags": []
   },
   "outputs": [],
   "source": [
    "from shapely import Point, LineString, Polygon"
   ]
  },
  {
   "cell_type": "markdown",
   "id": "04bdee07-6b0d-4df1-9ce6-853b18fb7dbe",
   "metadata": {},
   "source": [
    "Voimme nyt luoda pisteen, eli **Point**-olion. Huomaa myös iso P olitota luodessa - Pythonissa *konstruktorit*, eli olioita luovat metodit, kirjoitetaan usein käyttämällä CamelCase-notaatiota."
   ]
  },
  {
   "cell_type": "code",
   "execution_count": null,
   "id": "6d0d8697-ba9f-41d4-bf8e-00edc25ab47f",
   "metadata": {},
   "outputs": [],
   "source": [
    "point = Point(1, 2)\n",
    "point"
   ]
  },
  {
   "cell_type": "code",
   "execution_count": null,
   "id": "d5426030-5bb0-4396-a856-873aebe9ca71",
   "metadata": {},
   "outputs": [],
   "source": [
    "print(point)"
   ]
  },
  {
   "cell_type": "markdown",
   "id": "f6f7ee1a-485a-4e31-b336-f1f8d3acfe14",
   "metadata": {},
   "source": [
    "Voimme ottaa mukaan myös kolmannen ulottuvuuden:"
   ]
  },
  {
   "cell_type": "code",
   "execution_count": null,
   "id": "70119e9c-154b-4524-88cf-0d8981712d90",
   "metadata": {},
   "outputs": [],
   "source": [
    "point_3d = Point(2, 4, 1)\n",
    "point_3d"
   ]
  },
  {
   "cell_type": "markdown",
   "id": "780f737f-13b2-417c-a2f9-6139de875aae",
   "metadata": {},
   "source": [
    "Tehdään seuraavaksi monta pistettä, ja muodostetaan niistä viiva (**LineString**-olio):"
   ]
  },
  {
   "cell_type": "code",
   "execution_count": null,
   "id": "c8dd2969-92a8-484a-b498-80f5c847b7aa",
   "metadata": {},
   "outputs": [],
   "source": [
    "point_1 = Point(0, 0)\n",
    "point_2 = Point(-1, 1)\n",
    "point_3 = Point(0.5, 1.5)\n",
    "point_4 = Point(1, 0.5)\n",
    "\n",
    "list_of_points = [point_1, point_2, point_3, point_4]\n",
    "\n",
    "line = LineString(list_of_points)\n",
    "line"
   ]
  },
  {
   "cell_type": "markdown",
   "id": "2556bdd8-9588-4f6d-8e2d-454f16c38d5a",
   "metadata": {},
   "source": [
    "Shapely-geometrioilla on monia hyödyllisiä attribuutteja. Tässä esimerkiksi viivan pituus ja keskipiste."
   ]
  },
  {
   "cell_type": "code",
   "execution_count": null,
   "id": "34c08b17-9383-4dad-8111-a052393551c3",
   "metadata": {},
   "outputs": [],
   "source": [
    "print(line.length)\n",
    "print(line.centroid)"
   ]
  },
  {
   "cell_type": "markdown",
   "id": "27c28f2b-feb6-4a49-9d91-06dc38e82e6e",
   "metadata": {},
   "source": [
    "Monikulmion luonti onnistuu samaan tapaan:"
   ]
  },
  {
   "cell_type": "code",
   "execution_count": null,
   "id": "32b9557a-9f58-42a0-ad02-b3f128a31205",
   "metadata": {
    "editable": true,
    "slideshow": {
     "slide_type": ""
    },
    "tags": []
   },
   "outputs": [],
   "source": [
    "polygon = Polygon(list_of_points)\n",
    "polygon"
   ]
  },
  {
   "cell_type": "markdown",
   "id": "2f6f45f9-3558-4cff-8b6f-204005a9295a",
   "metadata": {},
   "source": [
    "Lisää esimerkkejä metodeista. Lasketaan keskipiste ja alue, ja luodaan monikulmiolle bufferi:"
   ]
  },
  {
   "cell_type": "code",
   "execution_count": null,
   "id": "56dbfd1f-5654-40a5-abb4-2a44405d1106",
   "metadata": {
    "editable": true,
    "slideshow": {
     "slide_type": ""
    },
    "tags": []
   },
   "outputs": [],
   "source": [
    "print(polygon.centroid)\n",
    "print(polygon.area)\n",
    "polygon.buffer(1)"
   ]
  },
  {
   "cell_type": "markdown",
   "id": "c7de19fe-17db-4d1b-85dd-afeaf1616375",
   "metadata": {},
   "source": [
    "Shapely tukee myös multi -versioita kaikista geometriatyypeistä:"
   ]
  },
  {
   "cell_type": "code",
   "execution_count": null,
   "id": "0b8c0b5d-7d42-4860-bb23-39bdcd504aa4",
   "metadata": {},
   "outputs": [],
   "source": [
    "from shapely import MultiPoint, MultiLineString, MultiPolygon\n",
    "\n",
    "multipoint = MultiPoint(\n",
    "    [Point(1, 2), Point(3, 1)]\n",
    ")\n",
    "multipoint"
   ]
  },
  {
   "cell_type": "code",
   "execution_count": null,
   "id": "850d2f70-fe09-407b-b93b-c8f8504c132b",
   "metadata": {},
   "outputs": [],
   "source": [
    "multiline = MultiLineString(\n",
    "    [LineString([(1, 7), (6, 4)]), LineString([(0, -1), (-4, 5)])]\n",
    ")\n",
    "multiline"
   ]
  },
  {
   "cell_type": "code",
   "execution_count": null,
   "id": "d3b390bc-0eab-41db-ac0b-ad0ac4832f02",
   "metadata": {},
   "outputs": [],
   "source": [
    "multipolygon = MultiPolygon(\n",
    "    [Polygon([(0, 0), (-10, 0), (2, 20)]), Polygon([(3, 6), (10, 6), (11, 20)])]\n",
    ")\n",
    "multipolygon"
   ]
  },
  {
   "cell_type": "markdown",
   "id": "7c1f8154-8ce1-460d-9faf-059c60744019",
   "metadata": {},
   "source": [
    "## Harjoitus - ympyrä\n",
    "\n",
    "Tee Shapely-geometrioita ja metodeja hyödyntäen \"ympyrä\".\n",
    "1. Vinkki: et tarvitse yhtäkään uutta `import`-komentoa.\n",
    "2. Vinkki: tämä on hieman kompakysymys. Helpompaa voi olla ajatella: mitä geometriatyyppiä ja metodia käyttämällä teen mahdollisimman pyöreän monikulmion?"
   ]
  },
  {
   "cell_type": "code",
   "execution_count": null,
   "id": "7b5a7825-3aa1-480e-ad99-6b36855e08aa",
   "metadata": {},
   "outputs": [],
   "source": [
    "# Kirjoita ratkaisu\n"
   ]
  },
  {
   "cell_type": "markdown",
   "id": "d1697c9c-7ace-4636-91a0-54b382fc5b14",
   "metadata": {
    "jp-MarkdownHeadingCollapsed": true
   },
   "source": [
    "## Ratkaisu"
   ]
  },
  {
   "cell_type": "code",
   "execution_count": null,
   "id": "ccfe4058-6b4c-4ba3-b561-3d719de4295b",
   "metadata": {},
   "outputs": [],
   "source": [
    "my_buffer = Point(1,1).buffer(10)\n",
    "\n",
    "print(type(my_buffer))\n",
    "my_buffer"
   ]
  },
  {
   "cell_type": "markdown",
   "id": "dcf3d6c0-cdb7-4997-b3a4-3cf2a2b3feed",
   "metadata": {},
   "source": [
    "# GeoPandas\n",
    "\n",
    "Seuraavaksi siirrytään vektoriaineistojen käsittelyssä erittäin monikäyttöiseen **GeoPandas**-kirjastoon. GeoPandas on aktiivisesti ylläpidetty ja kehitetty, laajalti käytetty kirjasto, joka on vakiinnuttanut asemansa paikkatietoalalla. Se tukee lähes mitä vain vektorimuotoisia paikkatietoformaatteja, sekä toimii yhteen esim. PostGISin kanssa.\n",
    "\n",
    "# GeoDataFrame ja GeoSeries\n",
    "\n",
    "GeoPandasissa keskeisin tietorakenne on **GeoDataFrame**. Se on muuten aivan kuin Pandasin DataFrame, mutta tukee geometrioita. GeoDataFramessa on ainakin yksi sarake, joka pitää sisällään jokaisen rivin geometriatiedon, eli vaikkapa pisteen, viivan tai monikulmion. Tämä sarake on tyypiltään **GeoSeries**. GeoDataframe ja GeoSeries toteuttavat monenlaisia paikkatietoanalyysejä ja datan käsittelyä mahdollistavia metodeja. Tässä materiaalissa ehditään tekemään vain pintaraapaisu - laajemman katasauksen löydät vaikkapa [GeoPandasin omasta dokumentaatiosta](https://geopandas.org/en/stable/docs/reference.html).\n",
    "\n",
    "Luodaan seuraavaksi GeoDataFrame tilastokeskuksen kunta-aineistosta (`./data/kunnat.gpkg`):"
   ]
  },
  {
   "cell_type": "code",
   "execution_count": null,
   "id": "b592a85c-b750-481e-9f29-56e09b7cb24e",
   "metadata": {},
   "outputs": [],
   "source": [
    "from pathlib import Path\n",
    "import geopandas as gpd"
   ]
  },
  {
   "cell_type": "code",
   "execution_count": null,
   "id": "9b24db98-726c-41b4-81f3-b19e2247399d",
   "metadata": {},
   "outputs": [],
   "source": [
    "file_path = Path(\"./data/kunnat.gpkg\")\n",
    "\n",
    "municipalities = gpd.read_file(file_path)"
   ]
  },
  {
   "cell_type": "code",
   "execution_count": null,
   "id": "2d2316b0-f446-42af-9eb9-a7db0c4c1571",
   "metadata": {},
   "outputs": [],
   "source": [
    "municipalities.head()"
   ]
  },
  {
   "cell_type": "code",
   "execution_count": null,
   "id": "38a12598-73d3-41c5-a344-c49a1f473e64",
   "metadata": {},
   "outputs": [],
   "source": [
    "type(municipalities)"
   ]
  },
  {
   "cell_type": "markdown",
   "id": "bc1e744d-71df-457b-a0c4-4b2344dc4de5",
   "metadata": {},
   "source": [
    "Geometriatiedot ovat oletuksena sarakkeessa nimeltä \"geometry\". GeoDataFramen geometrioihin päästään käsiksi `geometry`-attribuutilla:"
   ]
  },
  {
   "cell_type": "code",
   "execution_count": null,
   "id": "7868fdc9-e2f3-440e-985f-5facad5d102d",
   "metadata": {},
   "outputs": [],
   "source": [
    "municipalities.geometry"
   ]
  },
  {
   "cell_type": "markdown",
   "id": "74b3f503-8944-4314-8c22-d1cc51f9fbe2",
   "metadata": {},
   "source": [
    "Jos tiedämme geometriasarakkeen nimen, voimme käyttää myös sitä:"
   ]
  },
  {
   "cell_type": "code",
   "execution_count": null,
   "id": "24871add-82ca-40c2-a356-e9bc52a6f521",
   "metadata": {
    "editable": true,
    "slideshow": {
     "slide_type": ""
    },
    "tags": []
   },
   "outputs": [],
   "source": [
    "municipalities[\"geometry\"]"
   ]
  },
  {
   "cell_type": "markdown",
   "id": "e6c1763d-48f1-41ad-8bc8-d2b9626ed106",
   "metadata": {},
   "source": [
    "Huomaa, että geometriasarakkeen tyyppi on **GeoSeries**. GeoDataFramen muut sarakkeet ovat pandas Series."
   ]
  },
  {
   "cell_type": "code",
   "execution_count": null,
   "id": "be03c040-2eff-4c7e-aecb-f5cd1e7a848a",
   "metadata": {},
   "outputs": [],
   "source": [
    "type(municipalities[\"geometry\"])"
   ]
  },
  {
   "cell_type": "code",
   "execution_count": null,
   "id": "d815ab3b-e787-4939-a4d8-3b6ca61da787",
   "metadata": {},
   "outputs": [],
   "source": [
    "type(municipalities[\"nimi\"])"
   ]
  },
  {
   "cell_type": "markdown",
   "id": "2d979667-4997-4ac8-9800-755123ee742a",
   "metadata": {},
   "source": [
    "Tarkastellaan vielä yksittäistä GeoSeriesin alkiota (tässä tapauksessa ensimmäisen rivin geometriaa). Pohjimmiltaan geometriat ovat shapely-olioita:"
   ]
  },
  {
   "cell_type": "code",
   "execution_count": null,
   "id": "a144bd49-88e3-460a-ba75-896d98f9f47f",
   "metadata": {},
   "outputs": [],
   "source": [
    "my_geom = municipalities[\"geometry\"].iloc[0]\n",
    "\n",
    "my_geom"
   ]
  },
  {
   "cell_type": "code",
   "execution_count": null,
   "id": "538e30bc-d148-4a22-9925-508b4995dcf2",
   "metadata": {},
   "outputs": [],
   "source": [
    "type(my_geom)"
   ]
  },
  {
   "cell_type": "markdown",
   "id": "0561c4f6-8ad9-4f0b-a8a2-72c337946380",
   "metadata": {},
   "source": [
    "Myös muut pandasista tutut valinnat toimivat myös GeoPandasissa. Valitaan vaikkapa rivejä \"nimi\"-sarakkeen perusteella:"
   ]
  },
  {
   "cell_type": "code",
   "execution_count": null,
   "id": "2ef3f2d9-9d78-45aa-890f-cac1cad2afce",
   "metadata": {
    "editable": true,
    "slideshow": {
     "slide_type": ""
    },
    "tags": []
   },
   "outputs": [],
   "source": [
    "parainen = municipalities.loc[municipalities[\"nimi\"] == \"Parainen\"]\n",
    "parainen"
   ]
  },
  {
   "cell_type": "markdown",
   "id": "6c456f36-3e6f-4566-939f-2f4e7dac014f",
   "metadata": {},
   "source": [
    "# GeoDataFrame kartaksi\n",
    "\n",
    "Samaan tapaan kuin DataFramen, voimme helposti visualisoida myös GeoDataFramen sen `plot`-metodilla. Myös geopandas totetuttaa tämän toiminnallisuuden Matplotlib-kirjaston avulla."
   ]
  },
  {
   "cell_type": "code",
   "execution_count": null,
   "id": "44b7044b-c345-48f4-a55c-5acf8cb48fe9",
   "metadata": {
    "editable": true,
    "slideshow": {
     "slide_type": ""
    },
    "tags": []
   },
   "outputs": [],
   "source": [
    "municipalities.plot()"
   ]
  },
  {
   "cell_type": "markdown",
   "id": "2f1e0e5f-b81f-4401-8f41-19456247fb99",
   "metadata": {},
   "source": [
    "## Harjoitus - kunnan kartta\n",
    "\n",
    "Visualisoi yksittäinen kunta `plot`-metodilla.\n",
    "\n",
    "1. Valitse kunta esimerkiksi nimen perustella\n",
    "2. Käytä valinnasta saadun GeoDataFramen plot-metodia"
   ]
  },
  {
   "cell_type": "code",
   "execution_count": null,
   "id": "c63f675c-6cda-4bd1-8448-17697126eca6",
   "metadata": {},
   "outputs": [],
   "source": [
    "# Kirjoita ratkaisu\n"
   ]
  },
  {
   "cell_type": "markdown",
   "id": "579b4121-d3ff-4e7d-a2bb-1ea8a9fe2e5f",
   "metadata": {
    "jp-MarkdownHeadingCollapsed": true
   },
   "source": [
    "## Ratkaisu"
   ]
  },
  {
   "cell_type": "code",
   "execution_count": null,
   "id": "17f00f75-2359-4185-8b93-4afd92ec73dd",
   "metadata": {},
   "outputs": [],
   "source": [
    "my_municipality = municipalities.loc[municipalities[\"nimi\"] == \"Parainen\"]\n",
    "my_municipality.plot()"
   ]
  },
  {
   "cell_type": "markdown",
   "id": "ebd28900-224c-49db-b702-bb068fbd0394",
   "metadata": {
    "editable": true,
    "slideshow": {
     "slide_type": ""
    },
    "tags": []
   },
   "source": [
    "## Harjoitus - interaktiivinen kartta\n",
    "\n",
    "Staattisten Matplotlib-pohjaisten karttojen lisäksi voit tutkia GeoDataFramea interaktiivisesti `explore`-metodilla. Tämä toiminnallisuus käyttää taustalla **Folium**-kirjastoa.\n",
    "\n",
    "1. Visualisoi edellisessä harjoituksessa valitsemasi kunta `explore`-metodilla."
   ]
  },
  {
   "cell_type": "code",
   "execution_count": null,
   "id": "a41dccd0-f12e-44e2-9952-2298ac4a1700",
   "metadata": {},
   "outputs": [],
   "source": [
    "# Kirjoita ratkaisu\n"
   ]
  },
  {
   "cell_type": "markdown",
   "id": "12648e02-42f8-49e4-8363-536a7d42b9fe",
   "metadata": {
    "jp-MarkdownHeadingCollapsed": true
   },
   "source": [
    "## Ratkaisu"
   ]
  },
  {
   "cell_type": "code",
   "execution_count": null,
   "id": "3057749e-1c82-4212-b678-9eadc74db4cf",
   "metadata": {
    "editable": true,
    "slideshow": {
     "slide_type": ""
    },
    "tags": []
   },
   "outputs": [],
   "source": [
    "my_municipality.explore()"
   ]
  },
  {
   "cell_type": "markdown",
   "id": "67b39d0d-ca33-4d25-a067-b1277884d98a",
   "metadata": {},
   "source": [
    "# Koordinaattijärjestelmät\n",
    "\n",
    "Paikkatietoanalyyseissä ensiarvoisen tärkeää ovat **koordinaattijärjestelmät**. GeoDataFramen koordinaattijärjestelmään pääsee käsiksi `crs`-attribuutilla:"
   ]
  },
  {
   "cell_type": "code",
   "execution_count": null,
   "id": "92da6ea2-d3e6-4d54-8175-6e8b0b21e3f7",
   "metadata": {},
   "outputs": [],
   "source": [
    "municipalities.crs"
   ]
  },
  {
   "cell_type": "markdown",
   "id": "2887daea-4623-460c-86c9-3afd541fc9f1",
   "metadata": {},
   "source": [
    "Yläpuolisesta tulosteesta saamme paljon hyödyllistä tietoa: esimerkiksi sen, että geometrioihin liittyvät yksiköt ovat metrejä."
   ]
  },
  {
   "cell_type": "markdown",
   "id": "7dbe549c-8878-43f7-8505-3721705d7145",
   "metadata": {},
   "source": [
    "Projisointi johonkin toiseen koordinaattijärjestelmään tapahtuu `to_crs`-metodilla:"
   ]
  },
  {
   "cell_type": "code",
   "execution_count": null,
   "id": "ad5335bb-4ddf-47b3-9555-810444485309",
   "metadata": {},
   "outputs": [],
   "source": [
    "municipalities_wgs = municipalities.to_crs(epsg=4326)\n",
    "municipalities_wgs.crs"
   ]
  },
  {
   "cell_type": "code",
   "execution_count": null,
   "id": "390a2d01-7602-4645-b03d-84e9c773c50b",
   "metadata": {},
   "outputs": [],
   "source": [
    "municipalities_wgs.plot(aspect=\"equal\")"
   ]
  },
  {
   "cell_type": "markdown",
   "id": "5ddfdad4-d82b-4737-8837-cf12cbc6acd8",
   "metadata": {},
   "source": [
    "## Harjoitus - dokumentaatio\n",
    "\n",
    "Huomaat ylläolevassa solussa, että `plot`-funktion parametrille `aspect` annettiin arvoksi `\"equal\"`. Mitä tämä tarkoittaa?\n",
    "\n",
    "1. Vinkki: Hyödynnä hakukonetta, hyvä lähtökohta hakusanalle voi olla \"geodataframe plot\".\n",
    "2. Vinkki: Hyödynnä hakukoneen jälkeen dokumentaatiosivuja, jos sellaisia sattuu hakutulokseen ilmestymään."
   ]
  },
  {
   "cell_type": "markdown",
   "id": "ba464002-f586-4d70-a06f-9a89808cf718",
   "metadata": {},
   "source": [
    "Jos GeoDataFramella ei ole `crs`-attribuuttia, ei sitä voida uudelleenprojisoida. Tässä tapauksessa täytyy koordinaattijärjestelmä ensin asettaa `set_crs`-metodilla:"
   ]
  },
  {
   "cell_type": "code",
   "execution_count": null,
   "id": "cb2f7e0e-00cf-481d-a6e3-a7d2d5ee59c8",
   "metadata": {},
   "outputs": [],
   "source": [
    "# Poistetaan ensin tieto koordinaattijärjestelmästä\n",
    "unprojected = municipalities.set_crs(None, allow_override=True)\n",
    "print(unprojected.crs)\n",
    "unprojected.head()"
   ]
  },
  {
   "cell_type": "code",
   "execution_count": null,
   "id": "7fc36867-4619-4948-a5ee-5c8a8950a325",
   "metadata": {},
   "outputs": [],
   "source": [
    "# Asetetaan crs takaisin\n",
    "projected = unprojected.set_crs(epsg=3067)\n",
    "projected.crs.name"
   ]
  },
  {
   "cell_type": "markdown",
   "id": "9894bfcd-99b7-45c2-a573-4648af2c2bc7",
   "metadata": {},
   "source": [
    "## Harjoitus - projektio\n",
    "\n",
    "Projisoi kunta-aineisto (`municipalities`) johonkin haluamaasi koordinaatistoon. Voit esimerkiksi käyttää suosittua web-mercatoria, eli `epsg=3857`. Miltä Suomi nyt näyttää?\n",
    "\n",
    "1. Tallenna uudelleenprojisoinnin tulos muuttujaan\n",
    "2. Käytä `plot`-metodia"
   ]
  },
  {
   "cell_type": "code",
   "execution_count": null,
   "id": "c661a9ea-c85d-43f7-a117-c9df322abd78",
   "metadata": {},
   "outputs": [],
   "source": [
    "## Kirjoita ratkaisu\n"
   ]
  },
  {
   "cell_type": "markdown",
   "id": "c2a09e92-49ea-412c-881d-20066ae3d6b7",
   "metadata": {
    "jp-MarkdownHeadingCollapsed": true
   },
   "source": [
    "## Ratkaisu"
   ]
  },
  {
   "cell_type": "code",
   "execution_count": null,
   "id": "d9b6fb74-4bcf-4908-92bd-7e0a1b8324d5",
   "metadata": {},
   "outputs": [],
   "source": [
    "reprojected = municipalities.to_crs(epsg=3857)\n",
    "reprojected.plot()"
   ]
  },
  {
   "cell_type": "markdown",
   "id": "01bffc0e-9617-4d7f-9937-4365b1ebc321",
   "metadata": {},
   "source": [
    "# Geometrioiden toiminnallisuuksia\n",
    "\n",
    "GeoDataFrame ja GeoSeries toteuttavat lukuisia geometrioiden kanssa tomimiseen tarkoitettuja ja optimoituja attribuutteja ja metodeja. Alla muutama esimerkki.\n",
    "\n",
    "Aloitetaan laskemalla alueita ja keskipisteitä:"
   ]
  },
  {
   "cell_type": "code",
   "execution_count": null,
   "id": "009cb355-2616-49fe-b930-bfda9e340a59",
   "metadata": {
    "editable": true,
    "slideshow": {
     "slide_type": ""
    },
    "tags": []
   },
   "outputs": [],
   "source": [
    "municipalities.area"
   ]
  },
  {
   "cell_type": "code",
   "execution_count": null,
   "id": "ac11ce22-aa8e-49c2-bfda-9431025fdcfb",
   "metadata": {},
   "outputs": [],
   "source": [
    "centroids = municipalities.centroid\n",
    "centroids.plot()"
   ]
  },
  {
   "cell_type": "markdown",
   "id": "f9461def-cfbe-428f-9c65-bed4622227db",
   "metadata": {},
   "source": [
    "Jokaisen kunnan bounding box eli `enevelope`. Huomaa, että voimme piirtää vain ääriviivat asettamalla `plot`-metodille `facecolor=\"none\"`."
   ]
  },
  {
   "cell_type": "code",
   "execution_count": null,
   "id": "759db60c-2a9c-4a49-bc46-e1cb139c8a22",
   "metadata": {},
   "outputs": [],
   "source": [
    "municipalities.envelope.plot(facecolor=\"none\")"
   ]
  },
  {
   "cell_type": "markdown",
   "id": "ae946f76-4972-4f37-b84a-77428c37bcf4",
   "metadata": {},
   "source": [
    "Geometrioiden yhdistäminen:"
   ]
  },
  {
   "cell_type": "code",
   "execution_count": null,
   "id": "2dfbe65c-11b4-4b6f-842e-10b3dd734df9",
   "metadata": {},
   "outputs": [],
   "source": [
    "dissolved = municipalities.dissolve()\n",
    "dissolved.plot()"
   ]
  },
  {
   "cell_type": "code",
   "execution_count": null,
   "id": "e534e12a-76db-401c-be0a-182c4ce61796",
   "metadata": {},
   "outputs": [],
   "source": [
    "dissolved"
   ]
  },
  {
   "cell_type": "markdown",
   "id": "77430781-85ad-4421-978a-bdf8ff8e4d1c",
   "metadata": {},
   "source": [
    "Koko GeoDataFramen sisältävä konveksi monikulmio ja bounding box:"
   ]
  },
  {
   "cell_type": "code",
   "execution_count": null,
   "id": "00829498-c0e7-4fcb-b95e-579b2d6dae16",
   "metadata": {},
   "outputs": [],
   "source": [
    "dissolved.convex_hull.plot()"
   ]
  },
  {
   "cell_type": "code",
   "execution_count": null,
   "id": "b76e5aa8-292e-4090-972e-37028f0db4a1",
   "metadata": {},
   "outputs": [],
   "source": [
    "dissolved.envelope.plot()"
   ]
  },
  {
   "cell_type": "markdown",
   "id": "16709a70-1b2a-458d-a19d-d897645b80b5",
   "metadata": {},
   "source": [
    "geometrian yksinkertaistaminen:"
   ]
  },
  {
   "cell_type": "code",
   "execution_count": null,
   "id": "323a75e5-4053-438f-8bcd-1b0e082ee709",
   "metadata": {},
   "outputs": [],
   "source": [
    "dissolved.simplify(tolerance=40000).plot()"
   ]
  },
  {
   "cell_type": "markdown",
   "id": "9ae6b3a6-128f-4496-bffa-742f063770f8",
   "metadata": {},
   "source": [
    "Tarkastellaan lopuksi vielä muutamaa **overlay**-operaatiota.\n",
    "\n",
    "Muodostetaan Helsingille ensin bufferialue:"
   ]
  },
  {
   "cell_type": "code",
   "execution_count": null,
   "id": "24b55aa8-4b4e-484c-a402-f7609e56a92d",
   "metadata": {},
   "outputs": [],
   "source": [
    "# Luodaan vain Helsingin sisältävä kopio kunta-aineistosta \n",
    "helsinki_buffer = municipalities.loc[municipalities[\"nimi\"] == \"Helsinki\"].copy()\n",
    "\n",
    "# Tehdään bufferi ja asetetaan se geometriaksi\n",
    "# Buffer-metodille annetaan etäisyys koordinaattijärjestelmän mukaisessa yksikössä, nyt siis metreissä\n",
    "helsinki_buffer[\"geometry\"] = helsinki_buffer.centroid.buffer(150000)"
   ]
  },
  {
   "cell_type": "markdown",
   "id": "9c49d85b-efb5-4b22-b370-4b4c8c33e59f",
   "metadata": {},
   "source": [
    "Havainnollistetaan lähtötilanne visuaalisesti:"
   ]
  },
  {
   "cell_type": "code",
   "execution_count": null,
   "id": "89a44219-ec80-4203-bfa0-f1d78b2a056d",
   "metadata": {},
   "outputs": [],
   "source": [
    "ax = municipalities.plot()\n",
    "helsinki_buffer.plot(ax=ax, facecolor=\"orange\", alpha=0.5)"
   ]
  },
  {
   "cell_type": "markdown",
   "id": "cba9e2b1-214f-4301-b669-99a01c560cc8",
   "metadata": {},
   "source": [
    "Itse overlay-analyysi tapahtuu `overlay`-metodilla, jonka `how`-parametrille annetaan merkkijonona overlayn tyyppi.\n",
    "\n",
    "Valitaan yhteinen alue (**intersection**), eli annetaan metodikutsussa `how=\"intersection\"`:"
   ]
  },
  {
   "cell_type": "code",
   "execution_count": null,
   "id": "f30347a3-4110-4257-ad4e-004302601f12",
   "metadata": {},
   "outputs": [],
   "source": [
    "intersection = municipalities.overlay(helsinki_buffer, how=\"intersection\")\n",
    "intersection.plot()"
   ]
  },
  {
   "cell_type": "markdown",
   "id": "4b266fe0-d7e5-4b25-87af-1badf7675783",
   "metadata": {},
   "source": [
    "Yhdistetään geometrioita **Union**illa:"
   ]
  },
  {
   "cell_type": "code",
   "execution_count": null,
   "id": "0de58eb5-86fd-4f6e-bb58-4bcbf5768c35",
   "metadata": {},
   "outputs": [],
   "source": [
    "dissolved.overlay(helsinki_buffer, how=\"union\").plot()"
   ]
  },
  {
   "cell_type": "markdown",
   "id": "e5cf61e1-9563-427c-89bc-77225eeb7a0c",
   "metadata": {},
   "source": [
    "Erotus eli **difference**:"
   ]
  },
  {
   "cell_type": "code",
   "execution_count": null,
   "id": "36a793d5-0b49-4270-b765-b2665bfca53b",
   "metadata": {},
   "outputs": [],
   "source": [
    "dissolved.overlay(helsinki_buffer, how=\"difference\").plot()"
   ]
  },
  {
   "cell_type": "markdown",
   "id": "0cffb6e0-2fb9-43e8-8014-c0dcadd5b372",
   "metadata": {},
   "source": [
    "**Symmetric difference**:"
   ]
  },
  {
   "cell_type": "code",
   "execution_count": null,
   "id": "44f8cccf-de27-4d50-bc77-86edc41c15d7",
   "metadata": {},
   "outputs": [],
   "source": [
    "symmetric_diff = dissolved.overlay(helsinki_buffer, how=\"symmetric_difference\")\n",
    "symmetric_diff.plot()"
   ]
  },
  {
   "cell_type": "markdown",
   "id": "3340de97-edb2-4e1f-a013-e18d2d6b70ce",
   "metadata": {},
   "source": [
    "## Harjoitus - merialue Uusimaan edustalla\n",
    "\n",
    "Tee yksinkertainen kartta, jossa visualisoit äsken tehdyssä `symmetric_difference` -overlayssa syntyneen merialueen.\n",
    "1. Miten pääset käsiksi pelkkään merialueeseen? Käytä jo luotua `symmetric_diff` -muuttujaa.\n",
    "1. Muodosta GeoDataFrame, jossa on vain haluttu merialue.\n",
    "1. Käytä `plot`-metodia."
   ]
  },
  {
   "cell_type": "code",
   "execution_count": null,
   "id": "69839e2d-8bb8-434d-ac66-fac160957407",
   "metadata": {},
   "outputs": [],
   "source": [
    "# Kirjoita ratkaisu\n"
   ]
  },
  {
   "cell_type": "markdown",
   "id": "e8597a0b-443e-48f8-976e-d66b04083cf3",
   "metadata": {
    "jp-MarkdownHeadingCollapsed": true
   },
   "source": [
    "## Ratkaisu"
   ]
  },
  {
   "cell_type": "code",
   "execution_count": null,
   "id": "512f8f65-24cc-4692-b487-930cc141248c",
   "metadata": {},
   "outputs": [],
   "source": [
    "sea = symmetric_diff.iloc[[1]]\n",
    "sea.plot()"
   ]
  }
 ],
 "metadata": {
  "kernelspec": {
   "display_name": "Python 3 (ipykernel)",
   "language": "python",
   "name": "python3"
  },
  "language_info": {
   "codemirror_mode": {
    "name": "ipython",
    "version": 3
   },
   "file_extension": ".py",
   "mimetype": "text/x-python",
   "name": "python",
   "nbconvert_exporter": "python",
   "pygments_lexer": "ipython3",
   "version": "3.12.8"
  }
 },
 "nbformat": 4,
 "nbformat_minor": 5
}
