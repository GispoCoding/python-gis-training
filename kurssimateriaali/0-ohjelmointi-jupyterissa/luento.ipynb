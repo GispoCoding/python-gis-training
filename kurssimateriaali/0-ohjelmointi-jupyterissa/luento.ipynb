{
 "cells": [
  {
   "cell_type": "markdown",
   "id": "618592e1-e672-4178-8e31-6e237797d525",
   "metadata": {},
   "source": [
    "# JupyterLab-ohjelmointiympäristö\n",
    "\n",
    "JupyerLab on avoimen lähdekoodin selainpohjainen ohjelmointiympäristö. JupyterLab toteuttaa monia erityisesti interaktiiviseen ohjelmointiin hyödyllisiä toimintoja, ja tarjoaa ne yhdessä käyttöliittymässä. JupyterLab sisältää esimerkiksi tiedostoselaimen, tekstieditorin, sekä, ennen kaikkea, tuen **notebook**-tiedostoille.\n",
    "\n",
    "## Notebookit ja interaktiivinen ohjelmointi\n",
    "\n",
    "Notebook-tiedosto on yhdistelmä koodia (useimmiten pythonia) sekä formatoitua tekstiä ja mahdollisesti muutakin sisältöä, kuten kuvia. Tämä on mahdollista, koska, toisin kuin yksinkertainen tekstitiedosto, notebook koostuu **soluista** (cell). Jokainen solu voi sisältää joko koodia, tai markdown-formatoitua tekstiä.\n",
    "\n",
    "Solut mahdollistavat myös toisen ehkäpä notebookien suurimman hyödyn: Interaktiivisuuden\n"
   ]
  },
  {
   "cell_type": "code",
   "execution_count": null,
   "id": "2da19982-7867-45d6-88f1-c318c2b2dc77",
   "metadata": {},
   "outputs": [],
   "source": []
  }
 ],
 "metadata": {
  "kernelspec": {
   "display_name": "Python 3 (ipykernel)",
   "language": "python",
   "name": "python3"
  },
  "language_info": {
   "codemirror_mode": {
    "name": "ipython",
    "version": 3
   },
   "file_extension": ".py",
   "mimetype": "text/x-python",
   "name": "python",
   "nbconvert_exporter": "python",
   "pygments_lexer": "ipython3",
   "version": "3.12.7"
  }
 },
 "nbformat": 4,
 "nbformat_minor": 5
}
