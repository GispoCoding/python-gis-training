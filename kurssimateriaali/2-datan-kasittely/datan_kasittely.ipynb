{
 "cells": [
  {
   "cell_type": "markdown",
   "id": "1abeb25c-f9bc-42e0-bb20-3464f9ca88c2",
   "metadata": {},
   "source": [
    "# Datan käsittely Pythonissa\n",
    "\n"
   ]
  },
  {
   "cell_type": "code",
   "execution_count": null,
   "id": "6c44eb94-ada8-45db-872a-7d10d3230906",
   "metadata": {},
   "outputs": [],
   "source": []
  }
 ],
 "metadata": {
  "kernelspec": {
   "display_name": "Python 3 (ipykernel)",
   "language": "python",
   "name": "python3"
  },
  "language_info": {
   "codemirror_mode": {
    "name": "ipython",
    "version": 3
   },
   "file_extension": ".py",
   "mimetype": "text/x-python",
   "name": "python",
   "nbconvert_exporter": "python",
   "pygments_lexer": "ipython3",
   "version": "3.12.7"
  }
 },
 "nbformat": 4,
 "nbformat_minor": 5
}
