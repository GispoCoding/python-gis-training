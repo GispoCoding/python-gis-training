{
 "cells": [
  {
   "cell_type": "markdown",
   "id": "1abeb25c-f9bc-42e0-bb20-3464f9ca88c2",
   "metadata": {},
   "source": [
    "# Datan käsittely Pythonissa\n",
    "\n",
    "Python on monikäyttöinen ns. \"general-purpose\" ohjelmointikieli, jolla voidaan käsitellä melkeinpä mitä vain dataa monilla eri tavoilla. Tällä kurssilla aihetta käsitellään paikkatietonäkökulmasta, keskittyen ensisijaisesti kahdentyyppiseen dataan: taulukkomaisiin aineistoihin sekä vektorimuotoiseen paikkatietoon."
   ]
  },
  {
   "cell_type": "markdown",
   "id": "1756db75-c8ce-4a9b-98d3-eb85cbdeb74a",
   "metadata": {},
   "source": [
    "# pandas\n",
    "\n",
    "## Mitä ja miksi\n",
    "\n",
    "[Pandas](https://pandas.pydata.org/) on Python-kirjasto, joka on muodostunut jo standardiksi data-analytiikassa ja taulukkomaisten aineistojen käsittelyssä. Paikkatietonäkökulmasta pandas on erityisen merkityksellinen siksi, että vektorimuotoisen paikkatiedon käsittelyssä laajasti käytetty [GeoPandas](https://geopandas.org/en/stable/)-kirjasto perustuu nimestäkin päätellen pandasiin, täydentäen sitä tuella spatiaalisiin operaatioihin ja geometrisiin datatyyppeihin.\n",
    "\n",
    "Tässä osiossa käsitellään siis pandasin perusteita, ja samalla vaivalla valmistaudutaan käyttämään GeoPandasia seuraavassa osassa.\n",
    "\n",
    "## Kirjaston käyttöönotto\n",
    "\n",
    "Koska pandas on Pythonin standardikirjaston ulkopuolinen kirjasto, täytyy se ottaa erikseen käyttöön. Koska olet kurssin python-ympäristössä, varsinainen asennus condalla on jo hoidettu (`conda install -c conda-forge pandas`). Näin ollen voit ottaa kirjaston suoraan käyttöön `import` avainsanalla. Huomaa, että on tavanomaista antaa pandas-kirjastolle nimeksi `pd`, kun se otetaan käyttöön."
   ]
  },
  {
   "cell_type": "code",
   "execution_count": 1,
   "id": "ba8b6365-0ce4-409c-87d5-421348dfe527",
   "metadata": {},
   "outputs": [],
   "source": [
    "import pandas as pd"
   ]
  },
  {
   "cell_type": "markdown",
   "id": "004e05fc-183f-4791-9a52-aee32f14c95e",
   "metadata": {},
   "source": [
    "# Datan lukeminen\n",
    "\n",
    "Pandas lukee ja kirjoittaa [useita tiedosto- ja tietokantaformaatteja](https://pandas.pydata.org/docs/user_guide/io.html). Jos datasi on jollain tapaa taulukoksi taipuvaa, on pandasilla oletettavasti sille tuki.\n",
    "\n",
    "## Tiedostopolut\n",
    "\n",
    "Jotta voimme tuoda dataa tiedostosta, täytyy ensin tietää tiedoston sijainti, eli polku (path). Kurssin datakansio sijaitsee `kurssimateriaali`-hakemiston alla. Suhteessa tähän notebookkiin tiedoston sijaintia voidaan kuvailla näin: yksi askel tiedostohierarkiassa ylöspäin, sitten hakemisto `data`, jonka sisällä tiedosto `lightnings.csv`.\n",
    "\n",
    "Kirjoitetaan nyt yllä sanoin kuvattu polku suhteelliseksi tiedostopoluksi, eli:\n",
    "\n",
    "```\n",
    "../data/lightnings.csv\n",
    "```\n",
    "\n",
    "Polun osat ovat:\n",
    "- `../` = yhtä ylemmän tason hakemisto suhteessa tähän notebookkiin, tässä tapauksessa `kurssimateriaali`\n",
    "- `data/` = datakansio\n",
    "- `lightnings.csv` = tiedosto\n",
    "\n",
    "Pythonissa tiedostopolkujen käsittelyyn kannattaa käyttää pythonin oman `pathlib`-kirjaston `Path`-oliota. Näin mm. varmistamme, että polku toimii kaikilla käyttöjärjestelmillä."
   ]
  },
  {
   "cell_type": "code",
   "execution_count": 2,
   "id": "124a0575-c45e-481b-8b4c-246462045420",
   "metadata": {},
   "outputs": [],
   "source": [
    "from pathlib import Path\n",
    "\n",
    "file_path = Path(\"../data/lightnings.csv\")"
   ]
  },
  {
   "cell_type": "markdown",
   "id": "557c49b7-0d89-44e9-b478-beba28282286",
   "metadata": {},
   "source": [
    "Luetaan nyt `csv`-muotoista dataa tiedostosta `read_csv()`-metodilla. \n",
    "\n",
    "Koska kysessä on pandasin metodi, täytyy sitä kutsua luomamme `pd`-muuttujan kautta:"
   ]
  },
  {
   "cell_type": "code",
   "execution_count": 3,
   "id": "4ad9c1ee-721c-43c7-ba3d-09bbe47a5ceb",
   "metadata": {},
   "outputs": [],
   "source": [
    "lightnings = pd.read_csv(file_path)"
   ]
  },
  {
   "cell_type": "markdown",
   "id": "4e5617e4-960d-4ca0-b7ee-4dcb5dc88f1d",
   "metadata": {},
   "source": [
    "# DataFrame\n",
    "\n",
    "Äsken luodussa muuttujassa `lightnings` on nyt **DataFrame**, joka sisältää csv-tiedoston sisällön. Tässä tapauksessa kyseessä on otos Ilmatieteen laitoksen avointa dataa, tarkemmin sanottuna salamahavaintoja.\n",
    "\n",
    "DataFrame on  kaksiulotteinen tietorakenne, jossa on rivejä (row) ja sarakkeita (column). Se on pandasin keskeisin tietorakenne, ja tiedon \"säilömisen\" lisäksi se toteuttaa useita erilaisia metodeita tiedon käsittelyyn.\n",
    "\n",
    "Tutkitaan DataFramea tarkemmin:"
   ]
  },
  {
   "cell_type": "code",
   "execution_count": 4,
   "id": "a92cdad1-44f5-417b-ac9a-263681bdfc80",
   "metadata": {},
   "outputs": [
    {
     "data": {
      "text/plain": [
       "pandas.core.frame.DataFrame"
      ]
     },
     "execution_count": 4,
     "metadata": {},
     "output_type": "execute_result"
    }
   ],
   "source": [
    "type(lightnings)"
   ]
  },
  {
   "cell_type": "code",
   "execution_count": 5,
   "id": "3132d42b-7874-4ae9-8aa8-d2c3c9dd2c96",
   "metadata": {},
   "outputs": [
    {
     "data": {
      "text/html": [
       "<div>\n",
       "<style scoped>\n",
       "    .dataframe tbody tr th:only-of-type {\n",
       "        vertical-align: middle;\n",
       "    }\n",
       "\n",
       "    .dataframe tbody tr th {\n",
       "        vertical-align: top;\n",
       "    }\n",
       "\n",
       "    .dataframe thead th {\n",
       "        text-align: right;\n",
       "    }\n",
       "</style>\n",
       "<table border=\"1\" class=\"dataframe\">\n",
       "  <thead>\n",
       "    <tr style=\"text-align: right;\">\n",
       "      <th></th>\n",
       "      <th>time</th>\n",
       "      <th>abs_peak_current_ka</th>\n",
       "      <th>latitude</th>\n",
       "      <th>longitude</th>\n",
       "    </tr>\n",
       "  </thead>\n",
       "  <tbody>\n",
       "    <tr>\n",
       "      <th>0</th>\n",
       "      <td>1717200010</td>\n",
       "      <td>4.0</td>\n",
       "      <td>68.9186</td>\n",
       "      <td>22.1900</td>\n",
       "    </tr>\n",
       "    <tr>\n",
       "      <th>1</th>\n",
       "      <td>1717200010</td>\n",
       "      <td>5.0</td>\n",
       "      <td>68.8757</td>\n",
       "      <td>22.2367</td>\n",
       "    </tr>\n",
       "    <tr>\n",
       "      <th>2</th>\n",
       "      <td>1717200010</td>\n",
       "      <td>2.0</td>\n",
       "      <td>68.7596</td>\n",
       "      <td>22.2646</td>\n",
       "    </tr>\n",
       "    <tr>\n",
       "      <th>3</th>\n",
       "      <td>1717200011</td>\n",
       "      <td>1.0</td>\n",
       "      <td>68.7883</td>\n",
       "      <td>21.7543</td>\n",
       "    </tr>\n",
       "    <tr>\n",
       "      <th>4</th>\n",
       "      <td>1717200044</td>\n",
       "      <td>7.0</td>\n",
       "      <td>68.7939</td>\n",
       "      <td>21.3669</td>\n",
       "    </tr>\n",
       "    <tr>\n",
       "      <th>...</th>\n",
       "      <td>...</td>\n",
       "      <td>...</td>\n",
       "      <td>...</td>\n",
       "      <td>...</td>\n",
       "    </tr>\n",
       "    <tr>\n",
       "      <th>83461</th>\n",
       "      <td>1717286397</td>\n",
       "      <td>3.0</td>\n",
       "      <td>61.0853</td>\n",
       "      <td>22.0858</td>\n",
       "    </tr>\n",
       "    <tr>\n",
       "      <th>83462</th>\n",
       "      <td>1717286397</td>\n",
       "      <td>5.0</td>\n",
       "      <td>61.0973</td>\n",
       "      <td>22.0059</td>\n",
       "    </tr>\n",
       "    <tr>\n",
       "      <th>83463</th>\n",
       "      <td>1717286398</td>\n",
       "      <td>6.0</td>\n",
       "      <td>61.3490</td>\n",
       "      <td>23.5206</td>\n",
       "    </tr>\n",
       "    <tr>\n",
       "      <th>83464</th>\n",
       "      <td>1717286398</td>\n",
       "      <td>21.0</td>\n",
       "      <td>61.3403</td>\n",
       "      <td>23.5703</td>\n",
       "    </tr>\n",
       "    <tr>\n",
       "      <th>83465</th>\n",
       "      <td>1717286398</td>\n",
       "      <td>4.0</td>\n",
       "      <td>61.3476</td>\n",
       "      <td>23.4422</td>\n",
       "    </tr>\n",
       "  </tbody>\n",
       "</table>\n",
       "<p>83466 rows × 4 columns</p>\n",
       "</div>"
      ],
      "text/plain": [
       "             time  abs_peak_current_ka  latitude  longitude\n",
       "0      1717200010                  4.0   68.9186    22.1900\n",
       "1      1717200010                  5.0   68.8757    22.2367\n",
       "2      1717200010                  2.0   68.7596    22.2646\n",
       "3      1717200011                  1.0   68.7883    21.7543\n",
       "4      1717200044                  7.0   68.7939    21.3669\n",
       "...           ...                  ...       ...        ...\n",
       "83461  1717286397                  3.0   61.0853    22.0858\n",
       "83462  1717286397                  5.0   61.0973    22.0059\n",
       "83463  1717286398                  6.0   61.3490    23.5206\n",
       "83464  1717286398                 21.0   61.3403    23.5703\n",
       "83465  1717286398                  4.0   61.3476    23.4422\n",
       "\n",
       "[83466 rows x 4 columns]"
      ]
     },
     "execution_count": 5,
     "metadata": {},
     "output_type": "execute_result"
    }
   ],
   "source": [
    "lightnings"
   ]
  },
  {
   "cell_type": "markdown",
   "id": "4533b63e-13f7-4385-b5b6-a280b12cda79",
   "metadata": {},
   "source": [
    "Jo ylle tulostuneesta DataFramen visuaalisesta estiyksestä voidaan nähdä paljon. Vaikuttaa siltä, että yksi rivi kuvaa yhtä salamahavaintoa. Jokaisesta havainnosta tiedetään aika, sähkövirran absoluuttinen voimakkuus kiloampeereina, sekä sijaintitieto (lat / lon)\n",
    "\n",
    "Näämme myös rivien määrän, ja voimme jo päätellä sarakkeiden sisällön tyyppejä."
   ]
  },
  {
   "cell_type": "markdown",
   "id": "a8b3134f-4194-4008-8287-6a6c0c7b08a2",
   "metadata": {},
   "source": [
    "DataFramen `shape`-attribuutti kuvaa DataFramen muotoa, eli rivien ja sarakkeiden määrää:"
   ]
  },
  {
   "cell_type": "code",
   "execution_count": 6,
   "id": "1cae9430-a3d2-4a04-95b2-ffd715013754",
   "metadata": {},
   "outputs": [
    {
     "data": {
      "text/plain": [
       "(83466, 4)"
      ]
     },
     "execution_count": 6,
     "metadata": {},
     "output_type": "execute_result"
    }
   ],
   "source": [
    "lightnings.shape"
   ]
  },
  {
   "cell_type": "markdown",
   "id": "b950fabd-8969-4816-8f63-9dd746147b8b",
   "metadata": {},
   "source": [
    "Sarakkeiden nimiin päästään käsiksi `columns`-attribuutilla:"
   ]
  },
  {
   "cell_type": "code",
   "execution_count": 7,
   "id": "0767f85c-31dd-460e-959f-8a2bccf0f400",
   "metadata": {},
   "outputs": [
    {
     "data": {
      "text/plain": [
       "Index(['time', 'abs_peak_current_ka', 'latitude', 'longitude'], dtype='object')"
      ]
     },
     "execution_count": 7,
     "metadata": {},
     "output_type": "execute_result"
    }
   ],
   "source": [
    "lightnings.columns"
   ]
  },
  {
   "cell_type": "markdown",
   "id": "5afd52bb-6519-4aa0-a70e-d5613dcb4e4d",
   "metadata": {},
   "source": [
    "Listoillekkin toimiva `len`-funktio toimii myös DataFrameilla:"
   ]
  },
  {
   "cell_type": "code",
   "execution_count": 8,
   "id": "8011714c-d2fa-4bde-8c49-b525a28233e0",
   "metadata": {},
   "outputs": [
    {
     "data": {
      "text/plain": [
       "83466"
      ]
     },
     "execution_count": 8,
     "metadata": {},
     "output_type": "execute_result"
    }
   ],
   "source": [
    "len(lightnings)"
   ]
  },
  {
   "cell_type": "markdown",
   "id": "5a3549aa-4dcb-4c16-960f-6243ef1a6c82",
   "metadata": {},
   "source": [
    "Voit tutkia DataFramen alku- ja loppupäitä erikseen:"
   ]
  },
  {
   "cell_type": "code",
   "execution_count": 9,
   "id": "d7874c98-5480-42a5-96a9-dd6f67d8db9b",
   "metadata": {},
   "outputs": [
    {
     "data": {
      "text/html": [
       "<div>\n",
       "<style scoped>\n",
       "    .dataframe tbody tr th:only-of-type {\n",
       "        vertical-align: middle;\n",
       "    }\n",
       "\n",
       "    .dataframe tbody tr th {\n",
       "        vertical-align: top;\n",
       "    }\n",
       "\n",
       "    .dataframe thead th {\n",
       "        text-align: right;\n",
       "    }\n",
       "</style>\n",
       "<table border=\"1\" class=\"dataframe\">\n",
       "  <thead>\n",
       "    <tr style=\"text-align: right;\">\n",
       "      <th></th>\n",
       "      <th>time</th>\n",
       "      <th>abs_peak_current_ka</th>\n",
       "      <th>latitude</th>\n",
       "      <th>longitude</th>\n",
       "    </tr>\n",
       "  </thead>\n",
       "  <tbody>\n",
       "    <tr>\n",
       "      <th>0</th>\n",
       "      <td>1717200010</td>\n",
       "      <td>4.0</td>\n",
       "      <td>68.9186</td>\n",
       "      <td>22.1900</td>\n",
       "    </tr>\n",
       "    <tr>\n",
       "      <th>1</th>\n",
       "      <td>1717200010</td>\n",
       "      <td>5.0</td>\n",
       "      <td>68.8757</td>\n",
       "      <td>22.2367</td>\n",
       "    </tr>\n",
       "    <tr>\n",
       "      <th>2</th>\n",
       "      <td>1717200010</td>\n",
       "      <td>2.0</td>\n",
       "      <td>68.7596</td>\n",
       "      <td>22.2646</td>\n",
       "    </tr>\n",
       "    <tr>\n",
       "      <th>3</th>\n",
       "      <td>1717200011</td>\n",
       "      <td>1.0</td>\n",
       "      <td>68.7883</td>\n",
       "      <td>21.7543</td>\n",
       "    </tr>\n",
       "    <tr>\n",
       "      <th>4</th>\n",
       "      <td>1717200044</td>\n",
       "      <td>7.0</td>\n",
       "      <td>68.7939</td>\n",
       "      <td>21.3669</td>\n",
       "    </tr>\n",
       "  </tbody>\n",
       "</table>\n",
       "</div>"
      ],
      "text/plain": [
       "         time  abs_peak_current_ka  latitude  longitude\n",
       "0  1717200010                  4.0   68.9186    22.1900\n",
       "1  1717200010                  5.0   68.8757    22.2367\n",
       "2  1717200010                  2.0   68.7596    22.2646\n",
       "3  1717200011                  1.0   68.7883    21.7543\n",
       "4  1717200044                  7.0   68.7939    21.3669"
      ]
     },
     "execution_count": 9,
     "metadata": {},
     "output_type": "execute_result"
    }
   ],
   "source": [
    "lightnings.head()"
   ]
  },
  {
   "cell_type": "code",
   "execution_count": 10,
   "id": "38342889-b18e-401d-acff-06b193d985b7",
   "metadata": {},
   "outputs": [
    {
     "data": {
      "text/html": [
       "<div>\n",
       "<style scoped>\n",
       "    .dataframe tbody tr th:only-of-type {\n",
       "        vertical-align: middle;\n",
       "    }\n",
       "\n",
       "    .dataframe tbody tr th {\n",
       "        vertical-align: top;\n",
       "    }\n",
       "\n",
       "    .dataframe thead th {\n",
       "        text-align: right;\n",
       "    }\n",
       "</style>\n",
       "<table border=\"1\" class=\"dataframe\">\n",
       "  <thead>\n",
       "    <tr style=\"text-align: right;\">\n",
       "      <th></th>\n",
       "      <th>time</th>\n",
       "      <th>abs_peak_current_ka</th>\n",
       "      <th>latitude</th>\n",
       "      <th>longitude</th>\n",
       "    </tr>\n",
       "  </thead>\n",
       "  <tbody>\n",
       "    <tr>\n",
       "      <th>83463</th>\n",
       "      <td>1717286398</td>\n",
       "      <td>6.0</td>\n",
       "      <td>61.3490</td>\n",
       "      <td>23.5206</td>\n",
       "    </tr>\n",
       "    <tr>\n",
       "      <th>83464</th>\n",
       "      <td>1717286398</td>\n",
       "      <td>21.0</td>\n",
       "      <td>61.3403</td>\n",
       "      <td>23.5703</td>\n",
       "    </tr>\n",
       "    <tr>\n",
       "      <th>83465</th>\n",
       "      <td>1717286398</td>\n",
       "      <td>4.0</td>\n",
       "      <td>61.3476</td>\n",
       "      <td>23.4422</td>\n",
       "    </tr>\n",
       "  </tbody>\n",
       "</table>\n",
       "</div>"
      ],
      "text/plain": [
       "             time  abs_peak_current_ka  latitude  longitude\n",
       "83463  1717286398                  6.0   61.3490    23.5206\n",
       "83464  1717286398                 21.0   61.3403    23.5703\n",
       "83465  1717286398                  4.0   61.3476    23.4422"
      ]
     },
     "execution_count": 10,
     "metadata": {},
     "output_type": "execute_result"
    }
   ],
   "source": [
    "lightnings.tail(3)"
   ]
  },
  {
   "cell_type": "markdown",
   "id": "91514c5d-4bcd-4366-a919-654cfd3b19bb",
   "metadata": {},
   "source": [
    "Tilastollisia tunnuslukuja saadaan `describe`-metodilla:"
   ]
  },
  {
   "cell_type": "code",
   "execution_count": 11,
   "id": "9cdc7594-173a-4bc1-9b44-203963af7f8e",
   "metadata": {},
   "outputs": [
    {
     "data": {
      "text/html": [
       "<div>\n",
       "<style scoped>\n",
       "    .dataframe tbody tr th:only-of-type {\n",
       "        vertical-align: middle;\n",
       "    }\n",
       "\n",
       "    .dataframe tbody tr th {\n",
       "        vertical-align: top;\n",
       "    }\n",
       "\n",
       "    .dataframe thead th {\n",
       "        text-align: right;\n",
       "    }\n",
       "</style>\n",
       "<table border=\"1\" class=\"dataframe\">\n",
       "  <thead>\n",
       "    <tr style=\"text-align: right;\">\n",
       "      <th></th>\n",
       "      <th>time</th>\n",
       "      <th>abs_peak_current_ka</th>\n",
       "      <th>latitude</th>\n",
       "      <th>longitude</th>\n",
       "    </tr>\n",
       "  </thead>\n",
       "  <tbody>\n",
       "    <tr>\n",
       "      <th>count</th>\n",
       "      <td>8.346600e+04</td>\n",
       "      <td>83466.000000</td>\n",
       "      <td>83466.000000</td>\n",
       "      <td>83466.000000</td>\n",
       "    </tr>\n",
       "    <tr>\n",
       "      <th>mean</th>\n",
       "      <td>1.717241e+09</td>\n",
       "      <td>7.005775</td>\n",
       "      <td>63.114014</td>\n",
       "      <td>25.430464</td>\n",
       "    </tr>\n",
       "    <tr>\n",
       "      <th>std</th>\n",
       "      <td>1.301645e+04</td>\n",
       "      <td>7.495004</td>\n",
       "      <td>2.444437</td>\n",
       "      <td>2.327215</td>\n",
       "    </tr>\n",
       "    <tr>\n",
       "      <th>min</th>\n",
       "      <td>1.717200e+09</td>\n",
       "      <td>1.000000</td>\n",
       "      <td>59.825900</td>\n",
       "      <td>19.603300</td>\n",
       "    </tr>\n",
       "    <tr>\n",
       "      <th>25%</th>\n",
       "      <td>1.717233e+09</td>\n",
       "      <td>3.000000</td>\n",
       "      <td>61.106825</td>\n",
       "      <td>23.480750</td>\n",
       "    </tr>\n",
       "    <tr>\n",
       "      <th>50%</th>\n",
       "      <td>1.717240e+09</td>\n",
       "      <td>5.000000</td>\n",
       "      <td>62.624150</td>\n",
       "      <td>25.213400</td>\n",
       "    </tr>\n",
       "    <tr>\n",
       "      <th>75%</th>\n",
       "      <td>1.717247e+09</td>\n",
       "      <td>8.000000</td>\n",
       "      <td>63.902000</td>\n",
       "      <td>27.405250</td>\n",
       "    </tr>\n",
       "    <tr>\n",
       "      <th>max</th>\n",
       "      <td>1.717286e+09</td>\n",
       "      <td>214.000000</td>\n",
       "      <td>69.256900</td>\n",
       "      <td>31.467600</td>\n",
       "    </tr>\n",
       "  </tbody>\n",
       "</table>\n",
       "</div>"
      ],
      "text/plain": [
       "               time  abs_peak_current_ka      latitude     longitude\n",
       "count  8.346600e+04         83466.000000  83466.000000  83466.000000\n",
       "mean   1.717241e+09             7.005775     63.114014     25.430464\n",
       "std    1.301645e+04             7.495004      2.444437      2.327215\n",
       "min    1.717200e+09             1.000000     59.825900     19.603300\n",
       "25%    1.717233e+09             3.000000     61.106825     23.480750\n",
       "50%    1.717240e+09             5.000000     62.624150     25.213400\n",
       "75%    1.717247e+09             8.000000     63.902000     27.405250\n",
       "max    1.717286e+09           214.000000     69.256900     31.467600"
      ]
     },
     "execution_count": 11,
     "metadata": {},
     "output_type": "execute_result"
    }
   ],
   "source": [
    "lightnings.describe()"
   ]
  },
  {
   "cell_type": "markdown",
   "id": "45925867-813e-4706-af72-fca8d9493227",
   "metadata": {},
   "source": [
    "# Datan valitseminen\n",
    "\n",
    "## Sarakkeet\n",
    "\n",
    "Yksi tyypillisimmistä tehtävistä taulukkomaisen datan käsittelyssä on eri sarakkeiden tai rivien valitseminen. Aloitetaan sarakkeista.\n",
    "\n",
    "DataFramen sarakkeita voit valita laittamalla sarakkeen nimen hakasulkuihin DataFramen perään:"
   ]
  },
  {
   "cell_type": "code",
   "execution_count": 12,
   "id": "93797cfe-4ecc-4d0d-a5fd-0cd2256edf45",
   "metadata": {},
   "outputs": [
    {
     "data": {
      "text/plain": [
       "0         4.0\n",
       "1         5.0\n",
       "2         2.0\n",
       "3         1.0\n",
       "4         7.0\n",
       "         ... \n",
       "83461     3.0\n",
       "83462     5.0\n",
       "83463     6.0\n",
       "83464    21.0\n",
       "83465     4.0\n",
       "Name: abs_peak_current_ka, Length: 83466, dtype: float64"
      ]
     },
     "execution_count": 12,
     "metadata": {},
     "output_type": "execute_result"
    }
   ],
   "source": [
    "column = lightnings[\"abs_peak_current_ka\"]\n",
    "column"
   ]
  },
  {
   "cell_type": "markdown",
   "id": "a3ad7c8c-3d07-42b4-a567-96507ef3b24d",
   "metadata": {},
   "source": [
    "Tuloste näyttää nyt eriltä kuin ennen. Tutkitaan asiaa `type`-funktiolla:"
   ]
  },
  {
   "cell_type": "code",
   "execution_count": 13,
   "id": "4427e052-cf9a-4d63-ab39-b4ca5e518d50",
   "metadata": {},
   "outputs": [
    {
     "data": {
      "text/plain": [
       "pandas.core.series.Series"
      ]
     },
     "execution_count": 13,
     "metadata": {},
     "output_type": "execute_result"
    }
   ],
   "source": [
    "type(column)"
   ]
  },
  {
   "cell_type": "markdown",
   "id": "bba4b9cc-b9e5-4370-b023-c5c522fa1bf9",
   "metadata": {},
   "source": [
    "Pandasissa yksittäiset rivit ja sarakkeet ovat tyypiltään **Series**.\n",
    "\n",
    "Pandasin käytössä teknisiä yksityiskohtia ei tarvitse ymmärtää syvällisesti - esimerkiksi Seriesistä riittää tietää, että se on ikäänkuin pandasin oma optimoitu versio listasta. Series esimerkiksi sisältää indeksin sekä tekee datatyyppien perusteella automaattisesti suorituskykyoptimointeja.\n",
    "\n",
    "Series toteuttaa myös erilaisia toiminnallisuuksia. Esimerkkejä yhden sarakkeen sisällön tutkimisesta:"
   ]
  },
  {
   "cell_type": "code",
   "execution_count": 14,
   "id": "d6648242-6f89-444e-890e-cae7956a7919",
   "metadata": {},
   "outputs": [
    {
     "data": {
      "text/plain": [
       "214.0"
      ]
     },
     "execution_count": 14,
     "metadata": {},
     "output_type": "execute_result"
    }
   ],
   "source": [
    "column.max()"
   ]
  },
  {
   "cell_type": "code",
   "execution_count": 15,
   "id": "26aa01fe-bb4b-4b7d-8e41-0c510a420a32",
   "metadata": {},
   "outputs": [
    {
     "data": {
      "text/plain": [
       "array([  4.,   5.,   2.,   1.,   7.,  13.,   9.,   8.,   3.,  22.,   6.,\n",
       "        23.,  37.,  16.,  32.,  10.,  11.,  15., 126.,  68.,  12.,  17.,\n",
       "        82.,  58.,  14.,  98.,  64.,  70.,  77.,  34.,  49.,  19.,  72.,\n",
       "        18.,  20.,  81.,  31.,  26.,  46., 120.,  38.,  44.,  50.,  65.,\n",
       "        87.,  61.,  47.,  45.,  56.,  36.,  42.,  27.,  54., 101.,  85.,\n",
       "        60.,  35.,  24.,  41.,  67.,  89.,  69.,  25.,  80.,  29.,  78.,\n",
       "        21., 134., 151.,  62.,  90., 140., 133.,  28.,  63.,  51.,  48.,\n",
       "       103., 147.,  30.,  92.,  43.,  74.,  40.,  39.,  33.,  53.,  57.,\n",
       "        76.,  75.,  52.,  73.,  55.,  94.,  96.,  88.,  71.,  66., 102.,\n",
       "        97., 113., 128.,  91.,  93.,  79., 153.,  59., 107.,  95., 100.,\n",
       "       214., 115., 144., 117.,  84., 127., 123.,  83., 149., 173., 118.,\n",
       "       119., 108., 137., 156., 114., 166., 207.,  86.])"
      ]
     },
     "execution_count": 15,
     "metadata": {},
     "output_type": "execute_result"
    }
   ],
   "source": [
    "column.unique()"
   ]
  },
  {
   "cell_type": "code",
   "execution_count": 16,
   "id": "3517908a-6562-4d98-b264-bf331aa4fb8d",
   "metadata": {},
   "outputs": [
    {
     "data": {
      "text/plain": [
       "count    83466.000000\n",
       "mean         7.005775\n",
       "std          7.495004\n",
       "min          1.000000\n",
       "25%          3.000000\n",
       "50%          5.000000\n",
       "75%          8.000000\n",
       "max        214.000000\n",
       "Name: abs_peak_current_ka, dtype: float64"
      ]
     },
     "execution_count": 16,
     "metadata": {},
     "output_type": "execute_result"
    }
   ],
   "source": [
    "column.describe()"
   ]
  },
  {
   "cell_type": "markdown",
   "id": "6872c119-dca2-4047-83b4-f07e4f31d68c",
   "metadata": {},
   "source": [
    "Series ei kuitenkaan toteuta yhtä laajoja toiminnallisuuksia kuin DataFrame. Usein halutaankin nimenomaan valita yksittäisten Seriesien sijaan otos DataFramesta uutena DataFramena. Se tapahtuu samaan tapaan - ainoa muutos on, että halutut sarakkeet annetaan listana:"
   ]
  },
  {
   "cell_type": "code",
   "execution_count": 17,
   "id": "b8908a34-c832-42e1-a320-5b3783b0ad8e",
   "metadata": {},
   "outputs": [
    {
     "data": {
      "text/html": [
       "<div>\n",
       "<style scoped>\n",
       "    .dataframe tbody tr th:only-of-type {\n",
       "        vertical-align: middle;\n",
       "    }\n",
       "\n",
       "    .dataframe tbody tr th {\n",
       "        vertical-align: top;\n",
       "    }\n",
       "\n",
       "    .dataframe thead th {\n",
       "        text-align: right;\n",
       "    }\n",
       "</style>\n",
       "<table border=\"1\" class=\"dataframe\">\n",
       "  <thead>\n",
       "    <tr style=\"text-align: right;\">\n",
       "      <th></th>\n",
       "      <th>abs_peak_current_ka</th>\n",
       "    </tr>\n",
       "  </thead>\n",
       "  <tbody>\n",
       "    <tr>\n",
       "      <th>0</th>\n",
       "      <td>4.0</td>\n",
       "    </tr>\n",
       "    <tr>\n",
       "      <th>1</th>\n",
       "      <td>5.0</td>\n",
       "    </tr>\n",
       "    <tr>\n",
       "      <th>2</th>\n",
       "      <td>2.0</td>\n",
       "    </tr>\n",
       "    <tr>\n",
       "      <th>3</th>\n",
       "      <td>1.0</td>\n",
       "    </tr>\n",
       "    <tr>\n",
       "      <th>4</th>\n",
       "      <td>7.0</td>\n",
       "    </tr>\n",
       "    <tr>\n",
       "      <th>...</th>\n",
       "      <td>...</td>\n",
       "    </tr>\n",
       "    <tr>\n",
       "      <th>83461</th>\n",
       "      <td>3.0</td>\n",
       "    </tr>\n",
       "    <tr>\n",
       "      <th>83462</th>\n",
       "      <td>5.0</td>\n",
       "    </tr>\n",
       "    <tr>\n",
       "      <th>83463</th>\n",
       "      <td>6.0</td>\n",
       "    </tr>\n",
       "    <tr>\n",
       "      <th>83464</th>\n",
       "      <td>21.0</td>\n",
       "    </tr>\n",
       "    <tr>\n",
       "      <th>83465</th>\n",
       "      <td>4.0</td>\n",
       "    </tr>\n",
       "  </tbody>\n",
       "</table>\n",
       "<p>83466 rows × 1 columns</p>\n",
       "</div>"
      ],
      "text/plain": [
       "       abs_peak_current_ka\n",
       "0                      4.0\n",
       "1                      5.0\n",
       "2                      2.0\n",
       "3                      1.0\n",
       "4                      7.0\n",
       "...                    ...\n",
       "83461                  3.0\n",
       "83462                  5.0\n",
       "83463                  6.0\n",
       "83464                 21.0\n",
       "83465                  4.0\n",
       "\n",
       "[83466 rows x 1 columns]"
      ]
     },
     "execution_count": 17,
     "metadata": {},
     "output_type": "execute_result"
    }
   ],
   "source": [
    "lightnings[[\"abs_peak_current_ka\"]]"
   ]
  },
  {
   "cell_type": "code",
   "execution_count": 18,
   "id": "34af33e7-9d42-4752-87d8-008432a930a2",
   "metadata": {},
   "outputs": [
    {
     "data": {
      "text/html": [
       "<div>\n",
       "<style scoped>\n",
       "    .dataframe tbody tr th:only-of-type {\n",
       "        vertical-align: middle;\n",
       "    }\n",
       "\n",
       "    .dataframe tbody tr th {\n",
       "        vertical-align: top;\n",
       "    }\n",
       "\n",
       "    .dataframe thead th {\n",
       "        text-align: right;\n",
       "    }\n",
       "</style>\n",
       "<table border=\"1\" class=\"dataframe\">\n",
       "  <thead>\n",
       "    <tr style=\"text-align: right;\">\n",
       "      <th></th>\n",
       "      <th>abs_peak_current_ka</th>\n",
       "      <th>latitude</th>\n",
       "      <th>time</th>\n",
       "    </tr>\n",
       "  </thead>\n",
       "  <tbody>\n",
       "    <tr>\n",
       "      <th>0</th>\n",
       "      <td>4.0</td>\n",
       "      <td>68.9186</td>\n",
       "      <td>1717200010</td>\n",
       "    </tr>\n",
       "    <tr>\n",
       "      <th>1</th>\n",
       "      <td>5.0</td>\n",
       "      <td>68.8757</td>\n",
       "      <td>1717200010</td>\n",
       "    </tr>\n",
       "    <tr>\n",
       "      <th>2</th>\n",
       "      <td>2.0</td>\n",
       "      <td>68.7596</td>\n",
       "      <td>1717200010</td>\n",
       "    </tr>\n",
       "    <tr>\n",
       "      <th>3</th>\n",
       "      <td>1.0</td>\n",
       "      <td>68.7883</td>\n",
       "      <td>1717200011</td>\n",
       "    </tr>\n",
       "    <tr>\n",
       "      <th>4</th>\n",
       "      <td>7.0</td>\n",
       "      <td>68.7939</td>\n",
       "      <td>1717200044</td>\n",
       "    </tr>\n",
       "  </tbody>\n",
       "</table>\n",
       "</div>"
      ],
      "text/plain": [
       "   abs_peak_current_ka  latitude        time\n",
       "0                  4.0   68.9186  1717200010\n",
       "1                  5.0   68.8757  1717200010\n",
       "2                  2.0   68.7596  1717200010\n",
       "3                  1.0   68.7883  1717200011\n",
       "4                  7.0   68.7939  1717200044"
      ]
     },
     "execution_count": 18,
     "metadata": {},
     "output_type": "execute_result"
    }
   ],
   "source": [
    "lightnings[[\"abs_peak_current_ka\", \"latitude\", \"time\"]].head()"
   ]
  },
  {
   "cell_type": "code",
   "execution_count": 19,
   "id": "9b4fae7c-1b1a-47e1-980b-bf46112bd378",
   "metadata": {},
   "outputs": [
    {
     "data": {
      "text/plain": [
       "pandas.core.frame.DataFrame"
      ]
     },
     "execution_count": 19,
     "metadata": {},
     "output_type": "execute_result"
    }
   ],
   "source": [
    "type(lightnings[[\"abs_peak_current_ka\"]])"
   ]
  },
  {
   "cell_type": "markdown",
   "id": "46c853e1-4972-43ed-8bdf-38661163e494",
   "metadata": {},
   "source": [
    "## Harjoitus - Sarakkeiden valinta\n",
    "\n",
    "Tässä osassa emme tarvitse vielä sijaintitietoja. Tee siis `lightnings` Dataframesta versio, jossa ei ole `latitude` ja `longitude`-sarakkeita.\n",
    "\n",
    "1. Miten saat selville DataFramen sarakkeet?\n",
    "2. Muodosta lista sarakkeista, jotka haluat valita\n",
    "3. Valitse haluamasi sarakkeet käyttämällä listaa\n",
    "4. Kun tulos näyttää hyvältä, voit ylikirjoittaa `lightnings`-muuttujan uudella DataFramellasi"
   ]
  },
  {
   "cell_type": "code",
   "execution_count": 20,
   "id": "0ae508dc-acf4-4cae-96b7-6fdc99df5809",
   "metadata": {},
   "outputs": [],
   "source": [
    "# Kirjoita Ratkaisu\n"
   ]
  },
  {
   "cell_type": "markdown",
   "id": "ba0b13d7-997d-4a4c-aafb-6215eda0fccd",
   "metadata": {
    "jp-MarkdownHeadingCollapsed": true
   },
   "source": [
    "## Ratkaisu"
   ]
  },
  {
   "cell_type": "code",
   "execution_count": 21,
   "id": "22444147-5ae7-42b3-a36f-c7cf859b62d1",
   "metadata": {},
   "outputs": [
    {
     "data": {
      "text/html": [
       "<div>\n",
       "<style scoped>\n",
       "    .dataframe tbody tr th:only-of-type {\n",
       "        vertical-align: middle;\n",
       "    }\n",
       "\n",
       "    .dataframe tbody tr th {\n",
       "        vertical-align: top;\n",
       "    }\n",
       "\n",
       "    .dataframe thead th {\n",
       "        text-align: right;\n",
       "    }\n",
       "</style>\n",
       "<table border=\"1\" class=\"dataframe\">\n",
       "  <thead>\n",
       "    <tr style=\"text-align: right;\">\n",
       "      <th></th>\n",
       "      <th>time</th>\n",
       "      <th>abs_peak_current_ka</th>\n",
       "    </tr>\n",
       "  </thead>\n",
       "  <tbody>\n",
       "    <tr>\n",
       "      <th>0</th>\n",
       "      <td>1717200010</td>\n",
       "      <td>4.0</td>\n",
       "    </tr>\n",
       "    <tr>\n",
       "      <th>1</th>\n",
       "      <td>1717200010</td>\n",
       "      <td>5.0</td>\n",
       "    </tr>\n",
       "    <tr>\n",
       "      <th>2</th>\n",
       "      <td>1717200010</td>\n",
       "      <td>2.0</td>\n",
       "    </tr>\n",
       "    <tr>\n",
       "      <th>3</th>\n",
       "      <td>1717200011</td>\n",
       "      <td>1.0</td>\n",
       "    </tr>\n",
       "    <tr>\n",
       "      <th>4</th>\n",
       "      <td>1717200044</td>\n",
       "      <td>7.0</td>\n",
       "    </tr>\n",
       "  </tbody>\n",
       "</table>\n",
       "</div>"
      ],
      "text/plain": [
       "         time  abs_peak_current_ka\n",
       "0  1717200010                  4.0\n",
       "1  1717200010                  5.0\n",
       "2  1717200010                  2.0\n",
       "3  1717200011                  1.0\n",
       "4  1717200044                  7.0"
      ]
     },
     "execution_count": 21,
     "metadata": {},
     "output_type": "execute_result"
    }
   ],
   "source": [
    "lightnings = lightnings.copy()[[\"time\", \"abs_peak_current_ka\"]]\n",
    "lightnings.head()"
   ]
  },
  {
   "cell_type": "markdown",
   "id": "30aee686-3b0c-4e59-9ab2-be851ca376dd",
   "metadata": {},
   "source": [
    "## Rivien valinta indeksin perusteella\n",
    "\n",
    "Sarakkeiden lisäksi voidaan valita rivejä. Ehkä yksinkertaisin tapa on tehdä valinta rivin sijainnin, eli indeksin mukaan. Tämä tapahtuu `iloc`-attribuutin kautta. Kun haluamme rivejä, voidaan `iloc`-attribuutille antaa hakasuluissa numerona se indeksi, joka halutaan valita - aivan kuin listalle:"
   ]
  },
  {
   "cell_type": "code",
   "execution_count": 22,
   "id": "435f5646-2404-48ae-8bb0-e519951227d0",
   "metadata": {},
   "outputs": [
    {
     "data": {
      "text/plain": [
       "time                   1.717200e+09\n",
       "abs_peak_current_ka    4.000000e+00\n",
       "Name: 0, dtype: float64"
      ]
     },
     "execution_count": 22,
     "metadata": {},
     "output_type": "execute_result"
    }
   ],
   "source": [
    "row = lightnings.iloc[0]\n",
    "row"
   ]
  },
  {
   "cell_type": "code",
   "execution_count": 23,
   "id": "8be197c4-cbe6-401c-8039-208a889bae2a",
   "metadata": {},
   "outputs": [
    {
     "data": {
      "text/plain": [
       "pandas.core.series.Series"
      ]
     },
     "execution_count": 23,
     "metadata": {},
     "output_type": "execute_result"
    }
   ],
   "source": [
    "type(row)"
   ]
  },
  {
   "cell_type": "markdown",
   "id": "5c935fdc-42fe-45e7-a603-60a28e62fc64",
   "metadata": {},
   "source": [
    "Saamme jälleen Seriesin. Sarakkeista tuttu listan käyttö toimii, jos haluamme DataFramen:"
   ]
  },
  {
   "cell_type": "code",
   "execution_count": 24,
   "id": "61cb6afc-1aed-49cf-ac1d-b9add98d3684",
   "metadata": {},
   "outputs": [
    {
     "data": {
      "text/html": [
       "<div>\n",
       "<style scoped>\n",
       "    .dataframe tbody tr th:only-of-type {\n",
       "        vertical-align: middle;\n",
       "    }\n",
       "\n",
       "    .dataframe tbody tr th {\n",
       "        vertical-align: top;\n",
       "    }\n",
       "\n",
       "    .dataframe thead th {\n",
       "        text-align: right;\n",
       "    }\n",
       "</style>\n",
       "<table border=\"1\" class=\"dataframe\">\n",
       "  <thead>\n",
       "    <tr style=\"text-align: right;\">\n",
       "      <th></th>\n",
       "      <th>time</th>\n",
       "      <th>abs_peak_current_ka</th>\n",
       "    </tr>\n",
       "  </thead>\n",
       "  <tbody>\n",
       "    <tr>\n",
       "      <th>0</th>\n",
       "      <td>1717200010</td>\n",
       "      <td>4.0</td>\n",
       "    </tr>\n",
       "  </tbody>\n",
       "</table>\n",
       "</div>"
      ],
      "text/plain": [
       "         time  abs_peak_current_ka\n",
       "0  1717200010                  4.0"
      ]
     },
     "execution_count": 24,
     "metadata": {},
     "output_type": "execute_result"
    }
   ],
   "source": [
    "lightnings.iloc[[0]]"
   ]
  },
  {
   "cell_type": "code",
   "execution_count": 25,
   "id": "9d1882b2-f2d5-40e4-bb19-3a727103935f",
   "metadata": {},
   "outputs": [
    {
     "data": {
      "text/plain": [
       "pandas.core.frame.DataFrame"
      ]
     },
     "execution_count": 25,
     "metadata": {},
     "output_type": "execute_result"
    }
   ],
   "source": [
    "type(lightnings.iloc[[0, 1, 2]])"
   ]
  },
  {
   "cell_type": "markdown",
   "id": "8082b68e-9921-41ef-a216-c9f1517ca687",
   "metadata": {},
   "source": [
    "huomaa, että jokaisen halutun rivin indeksiä ei tarvitse määritellä erikseen. Voimme käyttää listoillakin toimivaa valintaa `[alku:loppu]`, jossa alku on ensimmäinen ja loppu viimeinen indeksi, johon asti halutaan hakea."
   ]
  },
  {
   "cell_type": "code",
   "execution_count": 26,
   "id": "0d6403aa-3604-49f0-bf51-f8736ed53c7e",
   "metadata": {},
   "outputs": [
    {
     "data": {
      "text/html": [
       "<div>\n",
       "<style scoped>\n",
       "    .dataframe tbody tr th:only-of-type {\n",
       "        vertical-align: middle;\n",
       "    }\n",
       "\n",
       "    .dataframe tbody tr th {\n",
       "        vertical-align: top;\n",
       "    }\n",
       "\n",
       "    .dataframe thead th {\n",
       "        text-align: right;\n",
       "    }\n",
       "</style>\n",
       "<table border=\"1\" class=\"dataframe\">\n",
       "  <thead>\n",
       "    <tr style=\"text-align: right;\">\n",
       "      <th></th>\n",
       "      <th>time</th>\n",
       "      <th>abs_peak_current_ka</th>\n",
       "    </tr>\n",
       "  </thead>\n",
       "  <tbody>\n",
       "    <tr>\n",
       "      <th>0</th>\n",
       "      <td>1717200010</td>\n",
       "      <td>4.0</td>\n",
       "    </tr>\n",
       "    <tr>\n",
       "      <th>1</th>\n",
       "      <td>1717200010</td>\n",
       "      <td>5.0</td>\n",
       "    </tr>\n",
       "    <tr>\n",
       "      <th>2</th>\n",
       "      <td>1717200010</td>\n",
       "      <td>2.0</td>\n",
       "    </tr>\n",
       "    <tr>\n",
       "      <th>3</th>\n",
       "      <td>1717200011</td>\n",
       "      <td>1.0</td>\n",
       "    </tr>\n",
       "    <tr>\n",
       "      <th>4</th>\n",
       "      <td>1717200044</td>\n",
       "      <td>7.0</td>\n",
       "    </tr>\n",
       "  </tbody>\n",
       "</table>\n",
       "</div>"
      ],
      "text/plain": [
       "         time  abs_peak_current_ka\n",
       "0  1717200010                  4.0\n",
       "1  1717200010                  5.0\n",
       "2  1717200010                  2.0\n",
       "3  1717200011                  1.0\n",
       "4  1717200044                  7.0"
      ]
     },
     "execution_count": 26,
     "metadata": {},
     "output_type": "execute_result"
    }
   ],
   "source": [
    "lightnings.iloc[0:5]"
   ]
  },
  {
   "cell_type": "markdown",
   "id": "191f8e50-77e3-4612-b4d9-dde05e0f3ba9",
   "metadata": {},
   "source": [
    "## Rivien valinta ehdon perusteella\n",
    "\n",
    "Usein emme tiedä tarkalleen minkä indeksin riviltä löytyy mitäkin, emmekä näin ollen voi käyttää indeksejä valintoihin. Valintoja on myös usein tehtävä dynaamisesti joihinkin ehtoihin perustuen, jolloin indeksipohjainen valinta ei edes riitäisi.\n",
    "\n",
    "Monimutkaisempia, esimerkiksi ehtoon perustuvia, valintoja voi tehdä DataFramen `loc`-attribuutilla.\n",
    "\n",
    "Valitaan seuraavaksi kaikki salamahavainnot, joissa sähkövirta on ollut yli 10 kiloampeeria. `loc`-attribuutille annetaan siis ehtona se, että sarakkeen `abs_peak_current_ka` arvo tulisi olla yli 10: "
   ]
  },
  {
   "cell_type": "code",
   "execution_count": 27,
   "id": "70495bbe-fb78-4546-9206-1d25f54c9310",
   "metadata": {},
   "outputs": [
    {
     "data": {
      "text/html": [
       "<div>\n",
       "<style scoped>\n",
       "    .dataframe tbody tr th:only-of-type {\n",
       "        vertical-align: middle;\n",
       "    }\n",
       "\n",
       "    .dataframe tbody tr th {\n",
       "        vertical-align: top;\n",
       "    }\n",
       "\n",
       "    .dataframe thead th {\n",
       "        text-align: right;\n",
       "    }\n",
       "</style>\n",
       "<table border=\"1\" class=\"dataframe\">\n",
       "  <thead>\n",
       "    <tr style=\"text-align: right;\">\n",
       "      <th></th>\n",
       "      <th>time</th>\n",
       "      <th>abs_peak_current_ka</th>\n",
       "    </tr>\n",
       "  </thead>\n",
       "  <tbody>\n",
       "    <tr>\n",
       "      <th>6</th>\n",
       "      <td>1717200044</td>\n",
       "      <td>13.0</td>\n",
       "    </tr>\n",
       "    <tr>\n",
       "      <th>15</th>\n",
       "      <td>1717200044</td>\n",
       "      <td>22.0</td>\n",
       "    </tr>\n",
       "    <tr>\n",
       "      <th>25</th>\n",
       "      <td>1717200144</td>\n",
       "      <td>22.0</td>\n",
       "    </tr>\n",
       "    <tr>\n",
       "      <th>26</th>\n",
       "      <td>1717200144</td>\n",
       "      <td>23.0</td>\n",
       "    </tr>\n",
       "    <tr>\n",
       "      <th>30</th>\n",
       "      <td>1717200198</td>\n",
       "      <td>37.0</td>\n",
       "    </tr>\n",
       "    <tr>\n",
       "      <th>...</th>\n",
       "      <td>...</td>\n",
       "      <td>...</td>\n",
       "    </tr>\n",
       "    <tr>\n",
       "      <th>83439</th>\n",
       "      <td>1717286351</td>\n",
       "      <td>15.0</td>\n",
       "    </tr>\n",
       "    <tr>\n",
       "      <th>83445</th>\n",
       "      <td>1717286376</td>\n",
       "      <td>17.0</td>\n",
       "    </tr>\n",
       "    <tr>\n",
       "      <th>83458</th>\n",
       "      <td>1717286397</td>\n",
       "      <td>13.0</td>\n",
       "    </tr>\n",
       "    <tr>\n",
       "      <th>83459</th>\n",
       "      <td>1717286397</td>\n",
       "      <td>14.0</td>\n",
       "    </tr>\n",
       "    <tr>\n",
       "      <th>83464</th>\n",
       "      <td>1717286398</td>\n",
       "      <td>21.0</td>\n",
       "    </tr>\n",
       "  </tbody>\n",
       "</table>\n",
       "<p>12877 rows × 2 columns</p>\n",
       "</div>"
      ],
      "text/plain": [
       "             time  abs_peak_current_ka\n",
       "6      1717200044                 13.0\n",
       "15     1717200044                 22.0\n",
       "25     1717200144                 22.0\n",
       "26     1717200144                 23.0\n",
       "30     1717200198                 37.0\n",
       "...           ...                  ...\n",
       "83439  1717286351                 15.0\n",
       "83445  1717286376                 17.0\n",
       "83458  1717286397                 13.0\n",
       "83459  1717286397                 14.0\n",
       "83464  1717286398                 21.0\n",
       "\n",
       "[12877 rows x 2 columns]"
      ]
     },
     "execution_count": 27,
     "metadata": {},
     "output_type": "execute_result"
    }
   ],
   "source": [
    "lightnings.loc[lightnings[\"abs_peak_current_ka\"] > 10]"
   ]
  },
  {
   "cell_type": "markdown",
   "id": "c4461dba-182b-44fd-b681-50fffd6e562d",
   "metadata": {},
   "source": [
    "Ehto palauttaa siis `True` tai `False` joka riville, minkä perusteella valinta tehdään. Myös selkeyden vuoksi ehto kannattaa usein kirjoittaa erikseen:"
   ]
  },
  {
   "cell_type": "code",
   "execution_count": 28,
   "id": "08d50239-2ada-4635-9d6d-8411820a1972",
   "metadata": {},
   "outputs": [
    {
     "data": {
      "text/plain": [
       "0        False\n",
       "1        False\n",
       "2        False\n",
       "3        False\n",
       "4        False\n",
       "         ...  \n",
       "83461    False\n",
       "83462    False\n",
       "83463    False\n",
       "83464     True\n",
       "83465    False\n",
       "Name: abs_peak_current_ka, Length: 83466, dtype: bool"
      ]
     },
     "execution_count": 28,
     "metadata": {},
     "output_type": "execute_result"
    }
   ],
   "source": [
    "current_over_10 = lightnings[\"abs_peak_current_ka\"] > 10\n",
    "current_over_10"
   ]
  },
  {
   "cell_type": "markdown",
   "id": "7ae295e3-26e2-4190-b40f-cd1c4887fac0",
   "metadata": {},
   "source": [
    "Jolloin itse valinnasta tulee huomattavasti luettavampi:"
   ]
  },
  {
   "cell_type": "code",
   "execution_count": 29,
   "id": "a75d46a3-523a-44c6-9d41-b9c99962a008",
   "metadata": {},
   "outputs": [
    {
     "data": {
      "text/html": [
       "<div>\n",
       "<style scoped>\n",
       "    .dataframe tbody tr th:only-of-type {\n",
       "        vertical-align: middle;\n",
       "    }\n",
       "\n",
       "    .dataframe tbody tr th {\n",
       "        vertical-align: top;\n",
       "    }\n",
       "\n",
       "    .dataframe thead th {\n",
       "        text-align: right;\n",
       "    }\n",
       "</style>\n",
       "<table border=\"1\" class=\"dataframe\">\n",
       "  <thead>\n",
       "    <tr style=\"text-align: right;\">\n",
       "      <th></th>\n",
       "      <th>time</th>\n",
       "      <th>abs_peak_current_ka</th>\n",
       "    </tr>\n",
       "  </thead>\n",
       "  <tbody>\n",
       "    <tr>\n",
       "      <th>6</th>\n",
       "      <td>1717200044</td>\n",
       "      <td>13.0</td>\n",
       "    </tr>\n",
       "    <tr>\n",
       "      <th>15</th>\n",
       "      <td>1717200044</td>\n",
       "      <td>22.0</td>\n",
       "    </tr>\n",
       "    <tr>\n",
       "      <th>25</th>\n",
       "      <td>1717200144</td>\n",
       "      <td>22.0</td>\n",
       "    </tr>\n",
       "    <tr>\n",
       "      <th>26</th>\n",
       "      <td>1717200144</td>\n",
       "      <td>23.0</td>\n",
       "    </tr>\n",
       "    <tr>\n",
       "      <th>30</th>\n",
       "      <td>1717200198</td>\n",
       "      <td>37.0</td>\n",
       "    </tr>\n",
       "    <tr>\n",
       "      <th>...</th>\n",
       "      <td>...</td>\n",
       "      <td>...</td>\n",
       "    </tr>\n",
       "    <tr>\n",
       "      <th>83439</th>\n",
       "      <td>1717286351</td>\n",
       "      <td>15.0</td>\n",
       "    </tr>\n",
       "    <tr>\n",
       "      <th>83445</th>\n",
       "      <td>1717286376</td>\n",
       "      <td>17.0</td>\n",
       "    </tr>\n",
       "    <tr>\n",
       "      <th>83458</th>\n",
       "      <td>1717286397</td>\n",
       "      <td>13.0</td>\n",
       "    </tr>\n",
       "    <tr>\n",
       "      <th>83459</th>\n",
       "      <td>1717286397</td>\n",
       "      <td>14.0</td>\n",
       "    </tr>\n",
       "    <tr>\n",
       "      <th>83464</th>\n",
       "      <td>1717286398</td>\n",
       "      <td>21.0</td>\n",
       "    </tr>\n",
       "  </tbody>\n",
       "</table>\n",
       "<p>12877 rows × 2 columns</p>\n",
       "</div>"
      ],
      "text/plain": [
       "             time  abs_peak_current_ka\n",
       "6      1717200044                 13.0\n",
       "15     1717200044                 22.0\n",
       "25     1717200144                 22.0\n",
       "26     1717200144                 23.0\n",
       "30     1717200198                 37.0\n",
       "...           ...                  ...\n",
       "83439  1717286351                 15.0\n",
       "83445  1717286376                 17.0\n",
       "83458  1717286397                 13.0\n",
       "83459  1717286397                 14.0\n",
       "83464  1717286398                 21.0\n",
       "\n",
       "[12877 rows x 2 columns]"
      ]
     },
     "execution_count": 29,
     "metadata": {},
     "output_type": "execute_result"
    }
   ],
   "source": [
    "lightnings.loc[current_over_10]"
   ]
  },
  {
   "cell_type": "markdown",
   "id": "a3ee2912-11cd-4037-8a74-f213fcbae7a0",
   "metadata": {},
   "source": [
    "## Harjoitus - rivien valinta yhdellä ehdolla\n",
    "\n",
    "Valitse ne rivit, joiden sähkövirta on pienempi tai yhtä suuri kuin 5 kiloampeeria.\n",
    "\n",
    "1. Kirjoita ehto, ja talleta se johonkin muuttujaan\n",
    "2. Tee valinta käyttämällä ehtoa `loc`-attribuutin kanssa"
   ]
  },
  {
   "cell_type": "code",
   "execution_count": 30,
   "id": "ce6924c3-1446-4bda-a872-ac98d6b8e201",
   "metadata": {},
   "outputs": [],
   "source": [
    "# Kirjoita ratkaisu\n"
   ]
  },
  {
   "cell_type": "markdown",
   "id": "c6df4377-c822-43f6-82ec-d6e36e6a7f54",
   "metadata": {
    "jp-MarkdownHeadingCollapsed": true
   },
   "source": [
    "## Ratkaisu"
   ]
  },
  {
   "cell_type": "code",
   "execution_count": 31,
   "id": "7760e4d9-be59-43ac-aa86-2e139ea12599",
   "metadata": {},
   "outputs": [
    {
     "data": {
      "text/html": [
       "<div>\n",
       "<style scoped>\n",
       "    .dataframe tbody tr th:only-of-type {\n",
       "        vertical-align: middle;\n",
       "    }\n",
       "\n",
       "    .dataframe tbody tr th {\n",
       "        vertical-align: top;\n",
       "    }\n",
       "\n",
       "    .dataframe thead th {\n",
       "        text-align: right;\n",
       "    }\n",
       "</style>\n",
       "<table border=\"1\" class=\"dataframe\">\n",
       "  <thead>\n",
       "    <tr style=\"text-align: right;\">\n",
       "      <th></th>\n",
       "      <th>time</th>\n",
       "      <th>abs_peak_current_ka</th>\n",
       "    </tr>\n",
       "  </thead>\n",
       "  <tbody>\n",
       "    <tr>\n",
       "      <th>0</th>\n",
       "      <td>1717200010</td>\n",
       "      <td>4.0</td>\n",
       "    </tr>\n",
       "    <tr>\n",
       "      <th>1</th>\n",
       "      <td>1717200010</td>\n",
       "      <td>5.0</td>\n",
       "    </tr>\n",
       "    <tr>\n",
       "      <th>2</th>\n",
       "      <td>1717200010</td>\n",
       "      <td>2.0</td>\n",
       "    </tr>\n",
       "    <tr>\n",
       "      <th>3</th>\n",
       "      <td>1717200011</td>\n",
       "      <td>1.0</td>\n",
       "    </tr>\n",
       "    <tr>\n",
       "      <th>8</th>\n",
       "      <td>1717200044</td>\n",
       "      <td>4.0</td>\n",
       "    </tr>\n",
       "    <tr>\n",
       "      <th>...</th>\n",
       "      <td>...</td>\n",
       "      <td>...</td>\n",
       "    </tr>\n",
       "    <tr>\n",
       "      <th>83457</th>\n",
       "      <td>1717286395</td>\n",
       "      <td>4.0</td>\n",
       "    </tr>\n",
       "    <tr>\n",
       "      <th>83460</th>\n",
       "      <td>1717286397</td>\n",
       "      <td>3.0</td>\n",
       "    </tr>\n",
       "    <tr>\n",
       "      <th>83461</th>\n",
       "      <td>1717286397</td>\n",
       "      <td>3.0</td>\n",
       "    </tr>\n",
       "    <tr>\n",
       "      <th>83462</th>\n",
       "      <td>1717286397</td>\n",
       "      <td>5.0</td>\n",
       "    </tr>\n",
       "    <tr>\n",
       "      <th>83465</th>\n",
       "      <td>1717286398</td>\n",
       "      <td>4.0</td>\n",
       "    </tr>\n",
       "  </tbody>\n",
       "</table>\n",
       "<p>47299 rows × 2 columns</p>\n",
       "</div>"
      ],
      "text/plain": [
       "             time  abs_peak_current_ka\n",
       "0      1717200010                  4.0\n",
       "1      1717200010                  5.0\n",
       "2      1717200010                  2.0\n",
       "3      1717200011                  1.0\n",
       "8      1717200044                  4.0\n",
       "...           ...                  ...\n",
       "83457  1717286395                  4.0\n",
       "83460  1717286397                  3.0\n",
       "83461  1717286397                  3.0\n",
       "83462  1717286397                  5.0\n",
       "83465  1717286398                  4.0\n",
       "\n",
       "[47299 rows x 2 columns]"
      ]
     },
     "execution_count": 31,
     "metadata": {},
     "output_type": "execute_result"
    }
   ],
   "source": [
    "condition = lightnings[\"abs_peak_current_ka\"] <= 5\n",
    "\n",
    "lightnings.loc[condition]"
   ]
  },
  {
   "cell_type": "markdown",
   "id": "5277062f-8392-4f30-bf2f-856d97f924a8",
   "metadata": {},
   "source": [
    "## Rivien valinta useilla ehdoilla"
   ]
  },
  {
   "cell_type": "markdown",
   "id": "68acfc67-0b56-4172-87da-8939c1455e67",
   "metadata": {},
   "source": [
    "Ehtoja voi myös yhdistellä. Huomaa, että `loc`-käyttötapauksessa `and` ja `or` korvautuvat operaattoreilla `&` ja `|`. \n",
    "\n",
    "Valitaan havainnot, joissa virta on tasan 10 tai 20 kiloampeeria:"
   ]
  },
  {
   "cell_type": "code",
   "execution_count": 32,
   "id": "454c45ed-144d-4d03-b6a5-720ed0aa7414",
   "metadata": {},
   "outputs": [
    {
     "data": {
      "text/html": [
       "<div>\n",
       "<style scoped>\n",
       "    .dataframe tbody tr th:only-of-type {\n",
       "        vertical-align: middle;\n",
       "    }\n",
       "\n",
       "    .dataframe tbody tr th {\n",
       "        vertical-align: top;\n",
       "    }\n",
       "\n",
       "    .dataframe thead th {\n",
       "        text-align: right;\n",
       "    }\n",
       "</style>\n",
       "<table border=\"1\" class=\"dataframe\">\n",
       "  <thead>\n",
       "    <tr style=\"text-align: right;\">\n",
       "      <th></th>\n",
       "      <th>time</th>\n",
       "      <th>abs_peak_current_ka</th>\n",
       "    </tr>\n",
       "  </thead>\n",
       "  <tbody>\n",
       "    <tr>\n",
       "      <th>48</th>\n",
       "      <td>1717200199</td>\n",
       "      <td>10.0</td>\n",
       "    </tr>\n",
       "    <tr>\n",
       "      <th>53</th>\n",
       "      <td>1717200199</td>\n",
       "      <td>10.0</td>\n",
       "    </tr>\n",
       "    <tr>\n",
       "      <th>65</th>\n",
       "      <td>1717200319</td>\n",
       "      <td>10.0</td>\n",
       "    </tr>\n",
       "    <tr>\n",
       "      <th>94</th>\n",
       "      <td>1717200523</td>\n",
       "      <td>10.0</td>\n",
       "    </tr>\n",
       "    <tr>\n",
       "      <th>103</th>\n",
       "      <td>1717200585</td>\n",
       "      <td>10.0</td>\n",
       "    </tr>\n",
       "    <tr>\n",
       "      <th>...</th>\n",
       "      <td>...</td>\n",
       "      <td>...</td>\n",
       "    </tr>\n",
       "    <tr>\n",
       "      <th>83271</th>\n",
       "      <td>1717285940</td>\n",
       "      <td>10.0</td>\n",
       "    </tr>\n",
       "    <tr>\n",
       "      <th>83296</th>\n",
       "      <td>1717286037</td>\n",
       "      <td>10.0</td>\n",
       "    </tr>\n",
       "    <tr>\n",
       "      <th>83353</th>\n",
       "      <td>1717286175</td>\n",
       "      <td>10.0</td>\n",
       "    </tr>\n",
       "    <tr>\n",
       "      <th>83388</th>\n",
       "      <td>1717286258</td>\n",
       "      <td>10.0</td>\n",
       "    </tr>\n",
       "    <tr>\n",
       "      <th>83405</th>\n",
       "      <td>1717286285</td>\n",
       "      <td>10.0</td>\n",
       "    </tr>\n",
       "  </tbody>\n",
       "</table>\n",
       "<p>2965 rows × 2 columns</p>\n",
       "</div>"
      ],
      "text/plain": [
       "             time  abs_peak_current_ka\n",
       "48     1717200199                 10.0\n",
       "53     1717200199                 10.0\n",
       "65     1717200319                 10.0\n",
       "94     1717200523                 10.0\n",
       "103    1717200585                 10.0\n",
       "...           ...                  ...\n",
       "83271  1717285940                 10.0\n",
       "83296  1717286037                 10.0\n",
       "83353  1717286175                 10.0\n",
       "83388  1717286258                 10.0\n",
       "83405  1717286285                 10.0\n",
       "\n",
       "[2965 rows x 2 columns]"
      ]
     },
     "execution_count": 32,
     "metadata": {},
     "output_type": "execute_result"
    }
   ],
   "source": [
    "column = lightnings[\"abs_peak_current_ka\"]\n",
    "\n",
    "current_10_or_20 = (column == 10) | (column == 20)\n",
    "\n",
    "lightnings.loc[current_10_or_20]"
   ]
  },
  {
   "cell_type": "markdown",
   "id": "fa006c1b-5f34-4105-8a39-e3ac4940c90b",
   "metadata": {},
   "source": [
    "# Aikaleimat\n",
    "\n",
    "Aineistossamme on mukana `time`-sarake. Sisältö ei kuitenkaan (ainakaan ihmiselle) näytä kovin selkeältä aikamääreeltä.\n",
    "\n",
    "Kyseessä on [Unix-timestamp](https://www.unixtimestamp.com/), joka on usein koneluettavissa aineistoissa käytetty aikaformaatti. Pandasissa onkin valmiina tapa muuttaa tämä (ja moni muukin) aikaformaatti pythonissa hyödyllisempään `datetime`-muotoon: `to_datetime`-funktio.\n",
    "\n",
    "Korvataan siis sarakkeen `time` sisältö luettavammilla aikamääreillä `to_datetime`-funktiolla. Huomaa, että määrittelemme alkuperäisen yksikön olevan sekunteja, eli `s`."
   ]
  },
  {
   "cell_type": "code",
   "execution_count": 33,
   "id": "42974343-6c80-4140-9bc4-1d38373b6cf7",
   "metadata": {},
   "outputs": [
    {
     "data": {
      "text/html": [
       "<div>\n",
       "<style scoped>\n",
       "    .dataframe tbody tr th:only-of-type {\n",
       "        vertical-align: middle;\n",
       "    }\n",
       "\n",
       "    .dataframe tbody tr th {\n",
       "        vertical-align: top;\n",
       "    }\n",
       "\n",
       "    .dataframe thead th {\n",
       "        text-align: right;\n",
       "    }\n",
       "</style>\n",
       "<table border=\"1\" class=\"dataframe\">\n",
       "  <thead>\n",
       "    <tr style=\"text-align: right;\">\n",
       "      <th></th>\n",
       "      <th>time</th>\n",
       "      <th>abs_peak_current_ka</th>\n",
       "    </tr>\n",
       "  </thead>\n",
       "  <tbody>\n",
       "    <tr>\n",
       "      <th>0</th>\n",
       "      <td>2024-06-01 00:00:10</td>\n",
       "      <td>4.0</td>\n",
       "    </tr>\n",
       "    <tr>\n",
       "      <th>1</th>\n",
       "      <td>2024-06-01 00:00:10</td>\n",
       "      <td>5.0</td>\n",
       "    </tr>\n",
       "    <tr>\n",
       "      <th>2</th>\n",
       "      <td>2024-06-01 00:00:10</td>\n",
       "      <td>2.0</td>\n",
       "    </tr>\n",
       "    <tr>\n",
       "      <th>3</th>\n",
       "      <td>2024-06-01 00:00:11</td>\n",
       "      <td>1.0</td>\n",
       "    </tr>\n",
       "    <tr>\n",
       "      <th>4</th>\n",
       "      <td>2024-06-01 00:00:44</td>\n",
       "      <td>7.0</td>\n",
       "    </tr>\n",
       "  </tbody>\n",
       "</table>\n",
       "</div>"
      ],
      "text/plain": [
       "                 time  abs_peak_current_ka\n",
       "0 2024-06-01 00:00:10                  4.0\n",
       "1 2024-06-01 00:00:10                  5.0\n",
       "2 2024-06-01 00:00:10                  2.0\n",
       "3 2024-06-01 00:00:11                  1.0\n",
       "4 2024-06-01 00:00:44                  7.0"
      ]
     },
     "execution_count": 33,
     "metadata": {},
     "output_type": "execute_result"
    }
   ],
   "source": [
    "lightnings[\"time\"] = pd.to_datetime(lightnings[\"time\"], unit=\"s\")\n",
    "lightnings.head()"
   ]
  },
  {
   "cell_type": "markdown",
   "id": "a1eaa59f-7531-4ff0-9921-625fb08eb8c9",
   "metadata": {},
   "source": [
    "Datetime-olioita voidaan käsitellä monien tuttujen metodien avulla. Haetaan vaikkapa ensimmäinen ja viimeinen havainto:"
   ]
  },
  {
   "cell_type": "code",
   "execution_count": 34,
   "id": "d0402c1f-b2cf-477c-be92-08589191393d",
   "metadata": {},
   "outputs": [
    {
     "data": {
      "text/plain": [
       "Timestamp('2024-06-01 00:00:10')"
      ]
     },
     "execution_count": 34,
     "metadata": {},
     "output_type": "execute_result"
    }
   ],
   "source": [
    "lightnings[\"time\"].min()"
   ]
  },
  {
   "cell_type": "code",
   "execution_count": 35,
   "id": "d02dcb79-09a4-483c-ad55-a467cc5b3890",
   "metadata": {},
   "outputs": [
    {
     "data": {
      "text/plain": [
       "Timestamp('2024-06-01 23:59:58')"
      ]
     },
     "execution_count": 35,
     "metadata": {},
     "output_type": "execute_result"
    }
   ],
   "source": [
    "lightnings[\"time\"].max()"
   ]
  },
  {
   "cell_type": "markdown",
   "id": "58d3ad10-3107-465f-9abc-af66df6d81ff",
   "metadata": {},
   "source": [
    "Huomaamme, että salamahavaintoja on yhden vuorokauden ajalta.\n",
    "\n",
    "Pääsemme käsiksi datetime-olioiden attribuutteihin (esim. päivä, tunti, tai sekunti) sarakkeen `dt`-attribuutin kautta:"
   ]
  },
  {
   "cell_type": "code",
   "execution_count": 36,
   "id": "8ecb6b66-38dc-4c97-8a78-3a2c1c85fd2f",
   "metadata": {},
   "outputs": [
    {
     "data": {
      "text/plain": [
       "0         0\n",
       "1         0\n",
       "2         0\n",
       "3         0\n",
       "4         0\n",
       "         ..\n",
       "83461    23\n",
       "83462    23\n",
       "83463    23\n",
       "83464    23\n",
       "83465    23\n",
       "Name: time, Length: 83466, dtype: int32"
      ]
     },
     "execution_count": 36,
     "metadata": {},
     "output_type": "execute_result"
    }
   ],
   "source": [
    "lightnings[\"time\"].dt.hour"
   ]
  },
  {
   "cell_type": "markdown",
   "id": "f7946f54-042f-48fa-b29f-e511d8bbdbfb",
   "metadata": {},
   "source": [
    "Voimme valita rivejä nyt myös ajan perusteella:"
   ]
  },
  {
   "cell_type": "code",
   "execution_count": 37,
   "id": "7f617a92-6624-4060-a01d-df1476ba20cf",
   "metadata": {},
   "outputs": [
    {
     "data": {
      "text/html": [
       "<div>\n",
       "<style scoped>\n",
       "    .dataframe tbody tr th:only-of-type {\n",
       "        vertical-align: middle;\n",
       "    }\n",
       "\n",
       "    .dataframe tbody tr th {\n",
       "        vertical-align: top;\n",
       "    }\n",
       "\n",
       "    .dataframe thead th {\n",
       "        text-align: right;\n",
       "    }\n",
       "</style>\n",
       "<table border=\"1\" class=\"dataframe\">\n",
       "  <thead>\n",
       "    <tr style=\"text-align: right;\">\n",
       "      <th></th>\n",
       "      <th>time</th>\n",
       "      <th>abs_peak_current_ka</th>\n",
       "    </tr>\n",
       "  </thead>\n",
       "  <tbody>\n",
       "    <tr>\n",
       "      <th>0</th>\n",
       "      <td>2024-06-01 00:00:10</td>\n",
       "      <td>4.0</td>\n",
       "    </tr>\n",
       "    <tr>\n",
       "      <th>1</th>\n",
       "      <td>2024-06-01 00:00:10</td>\n",
       "      <td>5.0</td>\n",
       "    </tr>\n",
       "    <tr>\n",
       "      <th>2</th>\n",
       "      <td>2024-06-01 00:00:10</td>\n",
       "      <td>2.0</td>\n",
       "    </tr>\n",
       "    <tr>\n",
       "      <th>3</th>\n",
       "      <td>2024-06-01 00:00:11</td>\n",
       "      <td>1.0</td>\n",
       "    </tr>\n",
       "    <tr>\n",
       "      <th>4</th>\n",
       "      <td>2024-06-01 00:00:44</td>\n",
       "      <td>7.0</td>\n",
       "    </tr>\n",
       "    <tr>\n",
       "      <th>...</th>\n",
       "      <td>...</td>\n",
       "      <td>...</td>\n",
       "    </tr>\n",
       "    <tr>\n",
       "      <th>1524</th>\n",
       "      <td>2024-06-01 04:55:14</td>\n",
       "      <td>4.0</td>\n",
       "    </tr>\n",
       "    <tr>\n",
       "      <th>1525</th>\n",
       "      <td>2024-06-01 04:55:14</td>\n",
       "      <td>3.0</td>\n",
       "    </tr>\n",
       "    <tr>\n",
       "      <th>1526</th>\n",
       "      <td>2024-06-01 04:55:14</td>\n",
       "      <td>3.0</td>\n",
       "    </tr>\n",
       "    <tr>\n",
       "      <th>1527</th>\n",
       "      <td>2024-06-01 04:58:24</td>\n",
       "      <td>3.0</td>\n",
       "    </tr>\n",
       "    <tr>\n",
       "      <th>1528</th>\n",
       "      <td>2024-06-01 04:58:24</td>\n",
       "      <td>15.0</td>\n",
       "    </tr>\n",
       "  </tbody>\n",
       "</table>\n",
       "<p>1529 rows × 2 columns</p>\n",
       "</div>"
      ],
      "text/plain": [
       "                    time  abs_peak_current_ka\n",
       "0    2024-06-01 00:00:10                  4.0\n",
       "1    2024-06-01 00:00:10                  5.0\n",
       "2    2024-06-01 00:00:10                  2.0\n",
       "3    2024-06-01 00:00:11                  1.0\n",
       "4    2024-06-01 00:00:44                  7.0\n",
       "...                  ...                  ...\n",
       "1524 2024-06-01 04:55:14                  4.0\n",
       "1525 2024-06-01 04:55:14                  3.0\n",
       "1526 2024-06-01 04:55:14                  3.0\n",
       "1527 2024-06-01 04:58:24                  3.0\n",
       "1528 2024-06-01 04:58:24                 15.0\n",
       "\n",
       "[1529 rows x 2 columns]"
      ]
     },
     "execution_count": 37,
     "metadata": {},
     "output_type": "execute_result"
    }
   ],
   "source": [
    "before_5_am = lightnings[\"time\"].dt.hour < 5\n",
    "\n",
    "lightnings.loc[before_5_am]"
   ]
  },
  {
   "cell_type": "markdown",
   "id": "6846bd6a-b923-4af7-bd1e-951654c60ec3",
   "metadata": {},
   "source": [
    "## Harjoitus - valinta ajan ja sähkövirran perusteella\n",
    "\n",
    "Kuinka monta yli 100:n kiloampeerin salamaa iski klo 20:00 jälkeen?\n",
    "1. kirjoita molemmat ehdot, selkeyden vuoksi kannattaa käyttää muuttujia.\n",
    "3. tee valinta ehtojen ja `loc`-attribuutin avulla"
   ]
  },
  {
   "cell_type": "code",
   "execution_count": 38,
   "id": "68e6f107-4f20-406c-ba4f-aff0aa19e801",
   "metadata": {},
   "outputs": [],
   "source": [
    "# Kirjoita ratkaisu\n"
   ]
  },
  {
   "cell_type": "markdown",
   "id": "420177a3-7061-49fa-a367-be34870a40cf",
   "metadata": {
    "jp-MarkdownHeadingCollapsed": true
   },
   "source": [
    "## Ratkaisu"
   ]
  },
  {
   "cell_type": "code",
   "execution_count": 39,
   "id": "cf3b8471-6522-41e3-993d-38c8b1292fdd",
   "metadata": {},
   "outputs": [
    {
     "data": {
      "text/plain": [
       "10"
      ]
     },
     "execution_count": 39,
     "metadata": {},
     "output_type": "execute_result"
    }
   ],
   "source": [
    "after_2000 = lightnings[\"time\"].dt.hour > 20\n",
    "current_over_100 = lightnings[\"abs_peak_current_ka\"] > 100\n",
    "\n",
    "len(lightnings.loc[(after_2000) & (current_over_100)])"
   ]
  },
  {
   "cell_type": "markdown",
   "id": "018d9a8f-5fcb-48a8-b98e-f7e4b5f60806",
   "metadata": {},
   "source": [
    "# Datan ryhmittely ja yksinkertainen visualisointi\n",
    "\n",
    "Mitä jos haluaisimme nähdä kuinka monta salamaa on iskenyt vuorokauden eri tunteina?\n",
    "\n",
    "Yksi ratkaisu voisi olla ryhmitellä data tunnin mukaan, ja sen jälkeen visualisoida tuntikohtaiset rivien määrät.\n",
    "\n",
    "Lisätään ensin DataFrameen sarake `hour`, joka saa sisällöksi vain tunnin."
   ]
  },
  {
   "cell_type": "code",
   "execution_count": 40,
   "id": "808cad58-1f90-48cd-8745-b09aa6d2147c",
   "metadata": {},
   "outputs": [
    {
     "data": {
      "text/html": [
       "<div>\n",
       "<style scoped>\n",
       "    .dataframe tbody tr th:only-of-type {\n",
       "        vertical-align: middle;\n",
       "    }\n",
       "\n",
       "    .dataframe tbody tr th {\n",
       "        vertical-align: top;\n",
       "    }\n",
       "\n",
       "    .dataframe thead th {\n",
       "        text-align: right;\n",
       "    }\n",
       "</style>\n",
       "<table border=\"1\" class=\"dataframe\">\n",
       "  <thead>\n",
       "    <tr style=\"text-align: right;\">\n",
       "      <th></th>\n",
       "      <th>time</th>\n",
       "      <th>abs_peak_current_ka</th>\n",
       "      <th>hour</th>\n",
       "    </tr>\n",
       "  </thead>\n",
       "  <tbody>\n",
       "    <tr>\n",
       "      <th>0</th>\n",
       "      <td>2024-06-01 00:00:10</td>\n",
       "      <td>4.0</td>\n",
       "      <td>0</td>\n",
       "    </tr>\n",
       "    <tr>\n",
       "      <th>1</th>\n",
       "      <td>2024-06-01 00:00:10</td>\n",
       "      <td>5.0</td>\n",
       "      <td>0</td>\n",
       "    </tr>\n",
       "    <tr>\n",
       "      <th>2</th>\n",
       "      <td>2024-06-01 00:00:10</td>\n",
       "      <td>2.0</td>\n",
       "      <td>0</td>\n",
       "    </tr>\n",
       "    <tr>\n",
       "      <th>3</th>\n",
       "      <td>2024-06-01 00:00:11</td>\n",
       "      <td>1.0</td>\n",
       "      <td>0</td>\n",
       "    </tr>\n",
       "    <tr>\n",
       "      <th>4</th>\n",
       "      <td>2024-06-01 00:00:44</td>\n",
       "      <td>7.0</td>\n",
       "      <td>0</td>\n",
       "    </tr>\n",
       "    <tr>\n",
       "      <th>...</th>\n",
       "      <td>...</td>\n",
       "      <td>...</td>\n",
       "      <td>...</td>\n",
       "    </tr>\n",
       "    <tr>\n",
       "      <th>83461</th>\n",
       "      <td>2024-06-01 23:59:57</td>\n",
       "      <td>3.0</td>\n",
       "      <td>23</td>\n",
       "    </tr>\n",
       "    <tr>\n",
       "      <th>83462</th>\n",
       "      <td>2024-06-01 23:59:57</td>\n",
       "      <td>5.0</td>\n",
       "      <td>23</td>\n",
       "    </tr>\n",
       "    <tr>\n",
       "      <th>83463</th>\n",
       "      <td>2024-06-01 23:59:58</td>\n",
       "      <td>6.0</td>\n",
       "      <td>23</td>\n",
       "    </tr>\n",
       "    <tr>\n",
       "      <th>83464</th>\n",
       "      <td>2024-06-01 23:59:58</td>\n",
       "      <td>21.0</td>\n",
       "      <td>23</td>\n",
       "    </tr>\n",
       "    <tr>\n",
       "      <th>83465</th>\n",
       "      <td>2024-06-01 23:59:58</td>\n",
       "      <td>4.0</td>\n",
       "      <td>23</td>\n",
       "    </tr>\n",
       "  </tbody>\n",
       "</table>\n",
       "<p>83466 rows × 3 columns</p>\n",
       "</div>"
      ],
      "text/plain": [
       "                     time  abs_peak_current_ka  hour\n",
       "0     2024-06-01 00:00:10                  4.0     0\n",
       "1     2024-06-01 00:00:10                  5.0     0\n",
       "2     2024-06-01 00:00:10                  2.0     0\n",
       "3     2024-06-01 00:00:11                  1.0     0\n",
       "4     2024-06-01 00:00:44                  7.0     0\n",
       "...                   ...                  ...   ...\n",
       "83461 2024-06-01 23:59:57                  3.0    23\n",
       "83462 2024-06-01 23:59:57                  5.0    23\n",
       "83463 2024-06-01 23:59:58                  6.0    23\n",
       "83464 2024-06-01 23:59:58                 21.0    23\n",
       "83465 2024-06-01 23:59:58                  4.0    23\n",
       "\n",
       "[83466 rows x 3 columns]"
      ]
     },
     "execution_count": 40,
     "metadata": {},
     "output_type": "execute_result"
    }
   ],
   "source": [
    "lightnings[\"hour\"] = lightnings[\"time\"].dt.hour \n",
    "lightnings"
   ]
  },
  {
   "cell_type": "markdown",
   "id": "1ed2ccfa-417f-42e5-a520-0663e4249f4e",
   "metadata": {},
   "source": [
    "Ryhmitellään data uuden sarakkeen arvoihin perustuen käyttäen `group_by`-funktiota."
   ]
  },
  {
   "cell_type": "code",
   "execution_count": 41,
   "id": "ff912965-5444-47ce-808a-c913b747712e",
   "metadata": {},
   "outputs": [
    {
     "data": {
      "text/plain": [
       "<pandas.core.groupby.generic.DataFrameGroupBy object at 0x7f71940da930>"
      ]
     },
     "execution_count": 41,
     "metadata": {},
     "output_type": "execute_result"
    }
   ],
   "source": [
    "group_by = lightnings.groupby(\"hour\")\n",
    "group_by"
   ]
  },
  {
   "cell_type": "markdown",
   "id": "6bd4460f-8e7a-44ab-ab6a-c5b6cce9ac91",
   "metadata": {},
   "source": [
    "GroupBy-oliolle täytyy vielä kertoa, miten ryhmittely tulisi tehdä. Kun haluamme vain rivien määrän, voidaa käyttää `size`-funktiota."
   ]
  },
  {
   "cell_type": "code",
   "execution_count": 42,
   "id": "8cdb5a50-81d5-43c6-872c-0893c3d2e985",
   "metadata": {},
   "outputs": [
    {
     "data": {
      "text/plain": [
       "hour\n",
       "0       996\n",
       "1       208\n",
       "2        10\n",
       "3        65\n",
       "4       250\n",
       "5       207\n",
       "6      1780\n",
       "7      6097\n",
       "8     10375\n",
       "9     11595\n",
       "10    10323\n",
       "11    12666\n",
       "12     8028\n",
       "13     6915\n",
       "14     5724\n",
       "15     2399\n",
       "16      447\n",
       "17      391\n",
       "18     1004\n",
       "19      810\n",
       "20      428\n",
       "21      541\n",
       "22      864\n",
       "23     1343\n",
       "dtype: int64"
      ]
     },
     "execution_count": 42,
     "metadata": {},
     "output_type": "execute_result"
    }
   ],
   "source": [
    "lightnings_per_hour = group_by.size()\n",
    "lightnings_per_hour"
   ]
  },
  {
   "cell_type": "markdown",
   "id": "4ebc08a9-f8b5-413f-8eba-1ad5bb3696b7",
   "metadata": {},
   "source": [
    "Nyt voimme visualisoida datan `plot`-metodilla:"
   ]
  },
  {
   "cell_type": "code",
   "execution_count": 43,
   "id": "1c099909-d2ec-406b-ab1d-3cafd0d21d48",
   "metadata": {},
   "outputs": [
    {
     "data": {
      "text/plain": [
       "<Axes: xlabel='hour'>"
      ]
     },
     "execution_count": 43,
     "metadata": {},
     "output_type": "execute_result"
    },
    {
     "data": {
      "image/png": "[encoded data removed]",
      "text/plain": [
       "<Figure size 640x480 with 1 Axes>"
      ]
     },
     "metadata": {},
     "output_type": "display_data"
    }
   ],
   "source": [
    "lightnings_per_hour.plot()"
   ]
  },
  {
   "cell_type": "markdown",
   "id": "1fd66e03-e45d-493e-994e-f1d36276438d",
   "metadata": {},
   "source": [
    "Laitetaan kuvaajalle vielä selitteet ja vaihdetaan sen tyyli pylväiksi:"
   ]
  },
  {
   "cell_type": "code",
   "execution_count": 44,
   "id": "dfac13a5-8279-46f1-9395-2fc828ed112f",
   "metadata": {},
   "outputs": [
    {
     "data": {
      "text/plain": [
       "<Axes: title={'center': 'Hourly lightning strikes on 1.6.2024'}, xlabel='hour', ylabel='count'>"
      ]
     },
     "execution_count": 44,
     "metadata": {},
     "output_type": "execute_result"
    },
    {
     "data": {
      "image/png": "[encoded data removed]",
      "text/plain": [
       "<Figure size 640x480 with 1 Axes>"
      ]
     },
     "metadata": {},
     "output_type": "display_data"
    }
   ],
   "source": [
    "lightnings_per_hour.plot(\n",
    "    title=\"Hourly lightning strikes on 1.6.2024\",\n",
    "    ylabel=\"count\",\n",
    "    kind=\"bar\",\n",
    ")"
   ]
  },
  {
   "cell_type": "code",
   "execution_count": null,
   "id": "a0134909-8a9d-4afb-8529-db2d531acb39",
   "metadata": {},
   "outputs": [],
   "source": []
  }
 ],
 "metadata": {
  "kernelspec": {
   "display_name": "Python 3 (ipykernel)",
   "language": "python",
   "name": "python3"
  },
  "language_info": {
   "codemirror_mode": {
    "name": "ipython",
    "version": 3
   },
   "file_extension": ".py",
   "mimetype": "text/x-python",
   "name": "python",
   "nbconvert_exporter": "python",
   "pygments_lexer": "ipython3",
   "version": "3.12.7"
  }
 },
 "nbformat": 4,
 "nbformat_minor": 5
}
