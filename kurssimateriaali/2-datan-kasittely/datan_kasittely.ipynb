{
 "cells": [
  {
   "cell_type": "markdown",
   "id": "1abeb25c-f9bc-42e0-bb20-3464f9ca88c2",
   "metadata": {},
   "source": [
    "# Datan käsittely Pythonissa\n",
    "\n",
    "Python on monikäyttöinen ns. \"general-purpose\" ohjelmointikieli, jolla voidaan käsitellä melkeinpä mitä vain dataa monilla eri tavoilla. Tällä kurssilla aihetta käsitellään paikkatietonäkökulmasta, keskittyen ensisijaisesti kahdentyyppiseen dataan: taulukkomaisiin aineistoihin sekä vektorimuotoiseen paikkatietoon."
   ]
  },
  {
   "cell_type": "markdown",
   "id": "1756db75-c8ce-4a9b-98d3-eb85cbdeb74a",
   "metadata": {},
   "source": [
    "# pandas\n",
    "\n",
    "## Mitä ja miksi\n",
    "\n",
    "[Pandas](https://pandas.pydata.org/) on Python-kirjasto, joka on muodostunut jo standardiksi data-analytiikassa ja taulukkomaisten aineistojen käsittelyssä. Paikkatietonäkökulmasta Pandas on erityisen merkityksellinen siksi, että vektorimuotoisen paikkatiedon käsittelyssä laajasti käytetty [GeoPandas](https://geopandas.org/en/stable/)-kirjasto perustuu nimestäkin päätellen Pandasiin, täydentäen sitä tuella spatiaalisiin operaatioihin ja geometrisiin datatyyppeihin.\n",
    "\n",
    "Tässä osiossa käsitellään siis Pandasin perusteita, ja samalla vaivalla valmistaudutaan käyttämään GeoPandasia seuraavassa osassa.\n",
    "\n",
    "## Kirjaston käyttöönotto\n",
    "\n",
    "Koska pandas on Pythonin standardikirjaston ulkopuolinen kirjasto, täytyy se ottaa erikseen käyttöön. Koska olet kurssin python-ympäristössä, varsinainen asennus condalla on jo hoidettu (`conda install -c conda-forge pandas`). Näin ollen voit ottaa kirjaston suoraan käyttöön `import` avainsanalla. Huomaa, että on tavanomaista antaa pandas-kirjastolle nimeksi `pd`, kun se otetaan käyttöön."
   ]
  },
  {
   "cell_type": "code",
   "execution_count": 8,
   "id": "ba8b6365-0ce4-409c-87d5-421348dfe527",
   "metadata": {},
   "outputs": [],
   "source": [
    "import pandas as pd"
   ]
  },
  {
   "cell_type": "markdown",
   "id": "004e05fc-183f-4791-9a52-aee32f14c95e",
   "metadata": {},
   "source": [
    "# Datan lukeminen\n",
    "\n",
    "Pandas lukee ja kirjoittaa [useita tiedosto- ja tietokantaformaatteja](https://pandas.pydata.org/docs/user_guide/io.html). Jos datasi on jollain tapaa taulukoksi taipuvaa, on pandasilla oletettavasti sille tuki.\n",
    "\n",
    "## Tiedostopolut\n",
    "\n",
    "Jotta voimme tuoda dataa tiedostosta, täytyy ensin tietää tiedoston sijainti, eli polku (path). Kurssin datakansio sijaitsee `kurssimateriaali`-hakemiston alla. Suhteessa tähän notebookkiin tiedoston sijaintia voidaan kuvailla näin: yksi askel tiedostohierarkiassa ylöspäin, sitten hakemisto `data`, jonka sisällä tiedosto `lightnings.csv`.\n",
    "\n",
    "Kirjoitetaan nyt yllä sanoin kuvattu polku suhteelliseksi tiedostopoluksi, eli:\n",
    "\n",
    "```\n",
    "../data/lightnings.csv\n",
    "```\n",
    "\n",
    "Polun osat ovat:\n",
    "- `../` = yhtä ylemmän tason hakemisto suhteessa koodiin, tässä tapauksessa `kurssimateriaali`\n",
    "- `data/` = datakansio\n",
    "- `lightnings.csv` = tiedosto\n",
    "\n",
    "Pythonissa tiedostopolkujen käsittelyyn kannattaa käyttää pythonin oman `pathlib`-kirjaston `Path`-oliota. Näin mm. varmistamme, että polku toimii kaikilla käyttöjärjestelmillä."
   ]
  },
  {
   "cell_type": "code",
   "execution_count": 11,
   "id": "124a0575-c45e-481b-8b4c-246462045420",
   "metadata": {},
   "outputs": [],
   "source": [
    "from pathlib import Path\n",
    "\n",
    "file_path = Path(\"../data/lightnings.csv\")"
   ]
  },
  {
   "cell_type": "markdown",
   "id": "557c49b7-0d89-44e9-b478-beba28282286",
   "metadata": {},
   "source": [
    "Luetaan nyt `csv`-muotoista dataa tiedostosta `read_csv()`-metodilla. \n",
    "\n",
    "Koska kysessä on pandasin metodi, täytyy sitä kutsua luomamme `pd`-muuttujan kautta:"
   ]
  },
  {
   "cell_type": "code",
   "execution_count": 7,
   "id": "4ad9c1ee-721c-43c7-ba3d-09bbe47a5ceb",
   "metadata": {},
   "outputs": [],
   "source": [
    "lightnings = pd.read_csv(file_path)"
   ]
  },
  {
   "cell_type": "markdown",
   "id": "4e5617e4-960d-4ca0-b7ee-4dcb5dc88f1d",
   "metadata": {},
   "source": [
    "# DataFrame\n",
    "\n",
    "Äsken luodussa muuttujassa `lightnings` on nyt **DataFrame**, joka sisältää csv-tiedoston sisällön. DataFrame on  kaksiulotteinen tietorakenne, jossa on rivejä ja sarakkeita. DataFrame on pandasin keskeisin tietorakenne, ja tiedon \"säilömisen\" lisäksi se toteuttaa useita erilaisia metodeita tiedon käsittelyyn.\n",
    "\n",
    "Tutkitaan DataFramea tarkemmin:"
   ]
  },
  {
   "cell_type": "code",
   "execution_count": 12,
   "id": "3132d42b-7874-4ae9-8aa8-d2c3c9dd2c96",
   "metadata": {},
   "outputs": [
    {
     "data": {
      "text/html": [
       "<div>\n",
       "<style scoped>\n",
       "    .dataframe tbody tr th:only-of-type {\n",
       "        vertical-align: middle;\n",
       "    }\n",
       "\n",
       "    .dataframe tbody tr th {\n",
       "        vertical-align: top;\n",
       "    }\n",
       "\n",
       "    .dataframe thead th {\n",
       "        text-align: right;\n",
       "    }\n",
       "</style>\n",
       "<table border=\"1\" class=\"dataframe\">\n",
       "  <thead>\n",
       "    <tr style=\"text-align: right;\">\n",
       "      <th></th>\n",
       "      <th>time</th>\n",
       "      <th>peak_current</th>\n",
       "      <th>latitude</th>\n",
       "      <th>longitude</th>\n",
       "    </tr>\n",
       "  </thead>\n",
       "  <tbody>\n",
       "    <tr>\n",
       "      <th>0</th>\n",
       "      <td>1717200010</td>\n",
       "      <td>4.0</td>\n",
       "      <td>68.9186</td>\n",
       "      <td>22.1900</td>\n",
       "    </tr>\n",
       "    <tr>\n",
       "      <th>1</th>\n",
       "      <td>1717200010</td>\n",
       "      <td>5.0</td>\n",
       "      <td>68.8757</td>\n",
       "      <td>22.2367</td>\n",
       "    </tr>\n",
       "    <tr>\n",
       "      <th>2</th>\n",
       "      <td>1717200010</td>\n",
       "      <td>2.0</td>\n",
       "      <td>68.7596</td>\n",
       "      <td>22.2646</td>\n",
       "    </tr>\n",
       "    <tr>\n",
       "      <th>3</th>\n",
       "      <td>1717200011</td>\n",
       "      <td>1.0</td>\n",
       "      <td>68.7883</td>\n",
       "      <td>21.7543</td>\n",
       "    </tr>\n",
       "    <tr>\n",
       "      <th>4</th>\n",
       "      <td>1717200044</td>\n",
       "      <td>7.0</td>\n",
       "      <td>68.7939</td>\n",
       "      <td>21.3669</td>\n",
       "    </tr>\n",
       "    <tr>\n",
       "      <th>...</th>\n",
       "      <td>...</td>\n",
       "      <td>...</td>\n",
       "      <td>...</td>\n",
       "      <td>...</td>\n",
       "    </tr>\n",
       "    <tr>\n",
       "      <th>83461</th>\n",
       "      <td>1717286397</td>\n",
       "      <td>3.0</td>\n",
       "      <td>61.0853</td>\n",
       "      <td>22.0858</td>\n",
       "    </tr>\n",
       "    <tr>\n",
       "      <th>83462</th>\n",
       "      <td>1717286397</td>\n",
       "      <td>5.0</td>\n",
       "      <td>61.0973</td>\n",
       "      <td>22.0059</td>\n",
       "    </tr>\n",
       "    <tr>\n",
       "      <th>83463</th>\n",
       "      <td>1717286398</td>\n",
       "      <td>6.0</td>\n",
       "      <td>61.3490</td>\n",
       "      <td>23.5206</td>\n",
       "    </tr>\n",
       "    <tr>\n",
       "      <th>83464</th>\n",
       "      <td>1717286398</td>\n",
       "      <td>21.0</td>\n",
       "      <td>61.3403</td>\n",
       "      <td>23.5703</td>\n",
       "    </tr>\n",
       "    <tr>\n",
       "      <th>83465</th>\n",
       "      <td>1717286398</td>\n",
       "      <td>4.0</td>\n",
       "      <td>61.3476</td>\n",
       "      <td>23.4422</td>\n",
       "    </tr>\n",
       "  </tbody>\n",
       "</table>\n",
       "<p>83466 rows × 4 columns</p>\n",
       "</div>"
      ],
      "text/plain": [
       "             time  peak_current  latitude  longitude\n",
       "0      1717200010           4.0   68.9186    22.1900\n",
       "1      1717200010           5.0   68.8757    22.2367\n",
       "2      1717200010           2.0   68.7596    22.2646\n",
       "3      1717200011           1.0   68.7883    21.7543\n",
       "4      1717200044           7.0   68.7939    21.3669\n",
       "...           ...           ...       ...        ...\n",
       "83461  1717286397           3.0   61.0853    22.0858\n",
       "83462  1717286397           5.0   61.0973    22.0059\n",
       "83463  1717286398           6.0   61.3490    23.5206\n",
       "83464  1717286398          21.0   61.3403    23.5703\n",
       "83465  1717286398           4.0   61.3476    23.4422\n",
       "\n",
       "[83466 rows x 4 columns]"
      ]
     },
     "execution_count": 12,
     "metadata": {},
     "output_type": "execute_result"
    }
   ],
   "source": [
    "lightnings"
   ]
  },
  {
   "cell_type": "markdown",
   "id": "4533b63e-13f7-4385-b5b6-a280b12cda79",
   "metadata": {},
   "source": [
    "Jo ylle tulostuneesta DataFramen visuaalisesta estiyksestä voidaan nähdä paljon.\n",
    "- Montako saraketta aineistossa on?\n",
    "- Entä riviä?\n",
    "- Osaatko päätellä sarakkeiden sisällön tyyppejä?"
   ]
  },
  {
   "cell_type": "markdown",
   "id": "a8b3134f-4194-4008-8287-6a6c0c7b08a2",
   "metadata": {},
   "source": [
    "DataFramen `shape`-attribuutti kuvaa DataFramen muotoa, eli rivien ja sarakkeiden määrää:"
   ]
  },
  {
   "cell_type": "code",
   "execution_count": 18,
   "id": "1cae9430-a3d2-4a04-95b2-ffd715013754",
   "metadata": {},
   "outputs": [
    {
     "data": {
      "text/plain": [
       "(83466, 4)"
      ]
     },
     "execution_count": 18,
     "metadata": {},
     "output_type": "execute_result"
    }
   ],
   "source": [
    "lightnings.shape"
   ]
  },
  {
   "cell_type": "markdown",
   "id": "b950fabd-8969-4816-8f63-9dd746147b8b",
   "metadata": {},
   "source": [
    "Sarakkeisiin päästään käsiksi `columns` attribuutilla:"
   ]
  },
  {
   "cell_type": "code",
   "execution_count": 14,
   "id": "0767f85c-31dd-460e-959f-8a2bccf0f400",
   "metadata": {},
   "outputs": [
    {
     "data": {
      "text/plain": [
       "Index(['time', 'peak_current', 'latitude', 'longitude'], dtype='object')"
      ]
     },
     "execution_count": 14,
     "metadata": {},
     "output_type": "execute_result"
    }
   ],
   "source": [
    "lightnings.columns"
   ]
  },
  {
   "cell_type": "markdown",
   "id": "5afd52bb-6519-4aa0-a70e-d5613dcb4e4d",
   "metadata": {},
   "source": [
    "Listoillekkin toimiva `len`-funktio toimii myös DataFrameilla:"
   ]
  },
  {
   "cell_type": "code",
   "execution_count": 19,
   "id": "8011714c-d2fa-4bde-8c49-b525a28233e0",
   "metadata": {},
   "outputs": [
    {
     "data": {
      "text/plain": [
       "83466"
      ]
     },
     "execution_count": 19,
     "metadata": {},
     "output_type": "execute_result"
    }
   ],
   "source": [
    "len(lightnings)"
   ]
  },
  {
   "cell_type": "markdown",
   "id": "45925867-813e-4706-af72-fca8d9493227",
   "metadata": {},
   "source": [
    "# Datan valitseminen\n",
    "\n",
    "## Sarakkeiden valinta"
   ]
  },
  {
   "cell_type": "markdown",
   "id": "fa006c1b-5f34-4105-8a39-e3ac4940c90b",
   "metadata": {},
   "source": [
    "# Datan ryhmittely ja aikaleimat"
   ]
  }
 ],
 "metadata": {
  "kernelspec": {
   "display_name": "Python 3 (ipykernel)",
   "language": "python",
   "name": "python3"
  },
  "language_info": {
   "codemirror_mode": {
    "name": "ipython",
    "version": 3
   },
   "file_extension": ".py",
   "mimetype": "text/x-python",
   "name": "python",
   "nbconvert_exporter": "python",
   "pygments_lexer": "ipython3",
   "version": "3.12.7"
  }
 },
 "nbformat": 4,
 "nbformat_minor": 5
}
