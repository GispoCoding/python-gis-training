{
 "cells": [
  {
   "cell_type": "markdown",
   "id": "1abeb25c-f9bc-42e0-bb20-3464f9ca88c2",
   "metadata": {},
   "source": [
    "# Datan käsittely Pythonissa\n",
    "\n",
    "Python on monikäyttöinen ns. \"general-purpose\" ohjelmointikieli, jolla voidaan käsitellä melkeinpä mitä vain dataa monilla eri tavoilla. Tällä kurssilla aihetta käsitellään paikkatietonäkökulmasta, keskittyen ensisijaisesti kahdentyyppiseen dataan: taulukkomaisiin aineistoihin sekä vektorimuotoiseen paikkatietoon."
   ]
  },
  {
   "cell_type": "markdown",
   "id": "1756db75-c8ce-4a9b-98d3-eb85cbdeb74a",
   "metadata": {},
   "source": [
    "# pandas\n",
    "\n",
    "## Mitä ja miksi\n",
    "\n",
    "[Pandas](https://pandas.pydata.org/) on Python-kirjasto, joka on muodostunut jo standardiksi data-analytiikassa ja taulukkomaisten aineistojen käsittelyssä. Paikkatietonäkökulmasta Pandas on erityisen merkityksellinen siksi, että vektorimuotoisen paikkatiedon käsittelyssä laajasti käytetty [GeoPandas](https://geopandas.org/en/stable/)-kirjasto perustuu nimestäkin päätellen Pandasiin, täydentäen sitä tuella spatiaalisiin operaatioihin ja geometrisiin datatyyppeihin.\n",
    "\n",
    "Tässä osiossa käsitellään siis Pandasin perusteita, ja samalla vaivalla valmistaudutaan käyttämään GeoPandasia seuraavassa osassa.\n",
    "\n",
    "## Kirjaston käyttöönotto\n",
    "\n",
    "Koska pandas on Pythonin standardikirjaston ulkopuolinen kirjasto, täytyy se ottaa erikseen käyttöön. Koska olet kurssin python-ympäristössä, varsinainen asennus condalla on jo hoidettu (`conda install -c conda-forge pandas`). Näin ollen voit ottaa kirjaston suoraan käyttöön `import` avainsanalla. Huomaa, että on tavanomaista antaa pandas-kirjastolle nimeksi `pd`, kun se otetaan käyttöön."
   ]
  },
  {
   "cell_type": "code",
   "execution_count": 1,
   "id": "ba8b6365-0ce4-409c-87d5-421348dfe527",
   "metadata": {},
   "outputs": [],
   "source": [
    "import pandas as pd"
   ]
  },
  {
   "cell_type": "markdown",
   "id": "004e05fc-183f-4791-9a52-aee32f14c95e",
   "metadata": {},
   "source": [
    "# Datan lukeminen\n",
    "\n",
    "Pandas lukee ja kirjoittaa [useita tiedosto- ja tietokantaformaatteja](https://pandas.pydata.org/docs/user_guide/io.html). Jos datasi on jollain tapaa taulukoksi taipuvaa, on pandasilla oletettavasti sille tuki.\n",
    "\n",
    "## Tiedostopolut\n",
    "\n",
    "Jotta voimme tuoda dataa tiedostosta, täytyy ensin tietää tiedoston sijainti, eli polku (path). Kurssin datakansio sijaitsee `kurssimateriaali`-hakemiston alla. Suhteessa tähän notebookkiin tiedoston sijaintia voidaan kuvailla näin: yksi askel tiedostohierarkiassa ylöspäin, sitten hakemisto `data`, jonka sisällä tiedosto `lightnings.csv`.\n",
    "\n",
    "Kirjoitetaan nyt yllä sanoin kuvattu polku suhteelliseksi tiedostopoluksi, eli:\n",
    "\n",
    "```\n",
    "../data/lightnings.csv\n",
    "```\n",
    "\n",
    "Polun osat ovat:\n",
    "- `../` = yhtä ylemmän tason hakemisto suhteessa koodiin, tässä tapauksessa `kurssimateriaali`\n",
    "- `data/` = datakansio\n",
    "- `lightnings.csv` = tiedosto\n",
    "\n",
    "Pythonissa tiedostopolkujen käsittelyyn kannattaa käyttää pythonin oman `pathlib`-kirjaston `Path`-oliota. Näin mm. varmistamme, että polku toimii kaikilla käyttöjärjestelmillä."
   ]
  },
  {
   "cell_type": "code",
   "execution_count": 2,
   "id": "124a0575-c45e-481b-8b4c-246462045420",
   "metadata": {},
   "outputs": [],
   "source": [
    "from pathlib import Path\n",
    "\n",
    "file_path = Path(\"../data/lightnings.csv\")"
   ]
  },
  {
   "cell_type": "markdown",
   "id": "557c49b7-0d89-44e9-b478-beba28282286",
   "metadata": {},
   "source": [
    "Luetaan nyt `csv`-muotoista dataa tiedostosta `read_csv()`-metodilla. \n",
    "\n",
    "Koska kysessä on pandasin metodi, täytyy sitä kutsua luomamme `pd`-muuttujan kautta:"
   ]
  },
  {
   "cell_type": "code",
   "execution_count": 3,
   "id": "4ad9c1ee-721c-43c7-ba3d-09bbe47a5ceb",
   "metadata": {},
   "outputs": [],
   "source": [
    "lightnings = pd.read_csv(file_path)"
   ]
  },
  {
   "cell_type": "markdown",
   "id": "4e5617e4-960d-4ca0-b7ee-4dcb5dc88f1d",
   "metadata": {},
   "source": [
    "# DataFrame\n",
    "\n",
    "Äsken luodussa muuttujassa `lightnings` on nyt **DataFrame**, joka sisältää csv-tiedoston sisällön. Tässä tapauksessa kyseessä on otos Ilmatieteen laitoksen avointa dataa, tarkemmin sanottuna salamahavaintoja.\n",
    "\n",
    "DataFrame on  kaksiulotteinen tietorakenne, jossa on rivejä (row) ja sarakkeita (column). Se on pandasin keskeisin tietorakenne, ja tiedon \"säilömisen\" lisäksi se toteuttaa useita erilaisia metodeita tiedon käsittelyyn.\n",
    "\n",
    "Tutkitaan DataFramea tarkemmin:"
   ]
  },
  {
   "cell_type": "code",
   "execution_count": 4,
   "id": "a92cdad1-44f5-417b-ac9a-263681bdfc80",
   "metadata": {},
   "outputs": [
    {
     "data": {
      "text/plain": [
       "pandas.core.frame.DataFrame"
      ]
     },
     "execution_count": 4,
     "metadata": {},
     "output_type": "execute_result"
    }
   ],
   "source": [
    "type(lightnings)"
   ]
  },
  {
   "cell_type": "code",
   "execution_count": 5,
   "id": "3132d42b-7874-4ae9-8aa8-d2c3c9dd2c96",
   "metadata": {},
   "outputs": [
    {
     "data": {
      "text/html": [
       "<div>\n",
       "<style scoped>\n",
       "    .dataframe tbody tr th:only-of-type {\n",
       "        vertical-align: middle;\n",
       "    }\n",
       "\n",
       "    .dataframe tbody tr th {\n",
       "        vertical-align: top;\n",
       "    }\n",
       "\n",
       "    .dataframe thead th {\n",
       "        text-align: right;\n",
       "    }\n",
       "</style>\n",
       "<table border=\"1\" class=\"dataframe\">\n",
       "  <thead>\n",
       "    <tr style=\"text-align: right;\">\n",
       "      <th></th>\n",
       "      <th>time</th>\n",
       "      <th>abs_peak_current</th>\n",
       "      <th>latitude</th>\n",
       "      <th>longitude</th>\n",
       "    </tr>\n",
       "  </thead>\n",
       "  <tbody>\n",
       "    <tr>\n",
       "      <th>0</th>\n",
       "      <td>1717200010</td>\n",
       "      <td>4.0</td>\n",
       "      <td>68.9186</td>\n",
       "      <td>22.1900</td>\n",
       "    </tr>\n",
       "    <tr>\n",
       "      <th>1</th>\n",
       "      <td>1717200010</td>\n",
       "      <td>5.0</td>\n",
       "      <td>68.8757</td>\n",
       "      <td>22.2367</td>\n",
       "    </tr>\n",
       "    <tr>\n",
       "      <th>2</th>\n",
       "      <td>1717200010</td>\n",
       "      <td>2.0</td>\n",
       "      <td>68.7596</td>\n",
       "      <td>22.2646</td>\n",
       "    </tr>\n",
       "    <tr>\n",
       "      <th>3</th>\n",
       "      <td>1717200011</td>\n",
       "      <td>1.0</td>\n",
       "      <td>68.7883</td>\n",
       "      <td>21.7543</td>\n",
       "    </tr>\n",
       "    <tr>\n",
       "      <th>4</th>\n",
       "      <td>1717200044</td>\n",
       "      <td>7.0</td>\n",
       "      <td>68.7939</td>\n",
       "      <td>21.3669</td>\n",
       "    </tr>\n",
       "    <tr>\n",
       "      <th>...</th>\n",
       "      <td>...</td>\n",
       "      <td>...</td>\n",
       "      <td>...</td>\n",
       "      <td>...</td>\n",
       "    </tr>\n",
       "    <tr>\n",
       "      <th>83461</th>\n",
       "      <td>1717286397</td>\n",
       "      <td>3.0</td>\n",
       "      <td>61.0853</td>\n",
       "      <td>22.0858</td>\n",
       "    </tr>\n",
       "    <tr>\n",
       "      <th>83462</th>\n",
       "      <td>1717286397</td>\n",
       "      <td>5.0</td>\n",
       "      <td>61.0973</td>\n",
       "      <td>22.0059</td>\n",
       "    </tr>\n",
       "    <tr>\n",
       "      <th>83463</th>\n",
       "      <td>1717286398</td>\n",
       "      <td>6.0</td>\n",
       "      <td>61.3490</td>\n",
       "      <td>23.5206</td>\n",
       "    </tr>\n",
       "    <tr>\n",
       "      <th>83464</th>\n",
       "      <td>1717286398</td>\n",
       "      <td>21.0</td>\n",
       "      <td>61.3403</td>\n",
       "      <td>23.5703</td>\n",
       "    </tr>\n",
       "    <tr>\n",
       "      <th>83465</th>\n",
       "      <td>1717286398</td>\n",
       "      <td>4.0</td>\n",
       "      <td>61.3476</td>\n",
       "      <td>23.4422</td>\n",
       "    </tr>\n",
       "  </tbody>\n",
       "</table>\n",
       "<p>83466 rows × 4 columns</p>\n",
       "</div>"
      ],
      "text/plain": [
       "             time  abs_peak_current  latitude  longitude\n",
       "0      1717200010               4.0   68.9186    22.1900\n",
       "1      1717200010               5.0   68.8757    22.2367\n",
       "2      1717200010               2.0   68.7596    22.2646\n",
       "3      1717200011               1.0   68.7883    21.7543\n",
       "4      1717200044               7.0   68.7939    21.3669\n",
       "...           ...               ...       ...        ...\n",
       "83461  1717286397               3.0   61.0853    22.0858\n",
       "83462  1717286397               5.0   61.0973    22.0059\n",
       "83463  1717286398               6.0   61.3490    23.5206\n",
       "83464  1717286398              21.0   61.3403    23.5703\n",
       "83465  1717286398               4.0   61.3476    23.4422\n",
       "\n",
       "[83466 rows x 4 columns]"
      ]
     },
     "execution_count": 5,
     "metadata": {},
     "output_type": "execute_result"
    }
   ],
   "source": [
    "lightnings"
   ]
  },
  {
   "cell_type": "markdown",
   "id": "4533b63e-13f7-4385-b5b6-a280b12cda79",
   "metadata": {},
   "source": [
    "Jo ylle tulostuneesta DataFramen visuaalisesta estiyksestä voidaan nähdä paljon. Vaikuttaa siltä, että yksi rivi kuvaa yhtä salamahavaintoa. Jokaisesta havainnosta tiedetään aika, sähkövirran voimakkuus, sekä sijaintitieto (lat / lon)\n",
    "\n",
    "Näämme myös rivien määrän, ja voimme jo päätellä sarakkeiden sisällön tyyppejä."
   ]
  },
  {
   "cell_type": "markdown",
   "id": "a8b3134f-4194-4008-8287-6a6c0c7b08a2",
   "metadata": {},
   "source": [
    "DataFramen `shape`-attribuutti kuvaa DataFramen muotoa, eli rivien ja sarakkeiden määrää:"
   ]
  },
  {
   "cell_type": "code",
   "execution_count": 6,
   "id": "1cae9430-a3d2-4a04-95b2-ffd715013754",
   "metadata": {},
   "outputs": [
    {
     "data": {
      "text/plain": [
       "(83466, 4)"
      ]
     },
     "execution_count": 6,
     "metadata": {},
     "output_type": "execute_result"
    }
   ],
   "source": [
    "lightnings.shape"
   ]
  },
  {
   "cell_type": "markdown",
   "id": "b950fabd-8969-4816-8f63-9dd746147b8b",
   "metadata": {},
   "source": [
    "Sarakkeisiin päästään käsiksi `columns` attribuutilla:"
   ]
  },
  {
   "cell_type": "code",
   "execution_count": 7,
   "id": "0767f85c-31dd-460e-959f-8a2bccf0f400",
   "metadata": {},
   "outputs": [
    {
     "data": {
      "text/plain": [
       "Index(['time', 'abs_peak_current', 'latitude', 'longitude'], dtype='object')"
      ]
     },
     "execution_count": 7,
     "metadata": {},
     "output_type": "execute_result"
    }
   ],
   "source": [
    "lightnings.columns"
   ]
  },
  {
   "cell_type": "markdown",
   "id": "5afd52bb-6519-4aa0-a70e-d5613dcb4e4d",
   "metadata": {},
   "source": [
    "Listoillekkin toimiva `len`-funktio toimii myös DataFrameilla:"
   ]
  },
  {
   "cell_type": "code",
   "execution_count": 8,
   "id": "8011714c-d2fa-4bde-8c49-b525a28233e0",
   "metadata": {},
   "outputs": [
    {
     "data": {
      "text/plain": [
       "83466"
      ]
     },
     "execution_count": 8,
     "metadata": {},
     "output_type": "execute_result"
    }
   ],
   "source": [
    "len(lightnings)"
   ]
  },
  {
   "cell_type": "markdown",
   "id": "5a3549aa-4dcb-4c16-960f-6243ef1a6c82",
   "metadata": {},
   "source": [
    "Voit tutkia DataFramen alku- ja loppupäitä erikseen:"
   ]
  },
  {
   "cell_type": "code",
   "execution_count": 32,
   "id": "d7874c98-5480-42a5-96a9-dd6f67d8db9b",
   "metadata": {},
   "outputs": [
    {
     "data": {
      "text/html": [
       "<div>\n",
       "<style scoped>\n",
       "    .dataframe tbody tr th:only-of-type {\n",
       "        vertical-align: middle;\n",
       "    }\n",
       "\n",
       "    .dataframe tbody tr th {\n",
       "        vertical-align: top;\n",
       "    }\n",
       "\n",
       "    .dataframe thead th {\n",
       "        text-align: right;\n",
       "    }\n",
       "</style>\n",
       "<table border=\"1\" class=\"dataframe\">\n",
       "  <thead>\n",
       "    <tr style=\"text-align: right;\">\n",
       "      <th></th>\n",
       "      <th>time</th>\n",
       "      <th>abs_peak_current</th>\n",
       "      <th>latitude</th>\n",
       "      <th>longitude</th>\n",
       "    </tr>\n",
       "  </thead>\n",
       "  <tbody>\n",
       "    <tr>\n",
       "      <th>0</th>\n",
       "      <td>1717200010</td>\n",
       "      <td>4.0</td>\n",
       "      <td>68.9186</td>\n",
       "      <td>22.1900</td>\n",
       "    </tr>\n",
       "    <tr>\n",
       "      <th>1</th>\n",
       "      <td>1717200010</td>\n",
       "      <td>5.0</td>\n",
       "      <td>68.8757</td>\n",
       "      <td>22.2367</td>\n",
       "    </tr>\n",
       "    <tr>\n",
       "      <th>2</th>\n",
       "      <td>1717200010</td>\n",
       "      <td>2.0</td>\n",
       "      <td>68.7596</td>\n",
       "      <td>22.2646</td>\n",
       "    </tr>\n",
       "    <tr>\n",
       "      <th>3</th>\n",
       "      <td>1717200011</td>\n",
       "      <td>1.0</td>\n",
       "      <td>68.7883</td>\n",
       "      <td>21.7543</td>\n",
       "    </tr>\n",
       "    <tr>\n",
       "      <th>4</th>\n",
       "      <td>1717200044</td>\n",
       "      <td>7.0</td>\n",
       "      <td>68.7939</td>\n",
       "      <td>21.3669</td>\n",
       "    </tr>\n",
       "  </tbody>\n",
       "</table>\n",
       "</div>"
      ],
      "text/plain": [
       "         time  abs_peak_current  latitude  longitude\n",
       "0  1717200010               4.0   68.9186    22.1900\n",
       "1  1717200010               5.0   68.8757    22.2367\n",
       "2  1717200010               2.0   68.7596    22.2646\n",
       "3  1717200011               1.0   68.7883    21.7543\n",
       "4  1717200044               7.0   68.7939    21.3669"
      ]
     },
     "execution_count": 32,
     "metadata": {},
     "output_type": "execute_result"
    }
   ],
   "source": [
    "lightnings.head()"
   ]
  },
  {
   "cell_type": "code",
   "execution_count": 33,
   "id": "38342889-b18e-401d-acff-06b193d985b7",
   "metadata": {},
   "outputs": [
    {
     "data": {
      "text/html": [
       "<div>\n",
       "<style scoped>\n",
       "    .dataframe tbody tr th:only-of-type {\n",
       "        vertical-align: middle;\n",
       "    }\n",
       "\n",
       "    .dataframe tbody tr th {\n",
       "        vertical-align: top;\n",
       "    }\n",
       "\n",
       "    .dataframe thead th {\n",
       "        text-align: right;\n",
       "    }\n",
       "</style>\n",
       "<table border=\"1\" class=\"dataframe\">\n",
       "  <thead>\n",
       "    <tr style=\"text-align: right;\">\n",
       "      <th></th>\n",
       "      <th>time</th>\n",
       "      <th>abs_peak_current</th>\n",
       "      <th>latitude</th>\n",
       "      <th>longitude</th>\n",
       "    </tr>\n",
       "  </thead>\n",
       "  <tbody>\n",
       "    <tr>\n",
       "      <th>83463</th>\n",
       "      <td>1717286398</td>\n",
       "      <td>6.0</td>\n",
       "      <td>61.3490</td>\n",
       "      <td>23.5206</td>\n",
       "    </tr>\n",
       "    <tr>\n",
       "      <th>83464</th>\n",
       "      <td>1717286398</td>\n",
       "      <td>21.0</td>\n",
       "      <td>61.3403</td>\n",
       "      <td>23.5703</td>\n",
       "    </tr>\n",
       "    <tr>\n",
       "      <th>83465</th>\n",
       "      <td>1717286398</td>\n",
       "      <td>4.0</td>\n",
       "      <td>61.3476</td>\n",
       "      <td>23.4422</td>\n",
       "    </tr>\n",
       "  </tbody>\n",
       "</table>\n",
       "</div>"
      ],
      "text/plain": [
       "             time  abs_peak_current  latitude  longitude\n",
       "83463  1717286398               6.0   61.3490    23.5206\n",
       "83464  1717286398              21.0   61.3403    23.5703\n",
       "83465  1717286398               4.0   61.3476    23.4422"
      ]
     },
     "execution_count": 33,
     "metadata": {},
     "output_type": "execute_result"
    }
   ],
   "source": [
    "lightnings.tail(3)"
   ]
  },
  {
   "cell_type": "markdown",
   "id": "91514c5d-4bcd-4366-a919-654cfd3b19bb",
   "metadata": {},
   "source": [
    "Tilastollisia tunnuslukuja saadaan `describe`-metodilla:"
   ]
  },
  {
   "cell_type": "code",
   "execution_count": 17,
   "id": "9cdc7594-173a-4bc1-9b44-203963af7f8e",
   "metadata": {},
   "outputs": [
    {
     "data": {
      "text/html": [
       "<div>\n",
       "<style scoped>\n",
       "    .dataframe tbody tr th:only-of-type {\n",
       "        vertical-align: middle;\n",
       "    }\n",
       "\n",
       "    .dataframe tbody tr th {\n",
       "        vertical-align: top;\n",
       "    }\n",
       "\n",
       "    .dataframe thead th {\n",
       "        text-align: right;\n",
       "    }\n",
       "</style>\n",
       "<table border=\"1\" class=\"dataframe\">\n",
       "  <thead>\n",
       "    <tr style=\"text-align: right;\">\n",
       "      <th></th>\n",
       "      <th>time</th>\n",
       "      <th>abs_peak_current</th>\n",
       "      <th>latitude</th>\n",
       "      <th>longitude</th>\n",
       "    </tr>\n",
       "  </thead>\n",
       "  <tbody>\n",
       "    <tr>\n",
       "      <th>count</th>\n",
       "      <td>8.346600e+04</td>\n",
       "      <td>83466.000000</td>\n",
       "      <td>83466.000000</td>\n",
       "      <td>83466.000000</td>\n",
       "    </tr>\n",
       "    <tr>\n",
       "      <th>mean</th>\n",
       "      <td>1.717241e+09</td>\n",
       "      <td>7.005775</td>\n",
       "      <td>63.114014</td>\n",
       "      <td>25.430464</td>\n",
       "    </tr>\n",
       "    <tr>\n",
       "      <th>std</th>\n",
       "      <td>1.301645e+04</td>\n",
       "      <td>7.495004</td>\n",
       "      <td>2.444437</td>\n",
       "      <td>2.327215</td>\n",
       "    </tr>\n",
       "    <tr>\n",
       "      <th>min</th>\n",
       "      <td>1.717200e+09</td>\n",
       "      <td>1.000000</td>\n",
       "      <td>59.825900</td>\n",
       "      <td>19.603300</td>\n",
       "    </tr>\n",
       "    <tr>\n",
       "      <th>25%</th>\n",
       "      <td>1.717233e+09</td>\n",
       "      <td>3.000000</td>\n",
       "      <td>61.106825</td>\n",
       "      <td>23.480750</td>\n",
       "    </tr>\n",
       "    <tr>\n",
       "      <th>50%</th>\n",
       "      <td>1.717240e+09</td>\n",
       "      <td>5.000000</td>\n",
       "      <td>62.624150</td>\n",
       "      <td>25.213400</td>\n",
       "    </tr>\n",
       "    <tr>\n",
       "      <th>75%</th>\n",
       "      <td>1.717247e+09</td>\n",
       "      <td>8.000000</td>\n",
       "      <td>63.902000</td>\n",
       "      <td>27.405250</td>\n",
       "    </tr>\n",
       "    <tr>\n",
       "      <th>max</th>\n",
       "      <td>1.717286e+09</td>\n",
       "      <td>214.000000</td>\n",
       "      <td>69.256900</td>\n",
       "      <td>31.467600</td>\n",
       "    </tr>\n",
       "  </tbody>\n",
       "</table>\n",
       "</div>"
      ],
      "text/plain": [
       "               time  abs_peak_current      latitude     longitude\n",
       "count  8.346600e+04      83466.000000  83466.000000  83466.000000\n",
       "mean   1.717241e+09          7.005775     63.114014     25.430464\n",
       "std    1.301645e+04          7.495004      2.444437      2.327215\n",
       "min    1.717200e+09          1.000000     59.825900     19.603300\n",
       "25%    1.717233e+09          3.000000     61.106825     23.480750\n",
       "50%    1.717240e+09          5.000000     62.624150     25.213400\n",
       "75%    1.717247e+09          8.000000     63.902000     27.405250\n",
       "max    1.717286e+09        214.000000     69.256900     31.467600"
      ]
     },
     "execution_count": 17,
     "metadata": {},
     "output_type": "execute_result"
    }
   ],
   "source": [
    "lightnings.describe()"
   ]
  },
  {
   "cell_type": "markdown",
   "id": "45925867-813e-4706-af72-fca8d9493227",
   "metadata": {},
   "source": [
    "# Datan valitseminen\n",
    "\n",
    "## Sarakkeet\n",
    "\n",
    "Yksi tyypillisimmistä tehtävistä taulukkomaisen datan käsittelyssä on eri sarakkeiden tai rivien valitseminen. Aloitetaan sarakkeista.\n",
    "\n",
    "DataFramen sarakkeita voit valita laittamalla sarakkeen nimen hakasulkuihin DataFramen perään:"
   ]
  },
  {
   "cell_type": "code",
   "execution_count": 25,
   "id": "93797cfe-4ecc-4d0d-a5fd-0cd2256edf45",
   "metadata": {},
   "outputs": [
    {
     "data": {
      "text/plain": [
       "0         4.0\n",
       "1         5.0\n",
       "2         2.0\n",
       "3         1.0\n",
       "4         7.0\n",
       "         ... \n",
       "83461     3.0\n",
       "83462     5.0\n",
       "83463     6.0\n",
       "83464    21.0\n",
       "83465     4.0\n",
       "Name: abs_peak_current, Length: 83466, dtype: float64"
      ]
     },
     "execution_count": 25,
     "metadata": {},
     "output_type": "execute_result"
    }
   ],
   "source": [
    "column = lightnings[\"abs_peak_current\"]\n",
    "column"
   ]
  },
  {
   "cell_type": "markdown",
   "id": "a3ad7c8c-3d07-42b4-a567-96507ef3b24d",
   "metadata": {},
   "source": [
    "Tuloste näyttää nyt eriltä kuin ennen. Tutkitaan asiaa `type`-funktiolla:"
   ]
  },
  {
   "cell_type": "code",
   "execution_count": 10,
   "id": "4427e052-cf9a-4d63-ab39-b4ca5e518d50",
   "metadata": {},
   "outputs": [
    {
     "data": {
      "text/plain": [
       "pandas.core.series.Series"
      ]
     },
     "execution_count": 10,
     "metadata": {},
     "output_type": "execute_result"
    }
   ],
   "source": [
    "type(column)"
   ]
  },
  {
   "cell_type": "markdown",
   "id": "bba4b9cc-b9e5-4370-b023-c5c522fa1bf9",
   "metadata": {},
   "source": [
    "Pandasissa yksittäiset rivit ja sarakkeet ovat tyypiltään **Series**.\n",
    "\n",
    "Pandasin käytössä teknisiä yksityiskohtia ei tarvitse ymmärtää syvällisesti - esimerkiksi Seriesistä riittää tietää, että se on ikäänkuin pandasin oma optimoitu versio listasta. Series esimerkiksi sisältää indeksin sekä tekee datatyyppien perusteella automaattisesti suorituskykyoptimointeja.\n",
    "\n",
    "Series ei kuitenkaan toteuta yhtä laajoja toiminnallisuuksia kuin DataFrame. Usein halutaankin nimenomaan valita yksittäisten Seriesien sijaan otos DataFramesta uutena DataFramena. Se tapahtuu samaan tapaan - ainoa muutos on, että halutut sarakkeet annetaan listana:"
   ]
  },
  {
   "cell_type": "code",
   "execution_count": 22,
   "id": "b8908a34-c832-42e1-a320-5b3783b0ad8e",
   "metadata": {},
   "outputs": [
    {
     "data": {
      "text/html": [
       "<div>\n",
       "<style scoped>\n",
       "    .dataframe tbody tr th:only-of-type {\n",
       "        vertical-align: middle;\n",
       "    }\n",
       "\n",
       "    .dataframe tbody tr th {\n",
       "        vertical-align: top;\n",
       "    }\n",
       "\n",
       "    .dataframe thead th {\n",
       "        text-align: right;\n",
       "    }\n",
       "</style>\n",
       "<table border=\"1\" class=\"dataframe\">\n",
       "  <thead>\n",
       "    <tr style=\"text-align: right;\">\n",
       "      <th></th>\n",
       "      <th>abs_peak_current</th>\n",
       "    </tr>\n",
       "  </thead>\n",
       "  <tbody>\n",
       "    <tr>\n",
       "      <th>0</th>\n",
       "      <td>4.0</td>\n",
       "    </tr>\n",
       "    <tr>\n",
       "      <th>1</th>\n",
       "      <td>5.0</td>\n",
       "    </tr>\n",
       "    <tr>\n",
       "      <th>2</th>\n",
       "      <td>2.0</td>\n",
       "    </tr>\n",
       "    <tr>\n",
       "      <th>3</th>\n",
       "      <td>1.0</td>\n",
       "    </tr>\n",
       "    <tr>\n",
       "      <th>4</th>\n",
       "      <td>7.0</td>\n",
       "    </tr>\n",
       "    <tr>\n",
       "      <th>...</th>\n",
       "      <td>...</td>\n",
       "    </tr>\n",
       "    <tr>\n",
       "      <th>83461</th>\n",
       "      <td>3.0</td>\n",
       "    </tr>\n",
       "    <tr>\n",
       "      <th>83462</th>\n",
       "      <td>5.0</td>\n",
       "    </tr>\n",
       "    <tr>\n",
       "      <th>83463</th>\n",
       "      <td>6.0</td>\n",
       "    </tr>\n",
       "    <tr>\n",
       "      <th>83464</th>\n",
       "      <td>21.0</td>\n",
       "    </tr>\n",
       "    <tr>\n",
       "      <th>83465</th>\n",
       "      <td>4.0</td>\n",
       "    </tr>\n",
       "  </tbody>\n",
       "</table>\n",
       "<p>83466 rows × 1 columns</p>\n",
       "</div>"
      ],
      "text/plain": [
       "       abs_peak_current\n",
       "0                   4.0\n",
       "1                   5.0\n",
       "2                   2.0\n",
       "3                   1.0\n",
       "4                   7.0\n",
       "...                 ...\n",
       "83461               3.0\n",
       "83462               5.0\n",
       "83463               6.0\n",
       "83464              21.0\n",
       "83465               4.0\n",
       "\n",
       "[83466 rows x 1 columns]"
      ]
     },
     "execution_count": 22,
     "metadata": {},
     "output_type": "execute_result"
    }
   ],
   "source": [
    "lightnings[[\"abs_peak_current\"]]"
   ]
  },
  {
   "cell_type": "code",
   "execution_count": 34,
   "id": "34af33e7-9d42-4752-87d8-008432a930a2",
   "metadata": {},
   "outputs": [
    {
     "data": {
      "text/html": [
       "<div>\n",
       "<style scoped>\n",
       "    .dataframe tbody tr th:only-of-type {\n",
       "        vertical-align: middle;\n",
       "    }\n",
       "\n",
       "    .dataframe tbody tr th {\n",
       "        vertical-align: top;\n",
       "    }\n",
       "\n",
       "    .dataframe thead th {\n",
       "        text-align: right;\n",
       "    }\n",
       "</style>\n",
       "<table border=\"1\" class=\"dataframe\">\n",
       "  <thead>\n",
       "    <tr style=\"text-align: right;\">\n",
       "      <th></th>\n",
       "      <th>abs_peak_current</th>\n",
       "      <th>latitude</th>\n",
       "    </tr>\n",
       "  </thead>\n",
       "  <tbody>\n",
       "    <tr>\n",
       "      <th>0</th>\n",
       "      <td>4.0</td>\n",
       "      <td>68.9186</td>\n",
       "    </tr>\n",
       "    <tr>\n",
       "      <th>1</th>\n",
       "      <td>5.0</td>\n",
       "      <td>68.8757</td>\n",
       "    </tr>\n",
       "    <tr>\n",
       "      <th>2</th>\n",
       "      <td>2.0</td>\n",
       "      <td>68.7596</td>\n",
       "    </tr>\n",
       "    <tr>\n",
       "      <th>3</th>\n",
       "      <td>1.0</td>\n",
       "      <td>68.7883</td>\n",
       "    </tr>\n",
       "    <tr>\n",
       "      <th>4</th>\n",
       "      <td>7.0</td>\n",
       "      <td>68.7939</td>\n",
       "    </tr>\n",
       "  </tbody>\n",
       "</table>\n",
       "</div>"
      ],
      "text/plain": [
       "   abs_peak_current  latitude\n",
       "0               4.0   68.9186\n",
       "1               5.0   68.8757\n",
       "2               2.0   68.7596\n",
       "3               1.0   68.7883\n",
       "4               7.0   68.7939"
      ]
     },
     "execution_count": 34,
     "metadata": {},
     "output_type": "execute_result"
    }
   ],
   "source": [
    "lightnings[[\"abs_peak_current\", \"latitude\"]].head()"
   ]
  },
  {
   "cell_type": "code",
   "execution_count": 16,
   "id": "9b4fae7c-1b1a-47e1-980b-bf46112bd378",
   "metadata": {},
   "outputs": [
    {
     "data": {
      "text/plain": [
       "pandas.core.frame.DataFrame"
      ]
     },
     "execution_count": 16,
     "metadata": {},
     "output_type": "execute_result"
    }
   ],
   "source": [
    "type(lightnings[[\"abs_peak_current\"]])"
   ]
  },
  {
   "cell_type": "markdown",
   "id": "46c853e1-4972-43ed-8bdf-38661163e494",
   "metadata": {},
   "source": [
    "## Harjoitus - Sarakkeiden valinta\n",
    "\n",
    "Tässä osassa emme tarvitse vielä sijaintitietoja. Tee siis `lightnings` Dataframesta versio, jossa ei ole `latitude` ja `longitude`-sarakkeita.\n",
    "\n",
    "1. Muodosta lista sarakkeista, jotka haluat valita\n",
    "2. Valitse sarakkeet käyttämällä listaa\n",
    "3. Kun tulos näyttää hyvältä, voit ylikirjoittaa `lightnings`-muuttujan uudella DataFramellasi"
   ]
  },
  {
   "cell_type": "code",
   "execution_count": 12,
   "id": "0ae508dc-acf4-4cae-96b7-6fdc99df5809",
   "metadata": {},
   "outputs": [],
   "source": [
    "# Kirjoita Ratkaisu\n"
   ]
  },
  {
   "cell_type": "markdown",
   "id": "30aee686-3b0c-4e59-9ab2-be851ca376dd",
   "metadata": {},
   "source": [
    "# Rivit"
   ]
  },
  {
   "cell_type": "markdown",
   "id": "fa006c1b-5f34-4105-8a39-e3ac4940c90b",
   "metadata": {},
   "source": [
    "# Datan ryhmittely ja aikaleimat"
   ]
  },
  {
   "cell_type": "code",
   "execution_count": null,
   "id": "42974343-6c80-4140-9bc4-1d38373b6cf7",
   "metadata": {},
   "outputs": [],
   "source": []
  },
  {
   "cell_type": "code",
   "execution_count": null,
   "id": "c93b440a-9441-4eab-a2e2-7c95b69485b2",
   "metadata": {},
   "outputs": [],
   "source": []
  }
 ],
 "metadata": {
  "kernelspec": {
   "display_name": "Python 3 (ipykernel)",
   "language": "python",
   "name": "python3"
  },
  "language_info": {
   "codemirror_mode": {
    "name": "ipython",
    "version": 3
   },
   "file_extension": ".py",
   "mimetype": "text/x-python",
   "name": "python",
   "nbconvert_exporter": "python",
   "pygments_lexer": "ipython3",
   "version": "3.12.7"
  }
 },
 "nbformat": 4,
 "nbformat_minor": 5
}
